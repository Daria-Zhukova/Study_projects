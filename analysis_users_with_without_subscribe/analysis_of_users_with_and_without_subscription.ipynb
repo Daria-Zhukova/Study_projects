{
 "cells": [
  {
   "cell_type": "markdown",
   "id": "48d4f6bb",
   "metadata": {},
   "source": [
    "# Анализ данных о пользователях с подпиской и без"
   ]
  },
  {
   "cell_type": "markdown",
   "id": "35daea1c",
   "metadata": {},
   "source": [
    "Мы имеем данные о поездках пользователей с подпиской и без. Наша задача проанализировать данные и проверить гипотезы, которые помогут принять решения для развития бизнеса.\n",
    "\n",
    "Мы предобработаем данные: избавимся от пропусков, дубликатов и выбросов, если они есть. Исследуем данные о пользователях, проверим гипотезы о пользователях с подпиской и сформулируем ввод о действиях для роста бизнеса.\n",
    "\n",
    "У нас данные о пользователях приложения аренды самокатов.\n",
    "\n",
    "Сервисом можно пользоваться:\n",
    " - без подписки\n",
    "   - абонентская плата отсутствует;\n",
    "   - стоимость одной минуты поездки 8 рублей;\n",
    "   - стоимость старта (начала поездки) 50 рублей;\n",
    " - с подпиской Ultra\n",
    "   - абонентская плата 199 рублей в месяц;\n",
    "   - стоимость одной минуты поездки 6 рублей;\n",
    "   - стоимость старта — бесплатно."
   ]
  },
  {
   "cell_type": "code",
   "execution_count": 3,
   "id": "72576667",
   "metadata": {},
   "outputs": [],
   "source": [
    "#импорт библиотек\n",
    "import pandas as pd\n",
    "import matplotlib.pyplot as plt\n",
    "import numpy as np\n",
    "from scipy import stats as st\n",
    "from scipy.stats import binom, norm\n",
    "from math import sqrt"
   ]
  },
  {
   "cell_type": "markdown",
   "id": "c42cbe00",
   "metadata": {},
   "source": [
    "## Загрузка данных"
   ]
  },
  {
   "cell_type": "code",
   "execution_count": 5,
   "id": "eff9f206",
   "metadata": {},
   "outputs": [
    {
     "data": {
      "text/html": [
       "<div>\n",
       "<style scoped>\n",
       "    .dataframe tbody tr th:only-of-type {\n",
       "        vertical-align: middle;\n",
       "    }\n",
       "\n",
       "    .dataframe tbody tr th {\n",
       "        vertical-align: top;\n",
       "    }\n",
       "\n",
       "    .dataframe thead th {\n",
       "        text-align: right;\n",
       "    }\n",
       "</style>\n",
       "<table border=\"1\" class=\"dataframe\">\n",
       "  <thead>\n",
       "    <tr style=\"text-align: right;\">\n",
       "      <th></th>\n",
       "      <th>user_id</th>\n",
       "      <th>name</th>\n",
       "      <th>age</th>\n",
       "      <th>city</th>\n",
       "      <th>subscription_type</th>\n",
       "    </tr>\n",
       "  </thead>\n",
       "  <tbody>\n",
       "    <tr>\n",
       "      <th>0</th>\n",
       "      <td>1</td>\n",
       "      <td>Кира</td>\n",
       "      <td>22</td>\n",
       "      <td>Тюмень</td>\n",
       "      <td>ultra</td>\n",
       "    </tr>\n",
       "    <tr>\n",
       "      <th>1</th>\n",
       "      <td>2</td>\n",
       "      <td>Станислав</td>\n",
       "      <td>31</td>\n",
       "      <td>Омск</td>\n",
       "      <td>ultra</td>\n",
       "    </tr>\n",
       "    <tr>\n",
       "      <th>2</th>\n",
       "      <td>3</td>\n",
       "      <td>Алексей</td>\n",
       "      <td>20</td>\n",
       "      <td>Москва</td>\n",
       "      <td>ultra</td>\n",
       "    </tr>\n",
       "    <tr>\n",
       "      <th>3</th>\n",
       "      <td>4</td>\n",
       "      <td>Константин</td>\n",
       "      <td>26</td>\n",
       "      <td>Ростов-на-Дону</td>\n",
       "      <td>ultra</td>\n",
       "    </tr>\n",
       "    <tr>\n",
       "      <th>4</th>\n",
       "      <td>5</td>\n",
       "      <td>Адель</td>\n",
       "      <td>28</td>\n",
       "      <td>Омск</td>\n",
       "      <td>ultra</td>\n",
       "    </tr>\n",
       "  </tbody>\n",
       "</table>\n",
       "</div>"
      ],
      "text/plain": [
       "   user_id        name  age            city subscription_type\n",
       "0        1        Кира   22          Тюмень             ultra\n",
       "1        2   Станислав   31            Омск             ultra\n",
       "2        3     Алексей   20          Москва             ultra\n",
       "3        4  Константин   26  Ростов-на-Дону             ultra\n",
       "4        5       Адель   28            Омск             ultra"
      ]
     },
     "metadata": {},
     "output_type": "display_data"
    },
    {
     "data": {
      "text/html": [
       "<div>\n",
       "<style scoped>\n",
       "    .dataframe tbody tr th:only-of-type {\n",
       "        vertical-align: middle;\n",
       "    }\n",
       "\n",
       "    .dataframe tbody tr th {\n",
       "        vertical-align: top;\n",
       "    }\n",
       "\n",
       "    .dataframe thead th {\n",
       "        text-align: right;\n",
       "    }\n",
       "</style>\n",
       "<table border=\"1\" class=\"dataframe\">\n",
       "  <thead>\n",
       "    <tr style=\"text-align: right;\">\n",
       "      <th></th>\n",
       "      <th>user_id</th>\n",
       "      <th>distance</th>\n",
       "      <th>duration</th>\n",
       "      <th>date</th>\n",
       "    </tr>\n",
       "  </thead>\n",
       "  <tbody>\n",
       "    <tr>\n",
       "      <th>0</th>\n",
       "      <td>1</td>\n",
       "      <td>4409.919140</td>\n",
       "      <td>25.599769</td>\n",
       "      <td>2021-01-01</td>\n",
       "    </tr>\n",
       "    <tr>\n",
       "      <th>1</th>\n",
       "      <td>1</td>\n",
       "      <td>2617.592153</td>\n",
       "      <td>15.816871</td>\n",
       "      <td>2021-01-18</td>\n",
       "    </tr>\n",
       "    <tr>\n",
       "      <th>2</th>\n",
       "      <td>1</td>\n",
       "      <td>754.159807</td>\n",
       "      <td>6.232113</td>\n",
       "      <td>2021-04-20</td>\n",
       "    </tr>\n",
       "    <tr>\n",
       "      <th>3</th>\n",
       "      <td>1</td>\n",
       "      <td>2694.783254</td>\n",
       "      <td>18.511000</td>\n",
       "      <td>2021-08-11</td>\n",
       "    </tr>\n",
       "    <tr>\n",
       "      <th>4</th>\n",
       "      <td>1</td>\n",
       "      <td>4028.687306</td>\n",
       "      <td>26.265803</td>\n",
       "      <td>2021-08-28</td>\n",
       "    </tr>\n",
       "  </tbody>\n",
       "</table>\n",
       "</div>"
      ],
      "text/plain": [
       "   user_id     distance   duration        date\n",
       "0        1  4409.919140  25.599769  2021-01-01\n",
       "1        1  2617.592153  15.816871  2021-01-18\n",
       "2        1   754.159807   6.232113  2021-04-20\n",
       "3        1  2694.783254  18.511000  2021-08-11\n",
       "4        1  4028.687306  26.265803  2021-08-28"
      ]
     },
     "metadata": {},
     "output_type": "display_data"
    },
    {
     "data": {
      "text/html": [
       "<div>\n",
       "<style scoped>\n",
       "    .dataframe tbody tr th:only-of-type {\n",
       "        vertical-align: middle;\n",
       "    }\n",
       "\n",
       "    .dataframe tbody tr th {\n",
       "        vertical-align: top;\n",
       "    }\n",
       "\n",
       "    .dataframe thead th {\n",
       "        text-align: right;\n",
       "    }\n",
       "</style>\n",
       "<table border=\"1\" class=\"dataframe\">\n",
       "  <thead>\n",
       "    <tr style=\"text-align: right;\">\n",
       "      <th></th>\n",
       "      <th>subscription_type</th>\n",
       "      <th>minute_price</th>\n",
       "      <th>start_ride_price</th>\n",
       "      <th>subscription_fee</th>\n",
       "    </tr>\n",
       "  </thead>\n",
       "  <tbody>\n",
       "    <tr>\n",
       "      <th>0</th>\n",
       "      <td>free</td>\n",
       "      <td>8</td>\n",
       "      <td>50</td>\n",
       "      <td>0</td>\n",
       "    </tr>\n",
       "    <tr>\n",
       "      <th>1</th>\n",
       "      <td>ultra</td>\n",
       "      <td>6</td>\n",
       "      <td>0</td>\n",
       "      <td>199</td>\n",
       "    </tr>\n",
       "  </tbody>\n",
       "</table>\n",
       "</div>"
      ],
      "text/plain": [
       "  subscription_type  minute_price  start_ride_price  subscription_fee\n",
       "0              free             8                50                 0\n",
       "1             ultra             6                 0               199"
      ]
     },
     "metadata": {},
     "output_type": "display_data"
    }
   ],
   "source": [
    "users = pd.read_csv('/users_go.csv')\n",
    "rides = pd.read_csv('/rides_go.csv')\n",
    "subscriptions = pd.read_csv('/subscriptions_go.csv')\n",
    "display(users.head())\n",
    "display(rides.head())\n",
    "display(subscriptions)"
   ]
  },
  {
   "cell_type": "markdown",
   "id": "17aaa74b",
   "metadata": {},
   "source": [
    "**Описание данных**\n",
    "\n",
    "У нас три таблицы с данными о пользователях, их поездках и подписках.\n",
    "\n",
    "**Пользователи — users_go.csv**\n",
    "- user_id\t- уникальный идентификатор пользователя\n",
    "- name\t- имя пользователя\n",
    "- age\t- возраст\n",
    "- city\t- город\n",
    "- subscription_type\t- тип подписки (free, ultra)\n",
    "\n",
    "**Поездки — rides_go.csv**\n",
    "- user_id\t- уникальный идентификатор пользователя\n",
    "- distance\t- расстояние, которое пользователь проехал в текущей сессии (в метрах)\n",
    "- duration\t- продолжительность сессии (в минутах)\n",
    "- date\t- дата поездки\n",
    "\n",
    "**Подписки — subscriptions_go.csv**\n",
    "- subscription_type -\tтип подписки\n",
    "- minute_price\t- стоимость одной минуты поездки\n",
    "- start_ride_price\t- стоимость начала поездки\n",
    "- subscription_fee\t- стоимость ежемесячного платежа"
   ]
  },
  {
   "cell_type": "code",
   "execution_count": 7,
   "id": "f131950e",
   "metadata": {},
   "outputs": [
    {
     "name": "stdout",
     "output_type": "stream",
     "text": [
      "<class 'pandas.core.frame.DataFrame'>\n",
      "RangeIndex: 1565 entries, 0 to 1564\n",
      "Data columns (total 5 columns):\n",
      " #   Column             Non-Null Count  Dtype \n",
      "---  ------             --------------  ----- \n",
      " 0   user_id            1565 non-null   int64 \n",
      " 1   name               1565 non-null   object\n",
      " 2   age                1565 non-null   int64 \n",
      " 3   city               1565 non-null   object\n",
      " 4   subscription_type  1565 non-null   object\n",
      "dtypes: int64(2), object(3)\n",
      "memory usage: 61.3+ KB\n"
     ]
    },
    {
     "data": {
      "text/plain": [
       "None"
      ]
     },
     "metadata": {},
     "output_type": "display_data"
    },
    {
     "name": "stdout",
     "output_type": "stream",
     "text": [
      "<class 'pandas.core.frame.DataFrame'>\n",
      "RangeIndex: 18068 entries, 0 to 18067\n",
      "Data columns (total 4 columns):\n",
      " #   Column    Non-Null Count  Dtype  \n",
      "---  ------    --------------  -----  \n",
      " 0   user_id   18068 non-null  int64  \n",
      " 1   distance  18068 non-null  float64\n",
      " 2   duration  18068 non-null  float64\n",
      " 3   date      18068 non-null  object \n",
      "dtypes: float64(2), int64(1), object(1)\n",
      "memory usage: 564.8+ KB\n"
     ]
    },
    {
     "data": {
      "text/plain": [
       "None"
      ]
     },
     "metadata": {},
     "output_type": "display_data"
    },
    {
     "name": "stdout",
     "output_type": "stream",
     "text": [
      "<class 'pandas.core.frame.DataFrame'>\n",
      "RangeIndex: 2 entries, 0 to 1\n",
      "Data columns (total 4 columns):\n",
      " #   Column             Non-Null Count  Dtype \n",
      "---  ------             --------------  ----- \n",
      " 0   subscription_type  2 non-null      object\n",
      " 1   minute_price       2 non-null      int64 \n",
      " 2   start_ride_price   2 non-null      int64 \n",
      " 3   subscription_fee   2 non-null      int64 \n",
      "dtypes: int64(3), object(1)\n",
      "memory usage: 196.0+ bytes\n"
     ]
    },
    {
     "data": {
      "text/plain": [
       "None"
      ]
     },
     "metadata": {},
     "output_type": "display_data"
    }
   ],
   "source": [
    "display(users.info());\n",
    "display(rides.info());\n",
    "display(subscriptions.info());"
   ]
  },
  {
   "cell_type": "markdown",
   "id": "c507eed9",
   "metadata": {},
   "source": [
    "Представлены данные о 1565 пользователях и 18068 поездках. В таблице *subscriptions* описаны 2 типа подписок. Пропущенных значений нет. Дата в таблице *rides* представлены типом *object*, это нужно исправить."
   ]
  },
  {
   "cell_type": "markdown",
   "id": "e95ebca7",
   "metadata": {},
   "source": [
    "## Предобработка данных"
   ]
  },
  {
   "cell_type": "code",
   "execution_count": 10,
   "id": "af6d202c",
   "metadata": {
    "scrolled": true
   },
   "outputs": [
    {
     "data": {
      "text/plain": [
       "Timestamp('2021-01-01 00:00:00')"
      ]
     },
     "metadata": {},
     "output_type": "display_data"
    },
    {
     "data": {
      "text/plain": [
       "Timestamp('2021-12-30 00:00:00')"
      ]
     },
     "metadata": {},
     "output_type": "display_data"
    }
   ],
   "source": [
    "rides['date'] = pd.to_datetime(rides['date'], format='%Y-%m-%d') #изменим тип стобца с датой на datetime\n",
    "rides['month'] = rides['date'].dt.month #создаем столбец с месяцем поездки\n",
    "display(rides['date'].min(), rides['date'].max()) #первая и последняя даты"
   ]
  },
  {
   "cell_type": "markdown",
   "id": "9842031a",
   "metadata": {},
   "source": [
    "Данные представлены в период с 1 января 2021 по 30 декабря 2021."
   ]
  },
  {
   "cell_type": "code",
   "execution_count": 12,
   "id": "8d686498",
   "metadata": {
    "scrolled": true
   },
   "outputs": [
    {
     "data": {
      "text/plain": [
       "31"
      ]
     },
     "metadata": {},
     "output_type": "display_data"
    },
    {
     "data": {
      "text/plain": [
       "0"
      ]
     },
     "metadata": {},
     "output_type": "display_data"
    }
   ],
   "source": [
    "#проверяем наличие явных дубликатов\n",
    "display(users.duplicated().sum())\n",
    "display(rides.duplicated().sum())"
   ]
  },
  {
   "cell_type": "markdown",
   "id": "60c44d12",
   "metadata": {},
   "source": [
    "31 повтор в таблице с пользователями. Удалим их."
   ]
  },
  {
   "cell_type": "code",
   "execution_count": 14,
   "id": "318a9936",
   "metadata": {},
   "outputs": [],
   "source": [
    "users.drop_duplicates(inplace=True, ignore_index=True)"
   ]
  },
  {
   "cell_type": "markdown",
   "id": "d95f8b8f",
   "metadata": {},
   "source": [
    "На данном этапе мы предобработали данные: преобразовали тип даты в таблице *rides*, добавили столбец с номером месяца, проверили период предоставленных наблюдений и удалили явные дубликаты в таблице *users*. Иных дубликатов и пропусков нет."
   ]
  },
  {
   "cell_type": "markdown",
   "id": "212593c7",
   "metadata": {},
   "source": [
    "## Исследовательский анализ данных"
   ]
  },
  {
   "cell_type": "markdown",
   "id": "72132301",
   "metadata": {},
   "source": [
    "### Частота встречаемости городов"
   ]
  },
  {
   "cell_type": "code",
   "execution_count": 18,
   "id": "bfb686fa",
   "metadata": {},
   "outputs": [
    {
     "data": {
      "text/html": [
       "<div>\n",
       "<style scoped>\n",
       "    .dataframe tbody tr th:only-of-type {\n",
       "        vertical-align: middle;\n",
       "    }\n",
       "\n",
       "    .dataframe tbody tr th {\n",
       "        vertical-align: top;\n",
       "    }\n",
       "\n",
       "    .dataframe thead th {\n",
       "        text-align: right;\n",
       "    }\n",
       "</style>\n",
       "<table border=\"1\" class=\"dataframe\">\n",
       "  <thead>\n",
       "    <tr style=\"text-align: right;\">\n",
       "      <th></th>\n",
       "      <th>city</th>\n",
       "      <th>user_id</th>\n",
       "    </tr>\n",
       "  </thead>\n",
       "  <tbody>\n",
       "    <tr>\n",
       "      <th>0</th>\n",
       "      <td>Москва</td>\n",
       "      <td>168</td>\n",
       "    </tr>\n",
       "    <tr>\n",
       "      <th>1</th>\n",
       "      <td>Тюмень</td>\n",
       "      <td>180</td>\n",
       "    </tr>\n",
       "    <tr>\n",
       "      <th>2</th>\n",
       "      <td>Омск</td>\n",
       "      <td>183</td>\n",
       "    </tr>\n",
       "    <tr>\n",
       "      <th>3</th>\n",
       "      <td>Сочи</td>\n",
       "      <td>189</td>\n",
       "    </tr>\n",
       "    <tr>\n",
       "      <th>4</th>\n",
       "      <td>Краснодар</td>\n",
       "      <td>193</td>\n",
       "    </tr>\n",
       "    <tr>\n",
       "      <th>5</th>\n",
       "      <td>Ростов-на-Дону</td>\n",
       "      <td>198</td>\n",
       "    </tr>\n",
       "    <tr>\n",
       "      <th>6</th>\n",
       "      <td>Екатеринбург</td>\n",
       "      <td>204</td>\n",
       "    </tr>\n",
       "    <tr>\n",
       "      <th>7</th>\n",
       "      <td>Пятигорск</td>\n",
       "      <td>219</td>\n",
       "    </tr>\n",
       "  </tbody>\n",
       "</table>\n",
       "</div>"
      ],
      "text/plain": [
       "             city  user_id\n",
       "0          Москва      168\n",
       "1          Тюмень      180\n",
       "2            Омск      183\n",
       "3            Сочи      189\n",
       "4       Краснодар      193\n",
       "5  Ростов-на-Дону      198\n",
       "6    Екатеринбург      204\n",
       "7       Пятигорск      219"
      ]
     },
     "metadata": {},
     "output_type": "display_data"
    },
    {
     "data": {
      "image/png": "[encoded data removed]",
      "text/plain": [
       "<Figure size 1500x300 with 1 Axes>"
      ]
     },
     "metadata": {},
     "output_type": "display_data"
    }
   ],
   "source": [
    "cities = users.pivot_table(index='city', values='user_id', aggfunc='count')\n",
    "cities = cities.sort_values(by='user_id').reset_index(drop=False)\n",
    "display(cities)\n",
    "fig, ax = plt.subplots(figsize=(15,3))\n",
    "plt.grid(True)\n",
    "ax.set_title('Количество пользователей в городах')\n",
    "plt.xlabel(\"количество пользователей\")\n",
    "plt.ylabel(\"город\")\n",
    "plt.barh(cities['city'], cities['user_id'])\n",
    "plt.show()"
   ]
  },
  {
   "cell_type": "markdown",
   "id": "e09f30c2",
   "metadata": {},
   "source": [
    "На сервисе зарегистрированы пользователи из 8 городов. Наибольшее количество в Пятигорске (219), наименьшее в Москве (168)."
   ]
  },
  {
   "cell_type": "markdown",
   "id": "a05fb6cb",
   "metadata": {},
   "source": [
    "###  Соотношение пользователей с подпиской и без подписки"
   ]
  },
  {
   "cell_type": "code",
   "execution_count": 21,
   "id": "84e528ac",
   "metadata": {},
   "outputs": [
    {
     "data": {
      "text/html": [
       "<div>\n",
       "<style scoped>\n",
       "    .dataframe tbody tr th:only-of-type {\n",
       "        vertical-align: middle;\n",
       "    }\n",
       "\n",
       "    .dataframe tbody tr th {\n",
       "        vertical-align: top;\n",
       "    }\n",
       "\n",
       "    .dataframe thead th {\n",
       "        text-align: right;\n",
       "    }\n",
       "</style>\n",
       "<table border=\"1\" class=\"dataframe\">\n",
       "  <thead>\n",
       "    <tr style=\"text-align: right;\">\n",
       "      <th></th>\n",
       "      <th>user_id</th>\n",
       "    </tr>\n",
       "    <tr>\n",
       "      <th>subscription_type</th>\n",
       "      <th></th>\n",
       "    </tr>\n",
       "  </thead>\n",
       "  <tbody>\n",
       "    <tr>\n",
       "      <th>free</th>\n",
       "      <td>835</td>\n",
       "    </tr>\n",
       "    <tr>\n",
       "      <th>ultra</th>\n",
       "      <td>699</td>\n",
       "    </tr>\n",
       "  </tbody>\n",
       "</table>\n",
       "</div>"
      ],
      "text/plain": [
       "                   user_id\n",
       "subscription_type         \n",
       "free                   835\n",
       "ultra                  699"
      ]
     },
     "metadata": {},
     "output_type": "display_data"
    },
    {
     "data": {
      "image/png": "[encoded data removed]",
      "text/plain": [
       "<Figure size 500x500 with 1 Axes>"
      ]
     },
     "metadata": {},
     "output_type": "display_data"
    }
   ],
   "source": [
    "subscriptions_count = users.pivot_table(index='subscription_type', values='user_id', aggfunc='count')\n",
    "display(subscriptions_count)\n",
    "subscriptions_count.plot.pie(y='user_id', autopct='%1.1f%%', \n",
    "                             title='Соотношение пользователей с подпиской и без', figsize=(5,5));"
   ]
  },
  {
   "cell_type": "markdown",
   "id": "a7decab4",
   "metadata": {},
   "source": [
    "Пользователей с подпиской Ultra меньше, чем пользователей без подписки. Но разница между ними незначительная."
   ]
  },
  {
   "cell_type": "markdown",
   "id": "3f00b41c",
   "metadata": {},
   "source": [
    "### Возраст пользователей"
   ]
  },
  {
   "cell_type": "code",
   "execution_count": 24,
   "id": "36903438",
   "metadata": {},
   "outputs": [
    {
     "data": {
      "text/plain": [
       "count    29.000000\n",
       "mean     26.103448\n",
       "std       8.706914\n",
       "min      12.000000\n",
       "25%      19.000000\n",
       "50%      26.000000\n",
       "75%      33.000000\n",
       "max      43.000000\n",
       "Name: age, dtype: float64"
      ]
     },
     "metadata": {},
     "output_type": "display_data"
    },
    {
     "data": {
      "image/png": "[encoded data removed]",
      "text/plain": [
       "<Figure size 1500x500 with 1 Axes>"
      ]
     },
     "metadata": {},
     "output_type": "display_data"
    }
   ],
   "source": [
    "users_age = users.pivot_table(index='age', values='user_id', aggfunc='count')\n",
    "users_age = users_age.reset_index(drop=False)\n",
    "display(users_age['age'].describe())\n",
    "users_age.plot(x='age', y='user_id', kind='bar', legend=False, grid=True,\n",
    "               figsize=(15,5), xlabel='возраст', ylabel='количество',\n",
    "               title='Возраст пользователей');"
   ]
  },
  {
   "cell_type": "markdown",
   "id": "9d6c7097",
   "metadata": {},
   "source": [
    "На сервисе зарегистрированы пользователи от 12 до 43 лет. Большая часть пользователей от 20 до 30 лет. 26 лет - среднее значение возраста. Распределение близко к нормальному."
   ]
  },
  {
   "cell_type": "markdown",
   "id": "10ad9f6c",
   "metadata": {},
   "source": [
    "### Расстояние, которое пользователь преодолел за одну поездку"
   ]
  },
  {
   "cell_type": "code",
   "execution_count": 27,
   "id": "23a1920c",
   "metadata": {},
   "outputs": [
    {
     "data": {
      "image/png": "[encoded data removed]",
      "text/plain": [
       "<Figure size 1500x500 with 1 Axes>"
      ]
     },
     "metadata": {},
     "output_type": "display_data"
    }
   ],
   "source": [
    "plt.title('Расстояние поездок')\n",
    "plt.xlabel(\"расстояние, м\")\n",
    "plt.ylabel(\"количество поездок\")\n",
    "rides['distance'].hist(bins=100, figsize=(15,5)); #гистограмма расстояний"
   ]
  },
  {
   "cell_type": "code",
   "execution_count": 28,
   "id": "eee11078",
   "metadata": {},
   "outputs": [
    {
     "data": {
      "text/plain": [
       "count    18068.000000\n",
       "mean      3070.659976\n",
       "std       1116.831209\n",
       "min          0.855683\n",
       "25%       2543.226360\n",
       "50%       3133.609994\n",
       "75%       3776.222735\n",
       "max       7211.007745\n",
       "Name: distance, dtype: float64"
      ]
     },
     "execution_count": 28,
     "metadata": {},
     "output_type": "execute_result"
    }
   ],
   "source": [
    "rides['distance'].describe()"
   ]
  },
  {
   "cell_type": "markdown",
   "id": "61acf0ed",
   "metadata": {},
   "source": [
    "Видим, что есть аномально короткие поездки. Поездки с дистанцией в пару метров могли быть из-за неполадок с самокатом, которые пользователи заметили после начала аренды.\n",
    "\n",
    "Максимальная длина поездки 7211 метров.\n",
    "\n",
    "Медина 3133 метра.\n",
    "\n",
    "Распределение разделилось на два \"около нормальных\". Первое от 0 до 1500м и пиком около 750м. Максимум ворого около 3200м."
   ]
  },
  {
   "cell_type": "markdown",
   "id": "f6bf2709",
   "metadata": {},
   "source": [
    "### Продолжительность поездок"
   ]
  },
  {
   "cell_type": "code",
   "execution_count": 31,
   "id": "0469bbaf",
   "metadata": {},
   "outputs": [
    {
     "data": {
      "image/png": "[encoded data removed]",
      "text/plain": [
       "<Figure size 1500x500 with 1 Axes>"
      ]
     },
     "metadata": {},
     "output_type": "display_data"
    }
   ],
   "source": [
    "plt.title('Продолжительность поездок')\n",
    "plt.xlabel(\"продолжительность, мин\")\n",
    "plt.ylabel(\"количество поездок\")\n",
    "rides['duration'].hist(bins=100, figsize=(15,5)); #гистограмма продолжительности"
   ]
  },
  {
   "cell_type": "code",
   "execution_count": 32,
   "id": "9377fc1c",
   "metadata": {},
   "outputs": [
    {
     "data": {
      "text/plain": [
       "count    18068.000000\n",
       "mean        17.805011\n",
       "std          6.091051\n",
       "min          0.500000\n",
       "25%         13.597563\n",
       "50%         17.678395\n",
       "75%         21.724800\n",
       "max         40.823963\n",
       "Name: duration, dtype: float64"
      ]
     },
     "execution_count": 32,
     "metadata": {},
     "output_type": "execute_result"
    }
   ],
   "source": [
    "rides['duration'].describe()"
   ]
  },
  {
   "cell_type": "code",
   "execution_count": 33,
   "id": "5bd92a1b",
   "metadata": {},
   "outputs": [
    {
     "data": {
      "text/plain": [
       "user_id     95\n",
       "distance    95\n",
       "duration    95\n",
       "date        95\n",
       "month       95\n",
       "dtype: int64"
      ]
     },
     "execution_count": 33,
     "metadata": {},
     "output_type": "execute_result"
    }
   ],
   "source": [
    "rides.query('duration == 0.5').count()"
   ]
  },
  {
   "cell_type": "code",
   "execution_count": 34,
   "id": "9694ba44-4897-4171-ba55-d98bdc6abcc7",
   "metadata": {},
   "outputs": [
    {
     "data": {
      "text/plain": [
       "4030.308008428866"
      ]
     },
     "execution_count": 34,
     "metadata": {},
     "output_type": "execute_result"
    }
   ],
   "source": [
    "rides.query('duration == 0.5')['distance'].min()"
   ]
  },
  {
   "cell_type": "markdown",
   "id": "6be93ecb",
   "metadata": {},
   "source": [
    "Рапределение близко к нормальному.\n",
    "\n",
    "Средняя продолжительность поездок 17 минут, максимальная 40.\n",
    "\n",
    "Есть выброс в значении 30 секунд. 95 поездок с такой продолжительностью. При этом дистанция поездок более 4 км. Похоже на какой-то сбой в приложении."
   ]
  },
  {
   "cell_type": "markdown",
   "id": "4ef51331",
   "metadata": {},
   "source": [
    "## Объединение данных"
   ]
  },
  {
   "cell_type": "code",
   "execution_count": 37,
   "id": "6bf288b5",
   "metadata": {
    "scrolled": true
   },
   "outputs": [
    {
     "data": {
      "text/html": [
       "<div>\n",
       "<style scoped>\n",
       "    .dataframe tbody tr th:only-of-type {\n",
       "        vertical-align: middle;\n",
       "    }\n",
       "\n",
       "    .dataframe tbody tr th {\n",
       "        vertical-align: top;\n",
       "    }\n",
       "\n",
       "    .dataframe thead th {\n",
       "        text-align: right;\n",
       "    }\n",
       "</style>\n",
       "<table border=\"1\" class=\"dataframe\">\n",
       "  <thead>\n",
       "    <tr style=\"text-align: right;\">\n",
       "      <th></th>\n",
       "      <th>user_id</th>\n",
       "      <th>name</th>\n",
       "      <th>age</th>\n",
       "      <th>city</th>\n",
       "      <th>subscription_type</th>\n",
       "      <th>distance</th>\n",
       "      <th>duration</th>\n",
       "      <th>date</th>\n",
       "      <th>month</th>\n",
       "      <th>minute_price</th>\n",
       "      <th>start_ride_price</th>\n",
       "      <th>subscription_fee</th>\n",
       "    </tr>\n",
       "  </thead>\n",
       "  <tbody>\n",
       "    <tr>\n",
       "      <th>0</th>\n",
       "      <td>1</td>\n",
       "      <td>Кира</td>\n",
       "      <td>22</td>\n",
       "      <td>Тюмень</td>\n",
       "      <td>ultra</td>\n",
       "      <td>4409.919140</td>\n",
       "      <td>25.599769</td>\n",
       "      <td>2021-01-01</td>\n",
       "      <td>1</td>\n",
       "      <td>6</td>\n",
       "      <td>0</td>\n",
       "      <td>199</td>\n",
       "    </tr>\n",
       "    <tr>\n",
       "      <th>1</th>\n",
       "      <td>1</td>\n",
       "      <td>Кира</td>\n",
       "      <td>22</td>\n",
       "      <td>Тюмень</td>\n",
       "      <td>ultra</td>\n",
       "      <td>2617.592153</td>\n",
       "      <td>15.816871</td>\n",
       "      <td>2021-01-18</td>\n",
       "      <td>1</td>\n",
       "      <td>6</td>\n",
       "      <td>0</td>\n",
       "      <td>199</td>\n",
       "    </tr>\n",
       "    <tr>\n",
       "      <th>2</th>\n",
       "      <td>1</td>\n",
       "      <td>Кира</td>\n",
       "      <td>22</td>\n",
       "      <td>Тюмень</td>\n",
       "      <td>ultra</td>\n",
       "      <td>754.159807</td>\n",
       "      <td>6.232113</td>\n",
       "      <td>2021-04-20</td>\n",
       "      <td>4</td>\n",
       "      <td>6</td>\n",
       "      <td>0</td>\n",
       "      <td>199</td>\n",
       "    </tr>\n",
       "    <tr>\n",
       "      <th>3</th>\n",
       "      <td>1</td>\n",
       "      <td>Кира</td>\n",
       "      <td>22</td>\n",
       "      <td>Тюмень</td>\n",
       "      <td>ultra</td>\n",
       "      <td>2694.783254</td>\n",
       "      <td>18.511000</td>\n",
       "      <td>2021-08-11</td>\n",
       "      <td>8</td>\n",
       "      <td>6</td>\n",
       "      <td>0</td>\n",
       "      <td>199</td>\n",
       "    </tr>\n",
       "    <tr>\n",
       "      <th>4</th>\n",
       "      <td>1</td>\n",
       "      <td>Кира</td>\n",
       "      <td>22</td>\n",
       "      <td>Тюмень</td>\n",
       "      <td>ultra</td>\n",
       "      <td>4028.687306</td>\n",
       "      <td>26.265803</td>\n",
       "      <td>2021-08-28</td>\n",
       "      <td>8</td>\n",
       "      <td>6</td>\n",
       "      <td>0</td>\n",
       "      <td>199</td>\n",
       "    </tr>\n",
       "  </tbody>\n",
       "</table>\n",
       "</div>"
      ],
      "text/plain": [
       "   user_id  name  age    city subscription_type     distance   duration  \\\n",
       "0        1  Кира   22  Тюмень             ultra  4409.919140  25.599769   \n",
       "1        1  Кира   22  Тюмень             ultra  2617.592153  15.816871   \n",
       "2        1  Кира   22  Тюмень             ultra   754.159807   6.232113   \n",
       "3        1  Кира   22  Тюмень             ultra  2694.783254  18.511000   \n",
       "4        1  Кира   22  Тюмень             ultra  4028.687306  26.265803   \n",
       "\n",
       "        date  month  minute_price  start_ride_price  subscription_fee  \n",
       "0 2021-01-01      1             6                 0               199  \n",
       "1 2021-01-18      1             6                 0               199  \n",
       "2 2021-04-20      4             6                 0               199  \n",
       "3 2021-08-11      8             6                 0               199  \n",
       "4 2021-08-28      8             6                 0               199  "
      ]
     },
     "execution_count": 37,
     "metadata": {},
     "output_type": "execute_result"
    }
   ],
   "source": [
    "data = users.merge(rides).merge(subscriptions) #объединим таблицы\n",
    "data.head()"
   ]
  },
  {
   "cell_type": "code",
   "execution_count": 38,
   "id": "455dd372",
   "metadata": {},
   "outputs": [
    {
     "name": "stdout",
     "output_type": "stream",
     "text": [
      "<class 'pandas.core.frame.DataFrame'>\n",
      "RangeIndex: 18068 entries, 0 to 18067\n",
      "Data columns (total 12 columns):\n",
      " #   Column             Non-Null Count  Dtype         \n",
      "---  ------             --------------  -----         \n",
      " 0   user_id            18068 non-null  int64         \n",
      " 1   name               18068 non-null  object        \n",
      " 2   age                18068 non-null  int64         \n",
      " 3   city               18068 non-null  object        \n",
      " 4   subscription_type  18068 non-null  object        \n",
      " 5   distance           18068 non-null  float64       \n",
      " 6   duration           18068 non-null  float64       \n",
      " 7   date               18068 non-null  datetime64[ns]\n",
      " 8   month              18068 non-null  int32         \n",
      " 9   minute_price       18068 non-null  int64         \n",
      " 10  start_ride_price   18068 non-null  int64         \n",
      " 11  subscription_fee   18068 non-null  int64         \n",
      "dtypes: datetime64[ns](1), float64(2), int32(1), int64(5), object(3)\n",
      "memory usage: 1.6+ MB\n"
     ]
    }
   ],
   "source": [
    "data.info()"
   ]
  },
  {
   "cell_type": "markdown",
   "id": "a0638299",
   "metadata": {},
   "source": [
    "Объединение прошло успешно. Количество записей совпадает с количеством поездок, пропусков и лишних строк нет."
   ]
  },
  {
   "cell_type": "code",
   "execution_count": 40,
   "id": "1be76cca",
   "metadata": {},
   "outputs": [
    {
     "data": {
      "text/html": [
       "<div>\n",
       "<style scoped>\n",
       "    .dataframe tbody tr th:only-of-type {\n",
       "        vertical-align: middle;\n",
       "    }\n",
       "\n",
       "    .dataframe tbody tr th {\n",
       "        vertical-align: top;\n",
       "    }\n",
       "\n",
       "    .dataframe thead th {\n",
       "        text-align: right;\n",
       "    }\n",
       "</style>\n",
       "<table border=\"1\" class=\"dataframe\">\n",
       "  <thead>\n",
       "    <tr style=\"text-align: right;\">\n",
       "      <th></th>\n",
       "      <th>user_id</th>\n",
       "      <th>name</th>\n",
       "      <th>age</th>\n",
       "      <th>city</th>\n",
       "      <th>subscription_type</th>\n",
       "      <th>distance</th>\n",
       "      <th>duration</th>\n",
       "      <th>date</th>\n",
       "      <th>month</th>\n",
       "      <th>minute_price</th>\n",
       "      <th>start_ride_price</th>\n",
       "      <th>subscription_fee</th>\n",
       "    </tr>\n",
       "  </thead>\n",
       "  <tbody>\n",
       "    <tr>\n",
       "      <th>0</th>\n",
       "      <td>1</td>\n",
       "      <td>Кира</td>\n",
       "      <td>22</td>\n",
       "      <td>Тюмень</td>\n",
       "      <td>ultra</td>\n",
       "      <td>4409.919140</td>\n",
       "      <td>25.599769</td>\n",
       "      <td>2021-01-01</td>\n",
       "      <td>1</td>\n",
       "      <td>6</td>\n",
       "      <td>0</td>\n",
       "      <td>199</td>\n",
       "    </tr>\n",
       "    <tr>\n",
       "      <th>1</th>\n",
       "      <td>1</td>\n",
       "      <td>Кира</td>\n",
       "      <td>22</td>\n",
       "      <td>Тюмень</td>\n",
       "      <td>ultra</td>\n",
       "      <td>2617.592153</td>\n",
       "      <td>15.816871</td>\n",
       "      <td>2021-01-18</td>\n",
       "      <td>1</td>\n",
       "      <td>6</td>\n",
       "      <td>0</td>\n",
       "      <td>199</td>\n",
       "    </tr>\n",
       "    <tr>\n",
       "      <th>2</th>\n",
       "      <td>1</td>\n",
       "      <td>Кира</td>\n",
       "      <td>22</td>\n",
       "      <td>Тюмень</td>\n",
       "      <td>ultra</td>\n",
       "      <td>754.159807</td>\n",
       "      <td>6.232113</td>\n",
       "      <td>2021-04-20</td>\n",
       "      <td>4</td>\n",
       "      <td>6</td>\n",
       "      <td>0</td>\n",
       "      <td>199</td>\n",
       "    </tr>\n",
       "    <tr>\n",
       "      <th>3</th>\n",
       "      <td>1</td>\n",
       "      <td>Кира</td>\n",
       "      <td>22</td>\n",
       "      <td>Тюмень</td>\n",
       "      <td>ultra</td>\n",
       "      <td>2694.783254</td>\n",
       "      <td>18.511000</td>\n",
       "      <td>2021-08-11</td>\n",
       "      <td>8</td>\n",
       "      <td>6</td>\n",
       "      <td>0</td>\n",
       "      <td>199</td>\n",
       "    </tr>\n",
       "    <tr>\n",
       "      <th>4</th>\n",
       "      <td>1</td>\n",
       "      <td>Кира</td>\n",
       "      <td>22</td>\n",
       "      <td>Тюмень</td>\n",
       "      <td>ultra</td>\n",
       "      <td>4028.687306</td>\n",
       "      <td>26.265803</td>\n",
       "      <td>2021-08-28</td>\n",
       "      <td>8</td>\n",
       "      <td>6</td>\n",
       "      <td>0</td>\n",
       "      <td>199</td>\n",
       "    </tr>\n",
       "  </tbody>\n",
       "</table>\n",
       "</div>"
      ],
      "text/plain": [
       "   user_id  name  age    city subscription_type     distance   duration  \\\n",
       "0        1  Кира   22  Тюмень             ultra  4409.919140  25.599769   \n",
       "1        1  Кира   22  Тюмень             ultra  2617.592153  15.816871   \n",
       "2        1  Кира   22  Тюмень             ultra   754.159807   6.232113   \n",
       "3        1  Кира   22  Тюмень             ultra  2694.783254  18.511000   \n",
       "4        1  Кира   22  Тюмень             ultra  4028.687306  26.265803   \n",
       "\n",
       "        date  month  minute_price  start_ride_price  subscription_fee  \n",
       "0 2021-01-01      1             6                 0               199  \n",
       "1 2021-01-18      1             6                 0               199  \n",
       "2 2021-04-20      4             6                 0               199  \n",
       "3 2021-08-11      8             6                 0               199  \n",
       "4 2021-08-28      8             6                 0               199  "
      ]
     },
     "metadata": {},
     "output_type": "display_data"
    },
    {
     "data": {
      "text/html": [
       "<div>\n",
       "<style scoped>\n",
       "    .dataframe tbody tr th:only-of-type {\n",
       "        vertical-align: middle;\n",
       "    }\n",
       "\n",
       "    .dataframe tbody tr th {\n",
       "        vertical-align: top;\n",
       "    }\n",
       "\n",
       "    .dataframe thead th {\n",
       "        text-align: right;\n",
       "    }\n",
       "</style>\n",
       "<table border=\"1\" class=\"dataframe\">\n",
       "  <thead>\n",
       "    <tr style=\"text-align: right;\">\n",
       "      <th></th>\n",
       "      <th>user_id</th>\n",
       "      <th>name</th>\n",
       "      <th>age</th>\n",
       "      <th>city</th>\n",
       "      <th>subscription_type</th>\n",
       "      <th>distance</th>\n",
       "      <th>duration</th>\n",
       "      <th>date</th>\n",
       "      <th>month</th>\n",
       "      <th>minute_price</th>\n",
       "      <th>start_ride_price</th>\n",
       "      <th>subscription_fee</th>\n",
       "    </tr>\n",
       "  </thead>\n",
       "  <tbody>\n",
       "    <tr>\n",
       "      <th>6500</th>\n",
       "      <td>700</td>\n",
       "      <td>Айдар</td>\n",
       "      <td>22</td>\n",
       "      <td>Омск</td>\n",
       "      <td>free</td>\n",
       "      <td>2515.690719</td>\n",
       "      <td>14.944286</td>\n",
       "      <td>2021-01-02</td>\n",
       "      <td>1</td>\n",
       "      <td>8</td>\n",
       "      <td>50</td>\n",
       "      <td>0</td>\n",
       "    </tr>\n",
       "    <tr>\n",
       "      <th>6501</th>\n",
       "      <td>700</td>\n",
       "      <td>Айдар</td>\n",
       "      <td>22</td>\n",
       "      <td>Омск</td>\n",
       "      <td>free</td>\n",
       "      <td>846.932642</td>\n",
       "      <td>16.234663</td>\n",
       "      <td>2021-02-01</td>\n",
       "      <td>2</td>\n",
       "      <td>8</td>\n",
       "      <td>50</td>\n",
       "      <td>0</td>\n",
       "    </tr>\n",
       "    <tr>\n",
       "      <th>6502</th>\n",
       "      <td>700</td>\n",
       "      <td>Айдар</td>\n",
       "      <td>22</td>\n",
       "      <td>Омск</td>\n",
       "      <td>free</td>\n",
       "      <td>4004.434142</td>\n",
       "      <td>20.016628</td>\n",
       "      <td>2021-02-04</td>\n",
       "      <td>2</td>\n",
       "      <td>8</td>\n",
       "      <td>50</td>\n",
       "      <td>0</td>\n",
       "    </tr>\n",
       "    <tr>\n",
       "      <th>6503</th>\n",
       "      <td>700</td>\n",
       "      <td>Айдар</td>\n",
       "      <td>22</td>\n",
       "      <td>Омск</td>\n",
       "      <td>free</td>\n",
       "      <td>1205.911290</td>\n",
       "      <td>9.782872</td>\n",
       "      <td>2021-02-10</td>\n",
       "      <td>2</td>\n",
       "      <td>8</td>\n",
       "      <td>50</td>\n",
       "      <td>0</td>\n",
       "    </tr>\n",
       "    <tr>\n",
       "      <th>6504</th>\n",
       "      <td>700</td>\n",
       "      <td>Айдар</td>\n",
       "      <td>22</td>\n",
       "      <td>Омск</td>\n",
       "      <td>free</td>\n",
       "      <td>3047.379435</td>\n",
       "      <td>17.427673</td>\n",
       "      <td>2021-02-14</td>\n",
       "      <td>2</td>\n",
       "      <td>8</td>\n",
       "      <td>50</td>\n",
       "      <td>0</td>\n",
       "    </tr>\n",
       "  </tbody>\n",
       "</table>\n",
       "</div>"
      ],
      "text/plain": [
       "      user_id   name  age  city subscription_type     distance   duration  \\\n",
       "6500      700  Айдар   22  Омск              free  2515.690719  14.944286   \n",
       "6501      700  Айдар   22  Омск              free   846.932642  16.234663   \n",
       "6502      700  Айдар   22  Омск              free  4004.434142  20.016628   \n",
       "6503      700  Айдар   22  Омск              free  1205.911290   9.782872   \n",
       "6504      700  Айдар   22  Омск              free  3047.379435  17.427673   \n",
       "\n",
       "           date  month  minute_price  start_ride_price  subscription_fee  \n",
       "6500 2021-01-02      1             8                50                 0  \n",
       "6501 2021-02-01      2             8                50                 0  \n",
       "6502 2021-02-04      2             8                50                 0  \n",
       "6503 2021-02-10      2             8                50                 0  \n",
       "6504 2021-02-14      2             8                50                 0  "
      ]
     },
     "metadata": {},
     "output_type": "display_data"
    },
    {
     "name": "stdout",
     "output_type": "stream",
     "text": [
      "Суммарное количество данных в таблицах совпадает с исходным\n"
     ]
    }
   ],
   "source": [
    "#создаем две таблицы. С подпиской и без подписки\n",
    "users_with_subscriptions = data.query('subscription_type == \"ultra\"')\n",
    "users_without_subscriptions = data.query('subscription_type != \"ultra\"')\n",
    "display(users_with_subscriptions.head())\n",
    "display(users_without_subscriptions.head())\n",
    "if users_with_subscriptions.shape[0]+users_without_subscriptions.shape[0] == data.shape[0]:\n",
    "    print('Суммарное количество данных в таблицах совпадает с исходным')"
   ]
  },
  {
   "cell_type": "code",
   "execution_count": 41,
   "id": "f17ff671",
   "metadata": {},
   "outputs": [
    {
     "data": {
      "text/plain": [
       "count    6500.000000\n",
       "mean     3115.445388\n",
       "std       836.895330\n",
       "min       244.210438\n",
       "25%      2785.444017\n",
       "50%      3148.637229\n",
       "75%      3560.574425\n",
       "max      5699.769662\n",
       "Name: distance, dtype: float64"
      ]
     },
     "metadata": {},
     "output_type": "display_data"
    },
    {
     "data": {
      "text/plain": [
       "count    11568.000000\n",
       "mean      3045.495282\n",
       "std       1246.173806\n",
       "min          0.855683\n",
       "25%       2366.562689\n",
       "50%       3114.648465\n",
       "75%       3905.697894\n",
       "max       7211.007745\n",
       "Name: distance, dtype: float64"
      ]
     },
     "metadata": {},
     "output_type": "display_data"
    },
    {
     "data": {
      "image/png": "[encoded data removed]",
      "text/plain": [
       "<Figure size 1500x500 with 1 Axes>"
      ]
     },
     "metadata": {},
     "output_type": "display_data"
    }
   ],
   "source": [
    "#сравним расстояния аренды\n",
    "display(users_with_subscriptions['distance'].describe()) #с подпиской\n",
    "display(users_without_subscriptions['distance'].describe()) #без подписки\n",
    "fig, ax = plt.subplots(figsize=(15,5))\n",
    "users_with_subscriptions['distance'].hist(ax=ax, bins=50, alpha=0.6, color ='green')\n",
    "users_without_subscriptions['distance'].hist(ax=ax, bins=50, alpha=0.3)\n",
    "lgnd = ax.legend(['с подпиской', 'без подписки'], loc='upper right')\n",
    "ax.set_title('Гистограмма распределения');\n",
    "ax.set_xlabel('Расстояние');\n",
    "ax.set_ylabel('Количество');\n",
    "plt.show()"
   ]
  },
  {
   "cell_type": "markdown",
   "id": "9ca05709",
   "metadata": {},
   "source": [
    "Поездок без подписки больше.\n",
    "\n",
    "Маленькие расстояния проезжают пользователи без подписки. Некоторые знакомятся с сервисом, пробуют.\n",
    "\n",
    "У обеих групп виден минимум. С подпиской мало поездок с расстоянием 2000м, без подписки 1400м. Среднее расстояние у обеих групп ~ 3100м.\n",
    "\n",
    "Наличие минимума сложно объяснить. Есть много факторов, которые могли повлиять (какие данные попали в выборку, в каких городах совершались поездки и другие).\n",
    "\n",
    "У пользователей без подписки больший диапазон расстояния поездок и имеются аномально короткие поездки."
   ]
  },
  {
   "cell_type": "code",
   "execution_count": 43,
   "id": "1a25e368",
   "metadata": {},
   "outputs": [
    {
     "data": {
      "text/plain": [
       "count    6500.000000\n",
       "mean       18.541985\n",
       "std         5.572048\n",
       "min         3.760353\n",
       "25%        14.524654\n",
       "50%        18.178153\n",
       "75%        21.884129\n",
       "max        40.823963\n",
       "Name: duration, dtype: float64"
      ]
     },
     "metadata": {},
     "output_type": "display_data"
    },
    {
     "data": {
      "text/plain": [
       "count    11568.000000\n",
       "mean        17.390909\n",
       "std          6.326803\n",
       "min          0.500000\n",
       "25%         12.958437\n",
       "50%         17.326890\n",
       "75%         21.594071\n",
       "max         34.948498\n",
       "Name: duration, dtype: float64"
      ]
     },
     "metadata": {},
     "output_type": "display_data"
    },
    {
     "data": {
      "image/png": "[encoded data removed]",
      "text/plain": [
       "<Figure size 1500x500 with 1 Axes>"
      ]
     },
     "metadata": {},
     "output_type": "display_data"
    }
   ],
   "source": [
    "#сравним продолжительность аренды\n",
    "display(users_with_subscriptions['duration'].describe()) #с подпиской\n",
    "display(users_without_subscriptions['duration'].describe()) #без подписки\n",
    "fig, ax = plt.subplots(figsize=(15,5))\n",
    "users_with_subscriptions['duration'].hist(ax=ax, alpha=0.6, color ='green')\n",
    "users_without_subscriptions['duration'].hist(ax=ax, alpha=0.3)\n",
    "lgnd = ax.legend(['с подпиской', 'без подписки'], loc='upper right')\n",
    "ax.set_title('Гистограмма распределения');\n",
    "ax.set_xlabel('Продолжительность');\n",
    "ax.set_ylabel('Количество');\n",
    "plt.show()"
   ]
  },
  {
   "cell_type": "markdown",
   "id": "933ba70e",
   "metadata": {},
   "source": [
    "Видно, что очень короткие поездки совершали пользователи без подписки. Может, тестировали приложение. Долгие поездки у пользователей с подпиской. Средняя продолжительность в обеих группах ~ 18 минут.\n",
    "\n",
    "У пользователей с подпиской диапазон значение чуть больше, но не значительно.\n",
    "\n",
    "Выяснилось, что аномально короткие поездки в 30 секунд у пользователей без подписки. Можно предположить, что у них был промокод на пробную поездку."
   ]
  },
  {
   "cell_type": "markdown",
   "id": "402d620f",
   "metadata": {},
   "source": [
    "## Подсчёт выручки"
   ]
  },
  {
   "cell_type": "code",
   "execution_count": 46,
   "id": "53049e0a",
   "metadata": {},
   "outputs": [],
   "source": [
    "data['duration'] = np.ceil(data['duration']) #округлим значение продолжительности поездки\n",
    "data_revenue = data.pivot_table(index=['user_id', 'minute_price', 'start_ride_price', 'subscription_fee', 'month'], \n",
    "                                values=['distance', 'duration'], aggfunc=['sum', 'count'])\n",
    "data_revenue.columns = ['total_distance', 'total_time', 'count', 'delete']\n",
    "data_revenue = data_revenue.reset_index(drop=False)\n",
    "data_revenue['revenue'] = (data_revenue['start_ride_price']*data_revenue['count']+\n",
    "                           data_revenue['minute_price']*data_revenue['total_time']+\n",
    "                           data_revenue['subscription_fee'])\n",
    "data_revenue.drop(['minute_price', 'start_ride_price', 'delete'], axis=1, inplace=True);"
   ]
  },
  {
   "cell_type": "code",
   "execution_count": 47,
   "id": "468cc68f",
   "metadata": {
    "scrolled": true
   },
   "outputs": [
    {
     "data": {
      "text/html": [
       "<div>\n",
       "<style scoped>\n",
       "    .dataframe tbody tr th:only-of-type {\n",
       "        vertical-align: middle;\n",
       "    }\n",
       "\n",
       "    .dataframe tbody tr th {\n",
       "        vertical-align: top;\n",
       "    }\n",
       "\n",
       "    .dataframe thead th {\n",
       "        text-align: right;\n",
       "    }\n",
       "</style>\n",
       "<table border=\"1\" class=\"dataframe\">\n",
       "  <thead>\n",
       "    <tr style=\"text-align: right;\">\n",
       "      <th></th>\n",
       "      <th>user_id</th>\n",
       "      <th>subscription_fee</th>\n",
       "      <th>month</th>\n",
       "      <th>total_distance</th>\n",
       "      <th>total_time</th>\n",
       "      <th>count</th>\n",
       "      <th>revenue</th>\n",
       "    </tr>\n",
       "  </thead>\n",
       "  <tbody>\n",
       "    <tr>\n",
       "      <th>0</th>\n",
       "      <td>1</td>\n",
       "      <td>199</td>\n",
       "      <td>1</td>\n",
       "      <td>7027.511294</td>\n",
       "      <td>42.0</td>\n",
       "      <td>2</td>\n",
       "      <td>451.0</td>\n",
       "    </tr>\n",
       "    <tr>\n",
       "      <th>1</th>\n",
       "      <td>1</td>\n",
       "      <td>199</td>\n",
       "      <td>4</td>\n",
       "      <td>754.159807</td>\n",
       "      <td>7.0</td>\n",
       "      <td>1</td>\n",
       "      <td>241.0</td>\n",
       "    </tr>\n",
       "    <tr>\n",
       "      <th>2</th>\n",
       "      <td>1</td>\n",
       "      <td>199</td>\n",
       "      <td>8</td>\n",
       "      <td>6723.470560</td>\n",
       "      <td>46.0</td>\n",
       "      <td>2</td>\n",
       "      <td>475.0</td>\n",
       "    </tr>\n",
       "    <tr>\n",
       "      <th>3</th>\n",
       "      <td>1</td>\n",
       "      <td>199</td>\n",
       "      <td>10</td>\n",
       "      <td>5809.911100</td>\n",
       "      <td>32.0</td>\n",
       "      <td>2</td>\n",
       "      <td>391.0</td>\n",
       "    </tr>\n",
       "    <tr>\n",
       "      <th>4</th>\n",
       "      <td>1</td>\n",
       "      <td>199</td>\n",
       "      <td>11</td>\n",
       "      <td>7003.499363</td>\n",
       "      <td>56.0</td>\n",
       "      <td>3</td>\n",
       "      <td>535.0</td>\n",
       "    </tr>\n",
       "  </tbody>\n",
       "</table>\n",
       "</div>"
      ],
      "text/plain": [
       "   user_id  subscription_fee  month  total_distance  total_time  count  \\\n",
       "0        1               199      1     7027.511294        42.0      2   \n",
       "1        1               199      4      754.159807         7.0      1   \n",
       "2        1               199      8     6723.470560        46.0      2   \n",
       "3        1               199     10     5809.911100        32.0      2   \n",
       "4        1               199     11     7003.499363        56.0      3   \n",
       "\n",
       "   revenue  \n",
       "0    451.0  \n",
       "1    241.0  \n",
       "2    475.0  \n",
       "3    391.0  \n",
       "4    535.0  "
      ]
     },
     "execution_count": 47,
     "metadata": {},
     "output_type": "execute_result"
    }
   ],
   "source": [
    "data_revenue.head() #таблица с выручкой"
   ]
  },
  {
   "cell_type": "markdown",
   "id": "c684061c",
   "metadata": {},
   "source": [
    "Создали таблицу с выручкой по каждому пользователю за каждый месяц."
   ]
  },
  {
   "cell_type": "markdown",
   "id": "41545ac0",
   "metadata": {},
   "source": [
    "## Проверка гипотез"
   ]
  },
  {
   "cell_type": "markdown",
   "id": "e06f1b95",
   "metadata": {},
   "source": [
    "### Пользовалели с подпиской тратят больше времени на поездки, чем пользователи без подписки"
   ]
  },
  {
   "cell_type": "markdown",
   "id": "4f077289",
   "metadata": {},
   "source": [
    "H0: Средние продолжительности поездок у пользователей с подпиской и без подписки равны.\n",
    "\n",
    "H1: Средняя продолжительность поездок у пользователей с подпиской больше, чем у пользователей без подписки."
   ]
  },
  {
   "cell_type": "code",
   "execution_count": 52,
   "id": "0fb5babe",
   "metadata": {},
   "outputs": [
    {
     "name": "stdout",
     "output_type": "stream",
     "text": [
      "p-значение: 1.2804098316645618e-34\n",
      "Отвергаем нулевую гипотезу\n"
     ]
    }
   ],
   "source": [
    "results = st.ttest_ind(users_with_subscriptions['duration'], \n",
    "                       users_without_subscriptions['duration'], \n",
    "                       alternative='greater')\n",
    "print('p-значение:', results.pvalue)\n",
    "if results.pvalue < 0.05:\n",
    "    print('Отвергаем нулевую гипотезу')\n",
    "else:\n",
    "    print('Не получилось отвергнуть нулевую гипотезу') "
   ]
  },
  {
   "cell_type": "markdown",
   "id": "a920edd8",
   "metadata": {},
   "source": [
    "Гипотеза, что средние продолжительности поездок у пользователй с подпиской и без нее равны, была отвергнута в пользу альтернативной, что продолжительности поездок у пользоватей с подпиской больше. Можно говорить, что пользователи с подпиской тратят больше времени на поездки."
   ]
  },
  {
   "cell_type": "markdown",
   "id": "9d742d57",
   "metadata": {},
   "source": [
    "### Среднее расстояние, которое проезжают пользователи с подпиской за одну поездку, не превышает 3130 метров"
   ]
  },
  {
   "cell_type": "markdown",
   "id": "32b7e78e",
   "metadata": {},
   "source": [
    "Н0: Средние расстояние поездок у пользователей с подпиской равно 3130м.\n",
    "\n",
    "Н1: Среднее расстояние поездок у пользователей с подпиской больше 3130м."
   ]
  },
  {
   "cell_type": "code",
   "execution_count": 56,
   "id": "e18b0619",
   "metadata": {},
   "outputs": [
    {
     "name": "stdout",
     "output_type": "stream",
     "text": [
      "p-значение: 0.9195368847849785\n",
      "Не получилось отвергнуть нулевую гипотезу\n"
     ]
    }
   ],
   "source": [
    "results = st.ttest_1samp(users_with_subscriptions['distance'], 3130, alternative='greater')\n",
    "print('p-значение:', results.pvalue)\n",
    "if results.pvalue < 0.05:\n",
    "    print('Отвергаем нулевую гипотезу')\n",
    "else:\n",
    "    print('Не получилось отвергнуть нулевую гипотезу') "
   ]
  },
  {
   "cell_type": "markdown",
   "id": "65667549",
   "metadata": {},
   "source": [
    "Не получилось отвергнуть гипотезу, что пользователи с подпиской проезжают в среднем 3130м, в пользу гипотезы, что пользователи в среднем проезжают больше 3130м. Можно говорить, что расстояние поездок пользователей с подпиской не превышает 3130м."
   ]
  },
  {
   "cell_type": "markdown",
   "id": "73105ab2",
   "metadata": {},
   "source": [
    "### Помесячная выручка от пользователей с подпиской по месяцам выше, чем выручка от пользователей без подписки. "
   ]
  },
  {
   "cell_type": "markdown",
   "id": "13c0bb43",
   "metadata": {},
   "source": [
    "Н0: Месячная выручка от пользователей с подпиской равна выручке от пользователей без подписки.\n",
    "\n",
    "Н1: Месячная выручка от пользователей с подпиской выше, чем выручка от пользователей без подписки."
   ]
  },
  {
   "cell_type": "code",
   "execution_count": 60,
   "id": "ff75ae64",
   "metadata": {},
   "outputs": [
    {
     "name": "stdout",
     "output_type": "stream",
     "text": [
      "p-значение: 1.8850394384715216e-31\n",
      "Отвергаем нулевую гипотезу\n"
     ]
    }
   ],
   "source": [
    "revenue_users_with_subscriptions = data_revenue.query('subscription_fee == 199')\n",
    "revenue_users_without_subscriptions = data_revenue.query('subscription_fee == 0')\n",
    "results = st.ttest_ind(revenue_users_with_subscriptions['revenue'], \n",
    "                       revenue_users_without_subscriptions['revenue'], \n",
    "                       alternative='greater')\n",
    "print('p-значение:', results.pvalue)\n",
    "if results.pvalue < 0.05:\n",
    "    print('Отвергаем нулевую гипотезу')\n",
    "else:\n",
    "    print('Не получилось отвергнуть нулевую гипотезу') "
   ]
  },
  {
   "cell_type": "markdown",
   "id": "0fcdfaa7",
   "metadata": {},
   "source": [
    "Гипотеза, что месячные выручки от пользователей с подпиской и без равны отвергается в пользу альтернативной, что выручка от пользователей с подпиской выше."
   ]
  },
  {
   "cell_type": "markdown",
   "id": "dfc93ac4",
   "metadata": {},
   "source": [
    "<div style=\"border:solid purple 1px; padding: 20px\">\n",
    "    \n",
    "Мы проверили гипотезы о пользователях с подпиской. Выяснили, что продолжительность поездок дольше, чем у пользователей без подписки. Мы получаем месячную выручку от пользователей с подпиской выше, чем без. И узнали, что расстояние поездки не превышает оптимального с точки зрения износа самоката.\n",
    "    \n",
    "Можно сделать вывод, что увеличение количества пользователей с подпиской - хорошее решение для роста бизнеса."
   ]
  },
  {
   "cell_type": "markdown",
   "id": "f23af162",
   "metadata": {},
   "source": [
    "### Количество обращений в поддержку после обновления сервера снизилось"
   ]
  },
  {
   "cell_type": "markdown",
   "id": "9c6fd35d",
   "metadata": {},
   "source": [
    "Н0: Количества обращений в поддержку до и после обновления равны.\n",
    "\n",
    "Н1: Количество обращений в поддержку после обновления уменьшилось.\n",
    "\n",
    "\n",
    "Мы проверяем гипотезу о равенстве среднего значения генеральной совокупности до и после изменения. Для этого используем метод `scipy.stats.ttest_rel()`. Передаем выборки после и до изменения, указываем `alternative='less'`, чтобы проверить, что среднее генеральной совокупности после обновления меньше среднего значения до изменения."
   ]
  },
  {
   "cell_type": "markdown",
   "id": "61213c5e",
   "metadata": {},
   "source": [
    "## Распределения"
   ]
  },
  {
   "cell_type": "markdown",
   "id": "557ed73f",
   "metadata": {},
   "source": [
    "### Количество промокодов, которое нужно разослать, чтобы получить минимум 100 продлений подписки"
   ]
  },
  {
   "cell_type": "markdown",
   "id": "d2fb0bce",
   "metadata": {},
   "source": [
    "Нам нужно выяснить, какое минимальное количество промокодов на месяц бесплатной подписки нужно разослать, чтобы получить минимум 100 продлений, при условии, что после пробного периода подписку продлевают 10% пользователей. Вероятность не выполнить план должна быть ~5%."
   ]
  },
  {
   "cell_type": "code",
   "execution_count": 68,
   "id": "d26fb033",
   "metadata": {},
   "outputs": [
    {
     "data": {
      "text/plain": [
       "1169"
      ]
     },
     "execution_count": 68,
     "metadata": {},
     "output_type": "execute_result"
    }
   ],
   "source": [
    "p=0.1 #вероятность продления подписки\n",
    "#предположим, что минимальное число промокодов находится в интервале от 1000 до 2000\n",
    "#вычислим количество промокодов, при котором вероятность получить меньше 100 продлений меньше 5%\n",
    "for n in range(1000,2000):\n",
    "    if st.norm(n*p, sqrt(n * p * (1 - p))).cdf(100)<0.05:\n",
    "        break\n",
    "    else:\n",
    "        continue\n",
    "n #минимальное количество промокодов, которое нужно разослать, чтобы получить 100 подписок с вероятностью 95%"
   ]
  },
  {
   "cell_type": "code",
   "execution_count": 69,
   "id": "cb8ed265",
   "metadata": {},
   "outputs": [
    {
     "data": {
      "image/png": "[encoded data removed]",
      "text/plain": [
       "<Figure size 1500x500 with 1 Axes>"
      ]
     },
     "metadata": {},
     "output_type": "display_data"
    }
   ],
   "source": [
    "#задаем границы графика\n",
    "left=round(n * p - 4 * sqrt(n * p * (1 - p)))\n",
    "right=round(n * p + 4 * sqrt(n * p * (1 - p)))\n",
    "distr=[]\n",
    "for k in range(0, n+1):\n",
    "    current_value = binom.pmf(k, n, p)\n",
    "    distr.append(current_value)\n",
    "fig, ax = plt.subplots(figsize=(15,5))\n",
    "plt.grid(True)\n",
    "ax.set_title('График распределения вероятностей')\n",
    "plt.xlabel(\"количество продлений\")\n",
    "plt.ylabel(\"вероятность\")\n",
    "plt.bar(range(left,right), distr[left:right]); #график распределения вероятностей"
   ]
  },
  {
   "cell_type": "code",
   "execution_count": 70,
   "id": "5e6b6ff1",
   "metadata": {},
   "outputs": [
    {
     "data": {
      "text/plain": [
       "0.042448296153510624"
      ]
     },
     "execution_count": 70,
     "metadata": {},
     "output_type": "execute_result"
    }
   ],
   "source": [
    "sum(distr[0:100]) #вероятность получить менее 100 подписок"
   ]
  },
  {
   "cell_type": "markdown",
   "id": "275fa28a",
   "metadata": {},
   "source": [
    "Чтобы выполнить поставленную задачу, нужно отправить 1169 промокодов."
   ]
  },
  {
   "cell_type": "markdown",
   "id": "1260088e",
   "metadata": {},
   "source": [
    "### Вероятность, что уведомление откроют не более 399,5 тыс. пользователей."
   ]
  },
  {
   "cell_type": "markdown",
   "id": "4b796fed",
   "metadata": {},
   "source": [
    "Планируется разослать 1 млн уведомлений. Известно, что уведомления открывают около 40% пользователей. Нужно оценить вероятность того, что уведомление откроют не более 399,5 тыс. пользователей."
   ]
  },
  {
   "cell_type": "markdown",
   "id": "1c12b4c2",
   "metadata": {},
   "source": [
    "У нас биномиальное распределение с большим n=1000000 и p=0,4 (близким к 0,5), можем аппроксимировать распределение к нормальному."
   ]
  },
  {
   "cell_type": "code",
   "execution_count": 75,
   "id": "8ac3a7f7",
   "metadata": {},
   "outputs": [
    {
     "data": {
      "text/plain": [
       "0.15371708296369768"
      ]
     },
     "execution_count": 75,
     "metadata": {},
     "output_type": "execute_result"
    }
   ],
   "source": [
    "n=1000000\n",
    "p=0.4\n",
    "mu = n * p\n",
    "sigma = sqrt(n * p * (1 - p))\n",
    "st.norm(mu, sigma).cdf(399500)\n",
    "#аппроксимируем распределение нормальным и считаем вероятность, что уведомление откроют менее 399500 пользователей"
   ]
  },
  {
   "cell_type": "code",
   "execution_count": 76,
   "id": "05565741",
   "metadata": {},
   "outputs": [
    {
     "data": {
      "image/png": "[encoded data removed]",
      "text/plain": [
       "<Figure size 1500x500 with 1 Axes>"
      ]
     },
     "metadata": {},
     "output_type": "display_data"
    }
   ],
   "source": [
    "def linspace(start, stop):\n",
    "    step = (stop - start) / 99\n",
    "    result = []\n",
    "    for i in range(100):\n",
    "        result.append(start + step * i)\n",
    "    return result\n",
    "\n",
    "# границы промежутка, в котором будем строить аппроксимацию \n",
    "left = round(mu - 4 * sigma)\n",
    "right = round(mu + 4 * sigma)\n",
    "x = linspace(left, right) # получаем список из 100 чисел от left до right\n",
    "fig, ax = plt.subplots(figsize=(15,5)) # рисуем график нормального распределения\n",
    "ax.plot(x, norm.pdf(x, mu, sigma))\n",
    "plt.grid(True)\n",
    "ax.set_title('График распределения')\n",
    "plt.xlabel(\"количество пользователей\")\n",
    "plt.ylabel(\"вероятность\")\n",
    "plt.show();"
   ]
  },
  {
   "cell_type": "markdown",
   "id": "b8e7904d",
   "metadata": {},
   "source": [
    "Вероятность того, что уведомление откроют менее 399,5 тыс. пользователей, 15%."
   ]
  },
  {
   "cell_type": "markdown",
   "id": "15047304",
   "metadata": {},
   "source": [
    "## Вывод"
   ]
  },
  {
   "cell_type": "markdown",
   "id": "c68af3cf",
   "metadata": {},
   "source": [
    "Мы проанализировали информацию о пользователях сервиса и их поездках.\n",
    "\n",
    "Сначала подготовили данные к анализу: избавились от явных дубликатов и преобразовали типы данных.\n",
    "\n",
    "Потом проанализировали данные:\n",
    "- Узнали, что в приложении зарегистрированы пользователи от 12 до 43 лет. 26 - средний возраст, основная возрастная группа от 20 до 30 лет. \n",
    "- Представлены 8 городов, в среднем по 190 пользователей в каждом. Наименьшая группа в Москве, наибольшая в Пятигорске.\n",
    "- Пользователей без подписки незначительно больше.\n",
    "- Выяснили, что среднее расстояние 3100м, максимальное 7200м. На гистограмме растояний два пика в 750м и в 3100м. И есть аномально коротние поездки.\n",
    "- Заметили, что есть 95 поездок с большим расстоянием и продолжительностью 30 секунд.\n",
    "- Средняя продолжительность поездок 17 минут, максимальная 40 минут.\n",
    "\n",
    "Далее сравнили поездки пользователей с подпиской и без по расстоянию и продолжительности. Поездок без подписки больше. Среди них много коротких. Еще зафиксировали подозрительный минимум в расстоянии (около 1500м), можно разобраться, откуда он берется.\n",
    "\n",
    "Мы узнали, что у пользователей без подписки больше диапозон расстояния поездок и есть аномально короткие. У пользователей с подпиской немного больше диапозон продолжительности и максимальная продолжительность дольше. Среднее время и расстояние схожи у обеих групп.\n",
    "\n",
    "Для продакт-менеджеров проверили несколько гипотез о пользователях с подпиской. Мы узнали, что пользователи с подпиской не проезжают расстояние большее, чем оптимальное с точки зрения износа самоката, тратят на поездки больше времени, чем пользователи без подписки, и приносят большую месячную прибль.\n",
    "\n",
    "Для отдела маркетинга посчитали, какое минимальное количество промокодов на бесплатный месяц подписки нужно отправить, чтобы получить минимум 100 новых подписчиков.\n",
    "\n",
    "На основе анализа и проверки гипотез можно сделать вывод, что увеличение количества подписчиков благоприятно отразится на росте бизнеса.\n"
   ]
  }
 ],
 "metadata": {
  "ExecuteTimeLog": [
   {
    "duration": 404,
    "start_time": "2024-01-19T09:55:44.337Z"
   },
   {
    "duration": 247,
    "start_time": "2024-01-19T09:55:44.978Z"
   },
   {
    "duration": 79,
    "start_time": "2024-01-19T09:55:51.360Z"
   },
   {
    "duration": 77,
    "start_time": "2024-01-19T09:59:34.611Z"
   },
   {
    "duration": 80,
    "start_time": "2024-01-19T09:59:41.637Z"
   },
   {
    "duration": 79,
    "start_time": "2024-01-19T10:00:19.341Z"
   },
   {
    "duration": 80,
    "start_time": "2024-01-19T10:00:39.493Z"
   },
   {
    "duration": 19,
    "start_time": "2024-01-19T10:16:14.114Z"
   },
   {
    "duration": 19,
    "start_time": "2024-01-19T10:16:24.209Z"
   },
   {
    "duration": 20,
    "start_time": "2024-01-19T10:16:28.692Z"
   },
   {
    "duration": 7,
    "start_time": "2024-01-19T10:17:44.355Z"
   },
   {
    "duration": 6,
    "start_time": "2024-01-19T10:17:54.364Z"
   },
   {
    "duration": 6,
    "start_time": "2024-01-19T10:18:52.764Z"
   },
   {
    "duration": 3,
    "start_time": "2024-01-19T10:21:06.915Z"
   },
   {
    "duration": 4,
    "start_time": "2024-01-19T10:21:28.554Z"
   },
   {
    "duration": 5,
    "start_time": "2024-01-19T10:21:40.450Z"
   },
   {
    "duration": 18,
    "start_time": "2024-01-19T10:23:36.102Z"
   },
   {
    "duration": 7,
    "start_time": "2024-01-19T10:28:55.884Z"
   },
   {
    "duration": 9,
    "start_time": "2024-01-19T10:29:10.298Z"
   },
   {
    "duration": 6,
    "start_time": "2024-01-19T10:31:44.003Z"
   },
   {
    "duration": 11,
    "start_time": "2024-01-19T10:32:06.476Z"
   },
   {
    "duration": 5,
    "start_time": "2024-01-19T10:32:49.659Z"
   },
   {
    "duration": 9,
    "start_time": "2024-01-19T10:33:09.139Z"
   },
   {
    "duration": 10,
    "start_time": "2024-01-19T10:34:07.314Z"
   },
   {
    "duration": 12,
    "start_time": "2024-01-19T10:34:15.738Z"
   },
   {
    "duration": 8,
    "start_time": "2024-01-19T10:39:58.641Z"
   },
   {
    "duration": 5,
    "start_time": "2024-01-19T10:40:05.143Z"
   },
   {
    "duration": 6,
    "start_time": "2024-01-19T10:41:57.825Z"
   },
   {
    "duration": 9,
    "start_time": "2024-01-19T10:42:13.361Z"
   },
   {
    "duration": 11,
    "start_time": "2024-01-19T10:46:35.527Z"
   },
   {
    "duration": 10,
    "start_time": "2024-01-19T10:50:39.974Z"
   },
   {
    "duration": 12,
    "start_time": "2024-01-19T10:50:45.326Z"
   },
   {
    "duration": 10,
    "start_time": "2024-01-19T10:51:11.302Z"
   },
   {
    "duration": 11,
    "start_time": "2024-01-19T10:51:32.854Z"
   },
   {
    "duration": 15,
    "start_time": "2024-01-19T10:51:41.477Z"
   },
   {
    "duration": 11,
    "start_time": "2024-01-19T10:51:44.926Z"
   },
   {
    "duration": 11,
    "start_time": "2024-01-19T10:52:33.485Z"
   },
   {
    "duration": 1557,
    "start_time": "2024-01-19T10:53:43.613Z"
   },
   {
    "duration": 209,
    "start_time": "2024-01-19T10:54:16.837Z"
   },
   {
    "duration": 126,
    "start_time": "2024-01-19T10:54:36.558Z"
   },
   {
    "duration": 16,
    "start_time": "2024-01-19T11:00:35.604Z"
   },
   {
    "duration": 10,
    "start_time": "2024-01-19T11:00:51.497Z"
   },
   {
    "duration": 15,
    "start_time": "2024-01-19T11:01:44.825Z"
   },
   {
    "duration": 114,
    "start_time": "2024-01-19T11:02:00.875Z"
   },
   {
    "duration": 3,
    "start_time": "2024-01-19T11:04:40.153Z"
   },
   {
    "duration": 16,
    "start_time": "2024-01-19T11:06:07.757Z"
   },
   {
    "duration": 225,
    "start_time": "2024-01-19T11:06:54.390Z"
   },
   {
    "duration": 262,
    "start_time": "2024-01-19T11:07:19.013Z"
   },
   {
    "duration": 254,
    "start_time": "2024-01-19T11:07:35.268Z"
   },
   {
    "duration": 232,
    "start_time": "2024-01-19T11:07:44.452Z"
   },
   {
    "duration": 229,
    "start_time": "2024-01-19T11:07:54.532Z"
   },
   {
    "duration": 235,
    "start_time": "2024-01-19T11:08:49.916Z"
   },
   {
    "duration": 243,
    "start_time": "2024-01-19T11:08:58.308Z"
   },
   {
    "duration": 297,
    "start_time": "2024-01-19T11:09:06.348Z"
   },
   {
    "duration": 202524,
    "start_time": "2024-01-19T11:32:04.518Z"
   },
   {
    "duration": 142,
    "start_time": "2024-01-19T13:06:56.899Z"
   },
   {
    "duration": 316,
    "start_time": "2024-01-19T13:07:26.245Z"
   },
   {
    "duration": 298,
    "start_time": "2024-01-19T13:10:57.602Z"
   },
   {
    "duration": 15,
    "start_time": "2024-01-19T13:15:35.812Z"
   },
   {
    "duration": 8,
    "start_time": "2024-01-19T13:16:00.267Z"
   },
   {
    "duration": 5,
    "start_time": "2024-01-19T13:17:38.322Z"
   },
   {
    "duration": 271,
    "start_time": "2024-01-19T13:17:44.290Z"
   },
   {
    "duration": 431,
    "start_time": "2024-01-19T13:21:04.441Z"
   },
   {
    "duration": 262,
    "start_time": "2024-01-19T13:21:14.156Z"
   },
   {
    "duration": 320,
    "start_time": "2024-01-19T13:24:18.137Z"
   },
   {
    "duration": 10,
    "start_time": "2024-01-19T13:26:53.263Z"
   },
   {
    "duration": 6,
    "start_time": "2024-01-19T13:30:39.046Z"
   },
   {
    "duration": 10,
    "start_time": "2024-01-19T13:30:44.134Z"
   },
   {
    "duration": 9,
    "start_time": "2024-01-19T13:46:04.678Z"
   },
   {
    "duration": 8,
    "start_time": "2024-01-19T13:46:55.503Z"
   },
   {
    "duration": 279,
    "start_time": "2024-01-19T14:32:40.254Z"
   },
   {
    "duration": 9,
    "start_time": "2024-01-19T14:33:12.604Z"
   },
   {
    "duration": 31,
    "start_time": "2024-01-19T14:34:05.300Z"
   },
   {
    "duration": 13,
    "start_time": "2024-01-19T14:34:25.784Z"
   },
   {
    "duration": 16,
    "start_time": "2024-01-19T14:34:53.309Z"
   },
   {
    "duration": 10,
    "start_time": "2024-01-19T14:35:18.508Z"
   },
   {
    "duration": 12,
    "start_time": "2024-01-19T14:35:22.340Z"
   },
   {
    "duration": 11,
    "start_time": "2024-01-19T14:37:09.467Z"
   },
   {
    "duration": 13,
    "start_time": "2024-01-19T15:05:10.327Z"
   },
   {
    "duration": 15,
    "start_time": "2024-01-19T15:10:02.012Z"
   },
   {
    "duration": 28,
    "start_time": "2024-01-19T15:10:06.291Z"
   },
   {
    "duration": 19,
    "start_time": "2024-01-19T15:10:21.640Z"
   },
   {
    "duration": 23,
    "start_time": "2024-01-19T15:10:24.922Z"
   },
   {
    "duration": 24,
    "start_time": "2024-01-19T15:10:33.410Z"
   },
   {
    "duration": 23,
    "start_time": "2024-01-19T15:11:03.578Z"
   },
   {
    "duration": 22,
    "start_time": "2024-01-19T15:11:20.754Z"
   },
   {
    "duration": 23,
    "start_time": "2024-01-19T15:22:24.311Z"
   },
   {
    "duration": 247,
    "start_time": "2024-01-19T15:24:43.189Z"
   },
   {
    "duration": 230,
    "start_time": "2024-01-19T15:25:07.846Z"
   },
   {
    "duration": 9,
    "start_time": "2024-01-19T15:48:30.002Z"
   },
   {
    "duration": 620,
    "start_time": "2024-01-19T15:48:43.516Z"
   },
   {
    "duration": 87,
    "start_time": "2024-01-19T15:48:44.138Z"
   },
   {
    "duration": 4,
    "start_time": "2024-01-19T15:48:44.226Z"
   },
   {
    "duration": 18,
    "start_time": "2024-01-19T15:48:44.231Z"
   },
   {
    "duration": 31,
    "start_time": "2024-01-19T15:48:44.251Z"
   },
   {
    "duration": 17,
    "start_time": "2024-01-19T15:48:44.283Z"
   },
   {
    "duration": 5,
    "start_time": "2024-01-19T15:48:44.301Z"
   },
   {
    "duration": 147,
    "start_time": "2024-01-19T15:48:44.307Z"
   },
   {
    "duration": 131,
    "start_time": "2024-01-19T15:48:44.455Z"
   },
   {
    "duration": 250,
    "start_time": "2024-01-19T15:48:44.588Z"
   },
   {
    "duration": 309,
    "start_time": "2024-01-19T15:48:44.844Z"
   },
   {
    "duration": 8,
    "start_time": "2024-01-19T15:48:45.155Z"
   },
   {
    "duration": 301,
    "start_time": "2024-01-19T15:48:45.164Z"
   },
   {
    "duration": 8,
    "start_time": "2024-01-19T15:48:45.468Z"
   },
   {
    "duration": 64,
    "start_time": "2024-01-19T15:48:45.477Z"
   },
   {
    "duration": 53,
    "start_time": "2024-01-19T15:48:45.543Z"
   },
   {
    "duration": 253,
    "start_time": "2024-01-19T15:48:45.597Z"
   },
   {
    "duration": 3086,
    "start_time": "2024-01-19T15:48:45.852Z"
   },
   {
    "duration": 916,
    "start_time": "2024-01-19T15:49:55.007Z"
   },
   {
    "duration": 715,
    "start_time": "2024-01-19T15:51:38.869Z"
   },
   {
    "duration": 128,
    "start_time": "2024-01-19T15:52:14.581Z"
   },
   {
    "duration": 121,
    "start_time": "2024-01-19T15:55:07.748Z"
   },
   {
    "duration": 122,
    "start_time": "2024-01-19T15:55:17.315Z"
   },
   {
    "duration": 126,
    "start_time": "2024-01-19T15:56:49.915Z"
   },
   {
    "duration": 131,
    "start_time": "2024-01-19T15:58:03.002Z"
   },
   {
    "duration": 123,
    "start_time": "2024-01-19T15:58:13.825Z"
   },
   {
    "duration": 139,
    "start_time": "2024-01-19T15:58:20.546Z"
   },
   {
    "duration": 118,
    "start_time": "2024-01-19T15:58:41.794Z"
   },
   {
    "duration": 191,
    "start_time": "2024-01-19T15:58:46.737Z"
   },
   {
    "duration": 118,
    "start_time": "2024-01-19T15:58:51.010Z"
   },
   {
    "duration": 123,
    "start_time": "2024-01-19T15:58:56.833Z"
   },
   {
    "duration": 125,
    "start_time": "2024-01-19T15:59:43.913Z"
   },
   {
    "duration": 132,
    "start_time": "2024-01-19T15:59:54.538Z"
   },
   {
    "duration": 123,
    "start_time": "2024-01-19T16:00:18.754Z"
   },
   {
    "duration": 122,
    "start_time": "2024-01-19T16:05:46.463Z"
   },
   {
    "duration": 130,
    "start_time": "2024-01-19T16:06:09.343Z"
   },
   {
    "duration": 139,
    "start_time": "2024-01-19T16:08:01.917Z"
   },
   {
    "duration": 142,
    "start_time": "2024-01-19T16:22:14.769Z"
   },
   {
    "duration": 143,
    "start_time": "2024-01-19T16:22:23.865Z"
   },
   {
    "duration": 235,
    "start_time": "2024-01-19T16:23:37.914Z"
   },
   {
    "duration": 7,
    "start_time": "2024-01-19T16:33:30.824Z"
   },
   {
    "duration": 4,
    "start_time": "2024-01-19T16:33:34.167Z"
   },
   {
    "duration": 4,
    "start_time": "2024-01-19T16:33:45.814Z"
   },
   {
    "duration": 158,
    "start_time": "2024-01-19T16:45:24.038Z"
   },
   {
    "duration": 251,
    "start_time": "2024-01-19T16:47:08.524Z"
   },
   {
    "duration": 328,
    "start_time": "2024-01-19T16:47:21.900Z"
   },
   {
    "duration": 233,
    "start_time": "2024-01-19T16:47:36.060Z"
   },
   {
    "duration": 756,
    "start_time": "2024-01-20T08:44:38.507Z"
   },
   {
    "duration": 210,
    "start_time": "2024-01-20T08:44:39.265Z"
   },
   {
    "duration": 4,
    "start_time": "2024-01-20T08:44:39.476Z"
   },
   {
    "duration": 20,
    "start_time": "2024-01-20T08:44:39.482Z"
   },
   {
    "duration": 34,
    "start_time": "2024-01-20T08:44:39.503Z"
   },
   {
    "duration": 22,
    "start_time": "2024-01-20T08:44:39.538Z"
   },
   {
    "duration": 15,
    "start_time": "2024-01-20T08:44:39.562Z"
   },
   {
    "duration": 153,
    "start_time": "2024-01-20T08:44:39.578Z"
   },
   {
    "duration": 120,
    "start_time": "2024-01-20T08:44:39.733Z"
   },
   {
    "duration": 279,
    "start_time": "2024-01-20T08:44:39.855Z"
   },
   {
    "duration": 296,
    "start_time": "2024-01-20T08:44:40.136Z"
   },
   {
    "duration": 7,
    "start_time": "2024-01-20T08:44:40.434Z"
   },
   {
    "duration": 290,
    "start_time": "2024-01-20T08:44:40.443Z"
   },
   {
    "duration": 8,
    "start_time": "2024-01-20T08:44:40.735Z"
   },
   {
    "duration": 36,
    "start_time": "2024-01-20T08:44:40.744Z"
   },
   {
    "duration": 13,
    "start_time": "2024-01-20T08:44:40.782Z"
   },
   {
    "duration": 291,
    "start_time": "2024-01-20T08:44:40.796Z"
   },
   {
    "duration": 208,
    "start_time": "2024-01-20T08:44:41.089Z"
   },
   {
    "duration": 1395,
    "start_time": "2024-01-20T08:44:41.298Z"
   },
   {
    "duration": 3,
    "start_time": "2024-01-20T08:44:49.710Z"
   },
   {
    "duration": 5,
    "start_time": "2024-01-20T08:44:55.751Z"
   },
   {
    "duration": 3,
    "start_time": "2024-01-20T08:45:17.879Z"
   },
   {
    "duration": 5,
    "start_time": "2024-01-20T08:45:27.246Z"
   },
   {
    "duration": 7,
    "start_time": "2024-01-20T08:46:00.406Z"
   },
   {
    "duration": 7,
    "start_time": "2024-01-20T08:46:37.277Z"
   },
   {
    "duration": 7,
    "start_time": "2024-01-20T08:47:45.845Z"
   },
   {
    "duration": 14,
    "start_time": "2024-01-20T09:13:15.908Z"
   },
   {
    "duration": 579,
    "start_time": "2024-01-20T09:13:34.902Z"
   },
   {
    "duration": 86,
    "start_time": "2024-01-20T09:13:35.483Z"
   },
   {
    "duration": 4,
    "start_time": "2024-01-20T09:13:35.571Z"
   },
   {
    "duration": 18,
    "start_time": "2024-01-20T09:13:35.577Z"
   },
   {
    "duration": 9,
    "start_time": "2024-01-20T09:13:35.596Z"
   },
   {
    "duration": 11,
    "start_time": "2024-01-20T09:13:35.606Z"
   },
   {
    "duration": 5,
    "start_time": "2024-01-20T09:13:35.618Z"
   },
   {
    "duration": 177,
    "start_time": "2024-01-20T09:13:35.624Z"
   },
   {
    "duration": 157,
    "start_time": "2024-01-20T09:13:35.803Z"
   },
   {
    "duration": 281,
    "start_time": "2024-01-20T09:13:35.964Z"
   },
   {
    "duration": 306,
    "start_time": "2024-01-20T09:13:36.246Z"
   },
   {
    "duration": 12,
    "start_time": "2024-01-20T09:13:36.554Z"
   },
   {
    "duration": 285,
    "start_time": "2024-01-20T09:13:36.567Z"
   },
   {
    "duration": 16,
    "start_time": "2024-01-20T09:13:36.853Z"
   },
   {
    "duration": 25,
    "start_time": "2024-01-20T09:13:36.870Z"
   },
   {
    "duration": 11,
    "start_time": "2024-01-20T09:13:36.896Z"
   },
   {
    "duration": 287,
    "start_time": "2024-01-20T09:13:36.909Z"
   },
   {
    "duration": 175,
    "start_time": "2024-01-20T09:13:37.198Z"
   },
   {
    "duration": 78,
    "start_time": "2024-01-20T09:13:37.374Z"
   },
   {
    "duration": 0,
    "start_time": "2024-01-20T09:13:37.465Z"
   },
   {
    "duration": 22,
    "start_time": "2024-01-20T09:13:49.239Z"
   },
   {
    "duration": 17,
    "start_time": "2024-01-20T09:13:52.951Z"
   },
   {
    "duration": 39,
    "start_time": "2024-01-20T09:17:36.182Z"
   },
   {
    "duration": 13,
    "start_time": "2024-01-20T09:17:40.853Z"
   },
   {
    "duration": 21,
    "start_time": "2024-01-20T09:17:50.581Z"
   },
   {
    "duration": 658,
    "start_time": "2024-01-20T09:18:02.431Z"
   },
   {
    "duration": 88,
    "start_time": "2024-01-20T09:18:03.091Z"
   },
   {
    "duration": 4,
    "start_time": "2024-01-20T09:18:03.181Z"
   },
   {
    "duration": 37,
    "start_time": "2024-01-20T09:18:03.187Z"
   },
   {
    "duration": 13,
    "start_time": "2024-01-20T09:18:03.226Z"
   },
   {
    "duration": 30,
    "start_time": "2024-01-20T09:18:03.240Z"
   },
   {
    "duration": 29,
    "start_time": "2024-01-20T09:18:03.271Z"
   },
   {
    "duration": 168,
    "start_time": "2024-01-20T09:18:03.302Z"
   },
   {
    "duration": 125,
    "start_time": "2024-01-20T09:18:03.471Z"
   },
   {
    "duration": 277,
    "start_time": "2024-01-20T09:18:03.599Z"
   },
   {
    "duration": 322,
    "start_time": "2024-01-20T09:18:03.878Z"
   },
   {
    "duration": 9,
    "start_time": "2024-01-20T09:18:04.201Z"
   },
   {
    "duration": 259,
    "start_time": "2024-01-20T09:18:04.211Z"
   },
   {
    "duration": 8,
    "start_time": "2024-01-20T09:18:04.472Z"
   },
   {
    "duration": 27,
    "start_time": "2024-01-20T09:18:04.482Z"
   },
   {
    "duration": 12,
    "start_time": "2024-01-20T09:18:04.511Z"
   },
   {
    "duration": 298,
    "start_time": "2024-01-20T09:18:04.525Z"
   },
   {
    "duration": 177,
    "start_time": "2024-01-20T09:18:04.825Z"
   },
   {
    "duration": 24,
    "start_time": "2024-01-20T09:18:05.004Z"
   },
   {
    "duration": 13,
    "start_time": "2024-01-20T09:18:05.029Z"
   },
   {
    "duration": 1269,
    "start_time": "2024-01-20T09:37:07.531Z"
   },
   {
    "duration": 651,
    "start_time": "2024-01-20T14:18:32.283Z"
   },
   {
    "duration": 90,
    "start_time": "2024-01-20T14:18:32.936Z"
   },
   {
    "duration": 5,
    "start_time": "2024-01-20T14:18:33.027Z"
   },
   {
    "duration": 47,
    "start_time": "2024-01-20T14:18:33.034Z"
   },
   {
    "duration": 15,
    "start_time": "2024-01-20T14:18:33.082Z"
   },
   {
    "duration": 15,
    "start_time": "2024-01-20T14:18:33.098Z"
   },
   {
    "duration": 6,
    "start_time": "2024-01-20T14:18:33.114Z"
   },
   {
    "duration": 161,
    "start_time": "2024-01-20T14:18:33.121Z"
   },
   {
    "duration": 132,
    "start_time": "2024-01-20T14:18:33.284Z"
   },
   {
    "duration": 275,
    "start_time": "2024-01-20T14:18:33.419Z"
   },
   {
    "duration": 327,
    "start_time": "2024-01-20T14:18:33.695Z"
   },
   {
    "duration": 8,
    "start_time": "2024-01-20T14:18:34.023Z"
   },
   {
    "duration": 271,
    "start_time": "2024-01-20T14:18:34.033Z"
   },
   {
    "duration": 11,
    "start_time": "2024-01-20T14:18:34.306Z"
   },
   {
    "duration": 50,
    "start_time": "2024-01-20T14:18:34.319Z"
   },
   {
    "duration": 16,
    "start_time": "2024-01-20T14:18:34.371Z"
   },
   {
    "duration": 306,
    "start_time": "2024-01-20T14:18:34.389Z"
   },
   {
    "duration": 174,
    "start_time": "2024-01-20T14:18:34.696Z"
   },
   {
    "duration": 31,
    "start_time": "2024-01-20T14:18:34.872Z"
   },
   {
    "duration": 15,
    "start_time": "2024-01-20T14:18:34.905Z"
   },
   {
    "duration": 595,
    "start_time": "2024-01-20T14:19:31.408Z"
   },
   {
    "duration": 85,
    "start_time": "2024-01-20T14:19:32.005Z"
   },
   {
    "duration": 4,
    "start_time": "2024-01-20T14:19:32.092Z"
   },
   {
    "duration": 10,
    "start_time": "2024-01-20T14:19:32.098Z"
   },
   {
    "duration": 11,
    "start_time": "2024-01-20T14:19:32.110Z"
   },
   {
    "duration": 15,
    "start_time": "2024-01-20T14:19:32.122Z"
   },
   {
    "duration": 30,
    "start_time": "2024-01-20T14:19:32.139Z"
   },
   {
    "duration": 183,
    "start_time": "2024-01-20T14:19:32.171Z"
   },
   {
    "duration": 136,
    "start_time": "2024-01-20T14:19:32.356Z"
   },
   {
    "duration": 283,
    "start_time": "2024-01-20T14:19:32.495Z"
   },
   {
    "duration": 312,
    "start_time": "2024-01-20T14:19:32.780Z"
   },
   {
    "duration": 9,
    "start_time": "2024-01-20T14:19:33.093Z"
   },
   {
    "duration": 267,
    "start_time": "2024-01-20T14:19:33.104Z"
   },
   {
    "duration": 9,
    "start_time": "2024-01-20T14:19:33.373Z"
   },
   {
    "duration": 25,
    "start_time": "2024-01-20T14:19:33.384Z"
   },
   {
    "duration": 11,
    "start_time": "2024-01-20T14:19:33.411Z"
   },
   {
    "duration": 325,
    "start_time": "2024-01-20T14:19:33.424Z"
   },
   {
    "duration": 184,
    "start_time": "2024-01-20T14:19:33.751Z"
   },
   {
    "duration": 50,
    "start_time": "2024-01-20T14:19:33.936Z"
   },
   {
    "duration": 17,
    "start_time": "2024-01-20T14:19:33.988Z"
   },
   {
    "duration": 953,
    "start_time": "2024-01-20T14:21:45.145Z"
   },
   {
    "duration": 85,
    "start_time": "2024-01-20T14:21:46.100Z"
   },
   {
    "duration": 4,
    "start_time": "2024-01-20T14:21:46.187Z"
   },
   {
    "duration": 60,
    "start_time": "2024-01-20T14:21:46.193Z"
   },
   {
    "duration": 40,
    "start_time": "2024-01-20T14:21:46.255Z"
   },
   {
    "duration": 82,
    "start_time": "2024-01-20T14:21:46.296Z"
   },
   {
    "duration": 45,
    "start_time": "2024-01-20T14:21:46.380Z"
   },
   {
    "duration": 211,
    "start_time": "2024-01-20T14:21:46.426Z"
   },
   {
    "duration": 163,
    "start_time": "2024-01-20T14:21:46.640Z"
   },
   {
    "duration": 340,
    "start_time": "2024-01-20T14:21:46.805Z"
   },
   {
    "duration": 309,
    "start_time": "2024-01-20T14:21:47.146Z"
   },
   {
    "duration": 16,
    "start_time": "2024-01-20T14:21:47.456Z"
   },
   {
    "duration": 285,
    "start_time": "2024-01-20T14:21:47.473Z"
   },
   {
    "duration": 14,
    "start_time": "2024-01-20T14:21:47.760Z"
   },
   {
    "duration": 44,
    "start_time": "2024-01-20T14:21:47.775Z"
   },
   {
    "duration": 11,
    "start_time": "2024-01-20T14:21:47.820Z"
   },
   {
    "duration": 292,
    "start_time": "2024-01-20T14:21:47.832Z"
   },
   {
    "duration": 181,
    "start_time": "2024-01-20T14:21:48.125Z"
   },
   {
    "duration": 1970,
    "start_time": "2024-01-20T14:21:48.308Z"
   },
   {
    "duration": 0,
    "start_time": "2024-01-20T14:21:50.280Z"
   },
   {
    "duration": 29,
    "start_time": "2024-01-20T14:22:34.432Z"
   },
   {
    "duration": 24,
    "start_time": "2024-01-20T14:22:36.521Z"
   },
   {
    "duration": 1116,
    "start_time": "2024-01-20T14:25:24.894Z"
   },
   {
    "duration": 9,
    "start_time": "2024-01-20T14:35:50.536Z"
   },
   {
    "duration": 699,
    "start_time": "2024-01-20T14:43:09.355Z"
   },
   {
    "duration": 93,
    "start_time": "2024-01-20T14:43:10.056Z"
   },
   {
    "duration": 5,
    "start_time": "2024-01-20T14:43:10.150Z"
   },
   {
    "duration": 52,
    "start_time": "2024-01-20T14:43:10.156Z"
   },
   {
    "duration": 37,
    "start_time": "2024-01-20T14:43:10.212Z"
   },
   {
    "duration": 62,
    "start_time": "2024-01-20T14:43:10.251Z"
   },
   {
    "duration": 6,
    "start_time": "2024-01-20T14:43:10.315Z"
   },
   {
    "duration": 209,
    "start_time": "2024-01-20T14:43:10.323Z"
   },
   {
    "duration": 133,
    "start_time": "2024-01-20T14:43:10.534Z"
   },
   {
    "duration": 314,
    "start_time": "2024-01-20T14:43:10.669Z"
   },
   {
    "duration": 341,
    "start_time": "2024-01-20T14:43:10.985Z"
   },
   {
    "duration": 9,
    "start_time": "2024-01-20T14:43:11.328Z"
   },
   {
    "duration": 294,
    "start_time": "2024-01-20T14:43:11.338Z"
   },
   {
    "duration": 8,
    "start_time": "2024-01-20T14:43:11.634Z"
   },
   {
    "duration": 50,
    "start_time": "2024-01-20T14:43:11.644Z"
   },
   {
    "duration": 24,
    "start_time": "2024-01-20T14:43:11.696Z"
   },
   {
    "duration": 302,
    "start_time": "2024-01-20T14:43:11.721Z"
   },
   {
    "duration": 235,
    "start_time": "2024-01-20T14:43:12.024Z"
   },
   {
    "duration": 43,
    "start_time": "2024-01-20T14:43:12.261Z"
   },
   {
    "duration": 26,
    "start_time": "2024-01-20T14:43:12.305Z"
   },
   {
    "duration": 23,
    "start_time": "2024-01-20T14:43:19.030Z"
   },
   {
    "duration": 26,
    "start_time": "2024-01-20T14:43:24.967Z"
   },
   {
    "duration": 4,
    "start_time": "2024-01-20T14:44:14.814Z"
   },
   {
    "duration": 22,
    "start_time": "2024-01-20T14:44:21.653Z"
   },
   {
    "duration": 17,
    "start_time": "2024-01-20T15:07:59.505Z"
   },
   {
    "duration": 638,
    "start_time": "2024-01-20T15:09:39.695Z"
   },
   {
    "duration": 87,
    "start_time": "2024-01-20T15:09:40.335Z"
   },
   {
    "duration": 6,
    "start_time": "2024-01-20T15:09:40.424Z"
   },
   {
    "duration": 17,
    "start_time": "2024-01-20T15:09:40.433Z"
   },
   {
    "duration": 11,
    "start_time": "2024-01-20T15:09:40.452Z"
   },
   {
    "duration": 37,
    "start_time": "2024-01-20T15:09:40.466Z"
   },
   {
    "duration": 16,
    "start_time": "2024-01-20T15:09:40.505Z"
   },
   {
    "duration": 203,
    "start_time": "2024-01-20T15:09:40.523Z"
   },
   {
    "duration": 137,
    "start_time": "2024-01-20T15:09:40.728Z"
   },
   {
    "duration": 273,
    "start_time": "2024-01-20T15:09:40.868Z"
   },
   {
    "duration": 354,
    "start_time": "2024-01-20T15:09:41.143Z"
   },
   {
    "duration": 9,
    "start_time": "2024-01-20T15:09:41.499Z"
   },
   {
    "duration": 273,
    "start_time": "2024-01-20T15:09:41.509Z"
   },
   {
    "duration": 9,
    "start_time": "2024-01-20T15:09:41.783Z"
   },
   {
    "duration": 24,
    "start_time": "2024-01-20T15:09:41.793Z"
   },
   {
    "duration": 13,
    "start_time": "2024-01-20T15:09:41.818Z"
   },
   {
    "duration": 294,
    "start_time": "2024-01-20T15:09:41.833Z"
   },
   {
    "duration": 190,
    "start_time": "2024-01-20T15:09:42.129Z"
   },
   {
    "duration": 28,
    "start_time": "2024-01-20T15:09:42.321Z"
   },
   {
    "duration": 28,
    "start_time": "2024-01-20T15:09:42.351Z"
   },
   {
    "duration": 6,
    "start_time": "2024-01-20T15:09:42.381Z"
   },
   {
    "duration": 13,
    "start_time": "2024-01-20T15:09:42.388Z"
   },
   {
    "duration": 580,
    "start_time": "2024-01-20T15:10:37.512Z"
   },
   {
    "duration": 84,
    "start_time": "2024-01-20T15:10:38.093Z"
   },
   {
    "duration": 5,
    "start_time": "2024-01-20T15:10:38.179Z"
   },
   {
    "duration": 14,
    "start_time": "2024-01-20T15:10:38.187Z"
   },
   {
    "duration": 11,
    "start_time": "2024-01-20T15:10:38.203Z"
   },
   {
    "duration": 11,
    "start_time": "2024-01-20T15:10:38.216Z"
   },
   {
    "duration": 5,
    "start_time": "2024-01-20T15:10:38.228Z"
   },
   {
    "duration": 165,
    "start_time": "2024-01-20T15:10:38.266Z"
   },
   {
    "duration": 152,
    "start_time": "2024-01-20T15:10:38.432Z"
   },
   {
    "duration": 295,
    "start_time": "2024-01-20T15:10:38.587Z"
   },
   {
    "duration": 332,
    "start_time": "2024-01-20T15:10:38.884Z"
   },
   {
    "duration": 9,
    "start_time": "2024-01-20T15:10:39.217Z"
   },
   {
    "duration": 272,
    "start_time": "2024-01-20T15:10:39.227Z"
   },
   {
    "duration": 8,
    "start_time": "2024-01-20T15:10:39.501Z"
   },
   {
    "duration": 38,
    "start_time": "2024-01-20T15:10:39.511Z"
   },
   {
    "duration": 18,
    "start_time": "2024-01-20T15:10:39.551Z"
   },
   {
    "duration": 276,
    "start_time": "2024-01-20T15:10:39.571Z"
   },
   {
    "duration": 190,
    "start_time": "2024-01-20T15:10:39.849Z"
   },
   {
    "duration": 127,
    "start_time": "2024-01-20T15:10:40.041Z"
   },
   {
    "duration": 0,
    "start_time": "2024-01-20T15:10:40.170Z"
   },
   {
    "duration": 0,
    "start_time": "2024-01-20T15:10:40.172Z"
   },
   {
    "duration": 34,
    "start_time": "2024-01-20T15:10:56.682Z"
   },
   {
    "duration": 16,
    "start_time": "2024-01-20T15:10:59.153Z"
   },
   {
    "duration": 32,
    "start_time": "2024-01-20T15:28:49.598Z"
   },
   {
    "duration": 25,
    "start_time": "2024-01-20T15:28:52.062Z"
   },
   {
    "duration": 47,
    "start_time": "2024-01-20T15:38:30.836Z"
   },
   {
    "duration": 45,
    "start_time": "2024-01-20T15:39:35.539Z"
   },
   {
    "duration": 41,
    "start_time": "2024-01-20T15:39:54.659Z"
   },
   {
    "duration": 46,
    "start_time": "2024-01-20T15:40:13.974Z"
   },
   {
    "duration": 40,
    "start_time": "2024-01-20T15:40:44.746Z"
   },
   {
    "duration": 13,
    "start_time": "2024-01-20T15:40:46.466Z"
   },
   {
    "duration": 37,
    "start_time": "2024-01-20T15:41:04.145Z"
   },
   {
    "duration": 14,
    "start_time": "2024-01-20T15:41:05.065Z"
   },
   {
    "duration": 597,
    "start_time": "2024-01-20T15:43:31.898Z"
   },
   {
    "duration": 86,
    "start_time": "2024-01-20T15:43:32.496Z"
   },
   {
    "duration": 4,
    "start_time": "2024-01-20T15:43:32.584Z"
   },
   {
    "duration": 10,
    "start_time": "2024-01-20T15:43:32.590Z"
   },
   {
    "duration": 11,
    "start_time": "2024-01-20T15:43:32.601Z"
   },
   {
    "duration": 34,
    "start_time": "2024-01-20T15:43:32.613Z"
   },
   {
    "duration": 18,
    "start_time": "2024-01-20T15:43:32.649Z"
   },
   {
    "duration": 159,
    "start_time": "2024-01-20T15:43:32.668Z"
   },
   {
    "duration": 130,
    "start_time": "2024-01-20T15:43:32.828Z"
   },
   {
    "duration": 283,
    "start_time": "2024-01-20T15:43:32.965Z"
   },
   {
    "duration": 318,
    "start_time": "2024-01-20T15:43:33.249Z"
   },
   {
    "duration": 9,
    "start_time": "2024-01-20T15:43:33.568Z"
   },
   {
    "duration": 262,
    "start_time": "2024-01-20T15:43:33.578Z"
   },
   {
    "duration": 8,
    "start_time": "2024-01-20T15:43:33.841Z"
   },
   {
    "duration": 32,
    "start_time": "2024-01-20T15:43:33.851Z"
   },
   {
    "duration": 20,
    "start_time": "2024-01-20T15:43:33.885Z"
   },
   {
    "duration": 277,
    "start_time": "2024-01-20T15:43:33.907Z"
   },
   {
    "duration": 172,
    "start_time": "2024-01-20T15:43:34.185Z"
   },
   {
    "duration": 37,
    "start_time": "2024-01-20T15:43:34.359Z"
   },
   {
    "duration": 9,
    "start_time": "2024-01-20T15:43:34.397Z"
   },
   {
    "duration": 16,
    "start_time": "2024-01-20T15:43:34.407Z"
   },
   {
    "duration": 489,
    "start_time": "2024-01-20T15:56:45.156Z"
   },
   {
    "duration": 168,
    "start_time": "2024-01-20T16:41:08.860Z"
   },
   {
    "duration": 1017,
    "start_time": "2024-01-20T16:41:27.510Z"
   },
   {
    "duration": 84,
    "start_time": "2024-01-20T16:41:28.529Z"
   },
   {
    "duration": 4,
    "start_time": "2024-01-20T16:41:28.615Z"
   },
   {
    "duration": 41,
    "start_time": "2024-01-20T16:41:28.620Z"
   },
   {
    "duration": 33,
    "start_time": "2024-01-20T16:41:28.663Z"
   },
   {
    "duration": 37,
    "start_time": "2024-01-20T16:41:28.697Z"
   },
   {
    "duration": 36,
    "start_time": "2024-01-20T16:41:28.735Z"
   },
   {
    "duration": 177,
    "start_time": "2024-01-20T16:41:28.773Z"
   },
   {
    "duration": 132,
    "start_time": "2024-01-20T16:41:28.951Z"
   },
   {
    "duration": 257,
    "start_time": "2024-01-20T16:41:29.085Z"
   },
   {
    "duration": 285,
    "start_time": "2024-01-20T16:41:29.344Z"
   },
   {
    "duration": 8,
    "start_time": "2024-01-20T16:41:29.631Z"
   },
   {
    "duration": 267,
    "start_time": "2024-01-20T16:41:29.641Z"
   },
   {
    "duration": 8,
    "start_time": "2024-01-20T16:41:29.911Z"
   },
   {
    "duration": 33,
    "start_time": "2024-01-20T16:41:29.921Z"
   },
   {
    "duration": 11,
    "start_time": "2024-01-20T16:41:29.965Z"
   },
   {
    "duration": 347,
    "start_time": "2024-01-20T16:41:29.978Z"
   },
   {
    "duration": 171,
    "start_time": "2024-01-20T16:41:30.327Z"
   },
   {
    "duration": 33,
    "start_time": "2024-01-20T16:41:30.500Z"
   },
   {
    "duration": 37,
    "start_time": "2024-01-20T16:41:30.535Z"
   },
   {
    "duration": 236,
    "start_time": "2024-01-20T16:41:30.574Z"
   },
   {
    "duration": 5,
    "start_time": "2024-01-20T16:42:54.511Z"
   },
   {
    "duration": 1042,
    "start_time": "2024-01-20T17:55:30.807Z"
   },
   {
    "duration": 86,
    "start_time": "2024-01-20T17:55:31.851Z"
   },
   {
    "duration": 4,
    "start_time": "2024-01-20T17:55:31.939Z"
   },
   {
    "duration": 10,
    "start_time": "2024-01-20T17:55:31.945Z"
   },
   {
    "duration": 9,
    "start_time": "2024-01-20T17:55:31.957Z"
   },
   {
    "duration": 11,
    "start_time": "2024-01-20T17:55:31.967Z"
   },
   {
    "duration": 4,
    "start_time": "2024-01-20T17:55:31.980Z"
   },
   {
    "duration": 160,
    "start_time": "2024-01-20T17:55:31.986Z"
   },
   {
    "duration": 151,
    "start_time": "2024-01-20T17:55:32.147Z"
   },
   {
    "duration": 272,
    "start_time": "2024-01-20T17:55:32.300Z"
   },
   {
    "duration": 271,
    "start_time": "2024-01-20T17:55:32.574Z"
   },
   {
    "duration": 9,
    "start_time": "2024-01-20T17:55:32.846Z"
   },
   {
    "duration": 252,
    "start_time": "2024-01-20T17:55:32.856Z"
   },
   {
    "duration": 9,
    "start_time": "2024-01-20T17:55:33.110Z"
   },
   {
    "duration": 26,
    "start_time": "2024-01-20T17:55:33.120Z"
   },
   {
    "duration": 30,
    "start_time": "2024-01-20T17:55:33.147Z"
   },
   {
    "duration": 339,
    "start_time": "2024-01-20T17:55:33.178Z"
   },
   {
    "duration": 169,
    "start_time": "2024-01-20T17:55:33.519Z"
   },
   {
    "duration": 33,
    "start_time": "2024-01-20T17:55:33.690Z"
   },
   {
    "duration": 10,
    "start_time": "2024-01-20T17:55:33.725Z"
   },
   {
    "duration": 30,
    "start_time": "2024-01-20T17:55:33.737Z"
   },
   {
    "duration": 6,
    "start_time": "2024-01-20T17:56:07.069Z"
   },
   {
    "duration": 7,
    "start_time": "2024-01-20T18:27:18.135Z"
   },
   {
    "duration": 1373,
    "start_time": "2024-01-21T07:47:37.386Z"
   },
   {
    "duration": 210,
    "start_time": "2024-01-21T07:47:38.762Z"
   },
   {
    "duration": 5,
    "start_time": "2024-01-21T07:47:38.974Z"
   },
   {
    "duration": 45,
    "start_time": "2024-01-21T07:47:38.981Z"
   },
   {
    "duration": 16,
    "start_time": "2024-01-21T07:47:39.028Z"
   },
   {
    "duration": 12,
    "start_time": "2024-01-21T07:47:39.046Z"
   },
   {
    "duration": 7,
    "start_time": "2024-01-21T07:47:39.060Z"
   },
   {
    "duration": 187,
    "start_time": "2024-01-21T07:47:39.068Z"
   },
   {
    "duration": 151,
    "start_time": "2024-01-21T07:47:39.259Z"
   },
   {
    "duration": 320,
    "start_time": "2024-01-21T07:47:39.412Z"
   },
   {
    "duration": 314,
    "start_time": "2024-01-21T07:47:39.735Z"
   },
   {
    "duration": 13,
    "start_time": "2024-01-21T07:47:40.050Z"
   },
   {
    "duration": 287,
    "start_time": "2024-01-21T07:47:40.065Z"
   },
   {
    "duration": 8,
    "start_time": "2024-01-21T07:47:40.358Z"
   },
   {
    "duration": 28,
    "start_time": "2024-01-21T07:47:40.368Z"
   },
   {
    "duration": 11,
    "start_time": "2024-01-21T07:47:40.398Z"
   },
   {
    "duration": 378,
    "start_time": "2024-01-21T07:47:40.411Z"
   },
   {
    "duration": 190,
    "start_time": "2024-01-21T07:47:40.791Z"
   },
   {
    "duration": 34,
    "start_time": "2024-01-21T07:47:40.983Z"
   },
   {
    "duration": 9,
    "start_time": "2024-01-21T07:47:41.019Z"
   },
   {
    "duration": 25,
    "start_time": "2024-01-21T07:47:41.029Z"
   },
   {
    "duration": 5,
    "start_time": "2024-01-21T08:14:23.775Z"
   },
   {
    "duration": 6,
    "start_time": "2024-01-21T08:23:25.398Z"
   },
   {
    "duration": 122,
    "start_time": "2024-01-21T08:26:08.830Z"
   },
   {
    "duration": 1174,
    "start_time": "2024-01-21T08:26:50.768Z"
   },
   {
    "duration": 89,
    "start_time": "2024-01-21T08:26:51.944Z"
   },
   {
    "duration": 6,
    "start_time": "2024-01-21T08:26:52.035Z"
   },
   {
    "duration": 14,
    "start_time": "2024-01-21T08:26:52.043Z"
   },
   {
    "duration": 12,
    "start_time": "2024-01-21T08:26:52.058Z"
   },
   {
    "duration": 31,
    "start_time": "2024-01-21T08:26:52.072Z"
   },
   {
    "duration": 7,
    "start_time": "2024-01-21T08:26:52.105Z"
   },
   {
    "duration": 195,
    "start_time": "2024-01-21T08:26:52.114Z"
   },
   {
    "duration": 139,
    "start_time": "2024-01-21T08:26:52.311Z"
   },
   {
    "duration": 290,
    "start_time": "2024-01-21T08:26:52.452Z"
   },
   {
    "duration": 287,
    "start_time": "2024-01-21T08:26:52.744Z"
   },
   {
    "duration": 9,
    "start_time": "2024-01-21T08:26:53.033Z"
   },
   {
    "duration": 294,
    "start_time": "2024-01-21T08:26:53.044Z"
   },
   {
    "duration": 20,
    "start_time": "2024-01-21T08:26:53.340Z"
   },
   {
    "duration": 28,
    "start_time": "2024-01-21T08:26:53.362Z"
   },
   {
    "duration": 12,
    "start_time": "2024-01-21T08:26:53.392Z"
   },
   {
    "duration": 378,
    "start_time": "2024-01-21T08:26:53.405Z"
   },
   {
    "duration": 181,
    "start_time": "2024-01-21T08:26:53.785Z"
   },
   {
    "duration": 35,
    "start_time": "2024-01-21T08:26:53.968Z"
   },
   {
    "duration": 10,
    "start_time": "2024-01-21T08:26:54.005Z"
   },
   {
    "duration": 7,
    "start_time": "2024-01-21T08:26:54.017Z"
   },
   {
    "duration": 34,
    "start_time": "2024-01-21T08:26:54.025Z"
   },
   {
    "duration": 122,
    "start_time": "2024-01-21T08:26:54.061Z"
   },
   {
    "duration": 21,
    "start_time": "2024-01-21T08:27:54.376Z"
   },
   {
    "duration": 1151,
    "start_time": "2024-01-21T08:28:11.678Z"
   },
   {
    "duration": 87,
    "start_time": "2024-01-21T08:28:12.831Z"
   },
   {
    "duration": 4,
    "start_time": "2024-01-21T08:28:12.920Z"
   },
   {
    "duration": 11,
    "start_time": "2024-01-21T08:28:12.926Z"
   },
   {
    "duration": 12,
    "start_time": "2024-01-21T08:28:12.939Z"
   },
   {
    "duration": 14,
    "start_time": "2024-01-21T08:28:12.953Z"
   },
   {
    "duration": 5,
    "start_time": "2024-01-21T08:28:12.969Z"
   },
   {
    "duration": 178,
    "start_time": "2024-01-21T08:28:12.975Z"
   },
   {
    "duration": 141,
    "start_time": "2024-01-21T08:28:13.158Z"
   },
   {
    "duration": 296,
    "start_time": "2024-01-21T08:28:13.301Z"
   },
   {
    "duration": 288,
    "start_time": "2024-01-21T08:28:13.599Z"
   },
   {
    "duration": 9,
    "start_time": "2024-01-21T08:28:13.888Z"
   },
   {
    "duration": 289,
    "start_time": "2024-01-21T08:28:13.898Z"
   },
   {
    "duration": 8,
    "start_time": "2024-01-21T08:28:14.191Z"
   },
   {
    "duration": 35,
    "start_time": "2024-01-21T08:28:14.200Z"
   },
   {
    "duration": 24,
    "start_time": "2024-01-21T08:28:14.237Z"
   },
   {
    "duration": 375,
    "start_time": "2024-01-21T08:28:14.263Z"
   },
   {
    "duration": 197,
    "start_time": "2024-01-21T08:28:14.640Z"
   },
   {
    "duration": 43,
    "start_time": "2024-01-21T08:28:14.839Z"
   },
   {
    "duration": 9,
    "start_time": "2024-01-21T08:28:14.884Z"
   },
   {
    "duration": 5,
    "start_time": "2024-01-21T08:28:14.895Z"
   },
   {
    "duration": 4,
    "start_time": "2024-01-21T08:28:14.902Z"
   },
   {
    "duration": 133,
    "start_time": "2024-01-21T08:28:14.908Z"
   },
   {
    "duration": 10,
    "start_time": "2024-01-21T08:28:47.791Z"
   },
   {
    "duration": 1218,
    "start_time": "2024-01-21T09:43:52.729Z"
   },
   {
    "duration": 97,
    "start_time": "2024-01-21T09:43:53.949Z"
   },
   {
    "duration": 5,
    "start_time": "2024-01-21T09:43:54.048Z"
   },
   {
    "duration": 11,
    "start_time": "2024-01-21T09:43:54.055Z"
   },
   {
    "duration": 9,
    "start_time": "2024-01-21T09:43:54.068Z"
   },
   {
    "duration": 12,
    "start_time": "2024-01-21T09:43:54.078Z"
   },
   {
    "duration": 5,
    "start_time": "2024-01-21T09:43:54.091Z"
   },
   {
    "duration": 185,
    "start_time": "2024-01-21T09:43:54.098Z"
   },
   {
    "duration": 140,
    "start_time": "2024-01-21T09:43:54.285Z"
   },
   {
    "duration": 295,
    "start_time": "2024-01-21T09:43:54.427Z"
   },
   {
    "duration": 285,
    "start_time": "2024-01-21T09:43:54.723Z"
   },
   {
    "duration": 9,
    "start_time": "2024-01-21T09:43:55.010Z"
   },
   {
    "duration": 289,
    "start_time": "2024-01-21T09:43:55.021Z"
   },
   {
    "duration": 9,
    "start_time": "2024-01-21T09:43:55.311Z"
   },
   {
    "duration": 41,
    "start_time": "2024-01-21T09:43:55.321Z"
   },
   {
    "duration": 12,
    "start_time": "2024-01-21T09:43:55.364Z"
   },
   {
    "duration": 362,
    "start_time": "2024-01-21T09:43:55.378Z"
   },
   {
    "duration": 183,
    "start_time": "2024-01-21T09:43:55.741Z"
   },
   {
    "duration": 47,
    "start_time": "2024-01-21T09:43:55.926Z"
   },
   {
    "duration": 9,
    "start_time": "2024-01-21T09:43:55.975Z"
   },
   {
    "duration": 17,
    "start_time": "2024-01-21T09:43:55.986Z"
   },
   {
    "duration": 15,
    "start_time": "2024-01-21T09:43:56.005Z"
   },
   {
    "duration": 11,
    "start_time": "2024-01-21T09:43:56.022Z"
   },
   {
    "duration": 2,
    "start_time": "2024-01-21T10:08:15.801Z"
   },
   {
    "duration": 4,
    "start_time": "2024-01-21T10:49:29.644Z"
   },
   {
    "duration": 3158,
    "start_time": "2024-01-21T10:51:36.301Z"
   },
   {
    "duration": 345,
    "start_time": "2024-01-21T10:52:13.800Z"
   },
   {
    "duration": 3335,
    "start_time": "2024-01-21T10:53:17.053Z"
   },
   {
    "duration": 3535,
    "start_time": "2024-01-21T10:53:31.113Z"
   },
   {
    "duration": 1800,
    "start_time": "2024-01-21T10:53:53.546Z"
   },
   {
    "duration": 1285,
    "start_time": "2024-01-21T10:54:06.005Z"
   },
   {
    "duration": 1795,
    "start_time": "2024-01-21T11:01:00.672Z"
   },
   {
    "duration": 374,
    "start_time": "2024-01-21T11:01:20.960Z"
   },
   {
    "duration": 377,
    "start_time": "2024-01-21T11:01:53.328Z"
   },
   {
    "duration": 363,
    "start_time": "2024-01-21T11:02:00.437Z"
   },
   {
    "duration": 1959,
    "start_time": "2024-01-21T11:02:04.601Z"
   },
   {
    "duration": 282,
    "start_time": "2024-01-21T11:03:44.244Z"
   },
   {
    "duration": 329,
    "start_time": "2024-01-21T11:04:22.612Z"
   },
   {
    "duration": 162,
    "start_time": "2024-01-21T11:06:17.841Z"
   },
   {
    "duration": 276,
    "start_time": "2024-01-21T11:06:44.046Z"
   },
   {
    "duration": 244,
    "start_time": "2024-01-21T11:06:53.195Z"
   },
   {
    "duration": 264,
    "start_time": "2024-01-21T11:06:58.696Z"
   },
   {
    "duration": 265,
    "start_time": "2024-01-21T11:07:10.879Z"
   },
   {
    "duration": 1533,
    "start_time": "2024-01-21T11:07:32.913Z"
   },
   {
    "duration": 3696,
    "start_time": "2024-01-21T11:07:49.943Z"
   },
   {
    "duration": 3740,
    "start_time": "2024-01-21T11:10:38.269Z"
   },
   {
    "duration": 3592,
    "start_time": "2024-01-21T11:16:48.904Z"
   },
   {
    "duration": 2706,
    "start_time": "2024-01-21T11:17:30.321Z"
   },
   {
    "duration": 3346,
    "start_time": "2024-01-21T11:17:48.517Z"
   },
   {
    "duration": 3118,
    "start_time": "2024-01-21T11:18:19.723Z"
   },
   {
    "duration": 6,
    "start_time": "2024-01-21T11:18:22.844Z"
   },
   {
    "duration": 3813,
    "start_time": "2024-01-21T11:18:31.060Z"
   },
   {
    "duration": 6,
    "start_time": "2024-01-21T11:18:34.875Z"
   },
   {
    "duration": 1485,
    "start_time": "2024-01-21T11:21:17.013Z"
   },
   {
    "duration": 6,
    "start_time": "2024-01-21T11:30:14.925Z"
   },
   {
    "duration": 5,
    "start_time": "2024-01-21T11:30:21.994Z"
   },
   {
    "duration": 11,
    "start_time": "2024-01-21T11:30:30.499Z"
   },
   {
    "duration": 84,
    "start_time": "2024-01-21T11:30:57.250Z"
   },
   {
    "duration": 82,
    "start_time": "2024-01-21T11:31:03.210Z"
   },
   {
    "duration": 6,
    "start_time": "2024-01-21T11:31:48.801Z"
   },
   {
    "duration": 6,
    "start_time": "2024-01-21T11:32:24.052Z"
   },
   {
    "duration": 6,
    "start_time": "2024-01-21T11:32:33.875Z"
   },
   {
    "duration": 3495,
    "start_time": "2024-01-21T11:33:00.035Z"
   },
   {
    "duration": 6,
    "start_time": "2024-01-21T11:33:06.804Z"
   },
   {
    "duration": 2669,
    "start_time": "2024-01-21T11:33:23.937Z"
   },
   {
    "duration": 6,
    "start_time": "2024-01-21T11:33:29.317Z"
   },
   {
    "duration": 1993,
    "start_time": "2024-01-21T11:33:38.105Z"
   },
   {
    "duration": 6,
    "start_time": "2024-01-21T11:33:41.284Z"
   },
   {
    "duration": 2513,
    "start_time": "2024-01-21T11:33:47.920Z"
   },
   {
    "duration": 6,
    "start_time": "2024-01-21T11:33:52.865Z"
   },
   {
    "duration": 2319,
    "start_time": "2024-01-21T11:33:56.653Z"
   },
   {
    "duration": 6,
    "start_time": "2024-01-21T11:34:02.066Z"
   },
   {
    "duration": 2296,
    "start_time": "2024-01-21T11:34:11.959Z"
   },
   {
    "duration": 5,
    "start_time": "2024-01-21T11:34:17.698Z"
   },
   {
    "duration": 2158,
    "start_time": "2024-01-21T11:34:29.597Z"
   },
   {
    "duration": 6,
    "start_time": "2024-01-21T11:34:42.195Z"
   },
   {
    "duration": 2072,
    "start_time": "2024-01-21T11:34:47.550Z"
   },
   {
    "duration": 5,
    "start_time": "2024-01-21T11:34:50.692Z"
   },
   {
    "duration": 2205,
    "start_time": "2024-01-21T11:35:15.021Z"
   },
   {
    "duration": 6,
    "start_time": "2024-01-21T11:35:19.677Z"
   },
   {
    "duration": 2182,
    "start_time": "2024-01-21T11:35:27.904Z"
   },
   {
    "duration": 5,
    "start_time": "2024-01-21T11:35:32.801Z"
   },
   {
    "duration": 2226,
    "start_time": "2024-01-21T11:35:41.702Z"
   },
   {
    "duration": 5,
    "start_time": "2024-01-21T11:35:46.813Z"
   },
   {
    "duration": 1728,
    "start_time": "2024-01-21T11:35:55.948Z"
   },
   {
    "duration": 5,
    "start_time": "2024-01-21T11:36:00.351Z"
   },
   {
    "duration": 2227,
    "start_time": "2024-01-21T11:36:04.581Z"
   },
   {
    "duration": 6,
    "start_time": "2024-01-21T11:36:07.045Z"
   },
   {
    "duration": 2171,
    "start_time": "2024-01-21T11:36:12.330Z"
   },
   {
    "duration": 6,
    "start_time": "2024-01-21T11:36:16.743Z"
   },
   {
    "duration": 2137,
    "start_time": "2024-01-21T11:36:26.516Z"
   },
   {
    "duration": 6,
    "start_time": "2024-01-21T11:36:31.170Z"
   },
   {
    "duration": 6,
    "start_time": "2024-01-21T11:45:08.597Z"
   },
   {
    "duration": 1374,
    "start_time": "2024-01-21T11:45:34.762Z"
   },
   {
    "duration": 6,
    "start_time": "2024-01-21T11:46:05.158Z"
   },
   {
    "duration": 150,
    "start_time": "2024-01-21T11:46:22.288Z"
   },
   {
    "duration": 162,
    "start_time": "2024-01-21T11:46:27.310Z"
   },
   {
    "duration": 1866,
    "start_time": "2024-01-21T11:47:09.235Z"
   },
   {
    "duration": 7,
    "start_time": "2024-01-21T11:47:18.660Z"
   },
   {
    "duration": 163,
    "start_time": "2024-01-21T11:47:39.515Z"
   },
   {
    "duration": 2220,
    "start_time": "2024-01-21T11:47:41.623Z"
   },
   {
    "duration": 7,
    "start_time": "2024-01-21T11:47:48.020Z"
   },
   {
    "duration": 6,
    "start_time": "2024-01-21T11:48:43.272Z"
   },
   {
    "duration": 5,
    "start_time": "2024-01-21T11:48:51.424Z"
   },
   {
    "duration": 3,
    "start_time": "2024-01-21T12:24:15.783Z"
   },
   {
    "duration": 11,
    "start_time": "2024-01-21T12:26:36.615Z"
   },
   {
    "duration": 168,
    "start_time": "2024-01-21T12:26:50.594Z"
   },
   {
    "duration": 98,
    "start_time": "2024-01-21T12:27:29.497Z"
   },
   {
    "duration": 45,
    "start_time": "2024-01-21T12:27:41.315Z"
   },
   {
    "duration": 44,
    "start_time": "2024-01-21T12:27:48.600Z"
   },
   {
    "duration": 6,
    "start_time": "2024-01-21T12:28:13.029Z"
   },
   {
    "duration": 6,
    "start_time": "2024-01-21T12:28:17.415Z"
   },
   {
    "duration": 6,
    "start_time": "2024-01-21T12:28:28.671Z"
   },
   {
    "duration": 3,
    "start_time": "2024-01-21T12:33:43.775Z"
   },
   {
    "duration": 6,
    "start_time": "2024-01-21T12:33:49.976Z"
   },
   {
    "duration": 203,
    "start_time": "2024-01-21T12:35:13.615Z"
   },
   {
    "duration": 119,
    "start_time": "2024-01-21T12:35:56.777Z"
   },
   {
    "duration": 130,
    "start_time": "2024-01-21T12:36:18.260Z"
   },
   {
    "duration": 208,
    "start_time": "2024-01-21T12:37:51.988Z"
   },
   {
    "duration": 215,
    "start_time": "2024-01-21T12:38:07.877Z"
   },
   {
    "duration": 188,
    "start_time": "2024-01-21T12:40:51.387Z"
   },
   {
    "duration": 18,
    "start_time": "2024-01-21T12:41:58.051Z"
   },
   {
    "duration": 604,
    "start_time": "2024-01-21T12:43:20.025Z"
   },
   {
    "duration": 198,
    "start_time": "2024-01-21T12:44:37.570Z"
   },
   {
    "duration": 18,
    "start_time": "2024-01-21T12:54:12.705Z"
   },
   {
    "duration": 19,
    "start_time": "2024-01-21T12:54:46.608Z"
   },
   {
    "duration": 628,
    "start_time": "2024-01-21T12:55:03.879Z"
   },
   {
    "duration": 188,
    "start_time": "2024-01-21T12:55:49.119Z"
   },
   {
    "duration": 1189,
    "start_time": "2024-01-21T12:56:08.944Z"
   },
   {
    "duration": 89,
    "start_time": "2024-01-21T12:56:10.135Z"
   },
   {
    "duration": 5,
    "start_time": "2024-01-21T12:56:10.226Z"
   },
   {
    "duration": 11,
    "start_time": "2024-01-21T12:56:10.233Z"
   },
   {
    "duration": 9,
    "start_time": "2024-01-21T12:56:10.245Z"
   },
   {
    "duration": 12,
    "start_time": "2024-01-21T12:56:10.256Z"
   },
   {
    "duration": 5,
    "start_time": "2024-01-21T12:56:10.270Z"
   },
   {
    "duration": 182,
    "start_time": "2024-01-21T12:56:10.276Z"
   },
   {
    "duration": 157,
    "start_time": "2024-01-21T12:56:10.460Z"
   },
   {
    "duration": 286,
    "start_time": "2024-01-21T12:56:10.620Z"
   },
   {
    "duration": 286,
    "start_time": "2024-01-21T12:56:10.908Z"
   },
   {
    "duration": 9,
    "start_time": "2024-01-21T12:56:11.195Z"
   },
   {
    "duration": 280,
    "start_time": "2024-01-21T12:56:11.206Z"
   },
   {
    "duration": 9,
    "start_time": "2024-01-21T12:56:11.488Z"
   },
   {
    "duration": 29,
    "start_time": "2024-01-21T12:56:11.498Z"
   },
   {
    "duration": 37,
    "start_time": "2024-01-21T12:56:11.528Z"
   },
   {
    "duration": 369,
    "start_time": "2024-01-21T12:56:11.567Z"
   },
   {
    "duration": 180,
    "start_time": "2024-01-21T12:56:11.937Z"
   },
   {
    "duration": 48,
    "start_time": "2024-01-21T12:56:12.119Z"
   },
   {
    "duration": 12,
    "start_time": "2024-01-21T12:56:12.169Z"
   },
   {
    "duration": 6,
    "start_time": "2024-01-21T12:56:12.182Z"
   },
   {
    "duration": 5,
    "start_time": "2024-01-21T12:56:12.190Z"
   },
   {
    "duration": 10,
    "start_time": "2024-01-21T12:56:12.196Z"
   },
   {
    "duration": 202,
    "start_time": "2024-01-21T12:56:12.207Z"
   },
   {
    "duration": 2283,
    "start_time": "2024-01-21T12:56:12.411Z"
   },
   {
    "duration": 6,
    "start_time": "2024-01-21T12:56:14.695Z"
   },
   {
    "duration": 222,
    "start_time": "2024-01-21T12:56:14.703Z"
   },
   {
    "duration": 437,
    "start_time": "2024-01-21T12:57:19.647Z"
   },
   {
    "duration": 187,
    "start_time": "2024-01-21T12:57:28.312Z"
   },
   {
    "duration": 1155,
    "start_time": "2024-01-21T12:57:36.779Z"
   },
   {
    "duration": 90,
    "start_time": "2024-01-21T12:57:37.936Z"
   },
   {
    "duration": 5,
    "start_time": "2024-01-21T12:57:38.027Z"
   },
   {
    "duration": 22,
    "start_time": "2024-01-21T12:57:38.034Z"
   },
   {
    "duration": 23,
    "start_time": "2024-01-21T12:57:38.058Z"
   },
   {
    "duration": 41,
    "start_time": "2024-01-21T12:57:38.083Z"
   },
   {
    "duration": 18,
    "start_time": "2024-01-21T12:57:38.126Z"
   },
   {
    "duration": 184,
    "start_time": "2024-01-21T12:57:38.146Z"
   },
   {
    "duration": 143,
    "start_time": "2024-01-21T12:57:38.332Z"
   },
   {
    "duration": 295,
    "start_time": "2024-01-21T12:57:38.476Z"
   },
   {
    "duration": 281,
    "start_time": "2024-01-21T12:57:38.772Z"
   },
   {
    "duration": 8,
    "start_time": "2024-01-21T12:57:39.059Z"
   },
   {
    "duration": 289,
    "start_time": "2024-01-21T12:57:39.069Z"
   },
   {
    "duration": 9,
    "start_time": "2024-01-21T12:57:39.361Z"
   },
   {
    "duration": 37,
    "start_time": "2024-01-21T12:57:39.371Z"
   },
   {
    "duration": 14,
    "start_time": "2024-01-21T12:57:39.410Z"
   },
   {
    "duration": 421,
    "start_time": "2024-01-21T12:57:39.426Z"
   },
   {
    "duration": 184,
    "start_time": "2024-01-21T12:57:39.848Z"
   },
   {
    "duration": 43,
    "start_time": "2024-01-21T12:57:40.034Z"
   },
   {
    "duration": 20,
    "start_time": "2024-01-21T12:57:40.078Z"
   },
   {
    "duration": 60,
    "start_time": "2024-01-21T12:57:40.099Z"
   },
   {
    "duration": 22,
    "start_time": "2024-01-21T12:57:40.160Z"
   },
   {
    "duration": 25,
    "start_time": "2024-01-21T12:57:40.184Z"
   },
   {
    "duration": 190,
    "start_time": "2024-01-21T12:57:40.211Z"
   },
   {
    "duration": 1845,
    "start_time": "2024-01-21T12:57:40.402Z"
   },
   {
    "duration": 12,
    "start_time": "2024-01-21T12:57:42.249Z"
   },
   {
    "duration": 219,
    "start_time": "2024-01-21T12:57:42.263Z"
   },
   {
    "duration": 822,
    "start_time": "2024-01-21T13:49:57.061Z"
   },
   {
    "duration": 1141,
    "start_time": "2024-01-21T13:50:06.604Z"
   },
   {
    "duration": 95,
    "start_time": "2024-01-21T13:50:07.747Z"
   },
   {
    "duration": 5,
    "start_time": "2024-01-21T13:50:07.844Z"
   },
   {
    "duration": 21,
    "start_time": "2024-01-21T13:50:07.851Z"
   },
   {
    "duration": 22,
    "start_time": "2024-01-21T13:50:07.874Z"
   },
   {
    "duration": 14,
    "start_time": "2024-01-21T13:50:07.898Z"
   },
   {
    "duration": 5,
    "start_time": "2024-01-21T13:50:07.914Z"
   },
   {
    "duration": 171,
    "start_time": "2024-01-21T13:50:07.921Z"
   },
   {
    "duration": 144,
    "start_time": "2024-01-21T13:50:08.093Z"
   },
   {
    "duration": 290,
    "start_time": "2024-01-21T13:50:08.239Z"
   },
   {
    "duration": 299,
    "start_time": "2024-01-21T13:50:08.530Z"
   },
   {
    "duration": 9,
    "start_time": "2024-01-21T13:50:08.830Z"
   },
   {
    "duration": 285,
    "start_time": "2024-01-21T13:50:08.840Z"
   },
   {
    "duration": 12,
    "start_time": "2024-01-21T13:50:09.128Z"
   },
   {
    "duration": 41,
    "start_time": "2024-01-21T13:50:09.141Z"
   },
   {
    "duration": 12,
    "start_time": "2024-01-21T13:50:09.184Z"
   },
   {
    "duration": 381,
    "start_time": "2024-01-21T13:50:09.197Z"
   },
   {
    "duration": 185,
    "start_time": "2024-01-21T13:50:09.579Z"
   },
   {
    "duration": 37,
    "start_time": "2024-01-21T13:50:09.766Z"
   },
   {
    "duration": 10,
    "start_time": "2024-01-21T13:50:09.805Z"
   },
   {
    "duration": 13,
    "start_time": "2024-01-21T13:50:09.816Z"
   },
   {
    "duration": 28,
    "start_time": "2024-01-21T13:50:09.830Z"
   },
   {
    "duration": 11,
    "start_time": "2024-01-21T13:50:09.860Z"
   },
   {
    "duration": 171,
    "start_time": "2024-01-21T13:50:09.872Z"
   },
   {
    "duration": 2474,
    "start_time": "2024-01-21T13:50:10.045Z"
   },
   {
    "duration": 6,
    "start_time": "2024-01-21T13:50:12.520Z"
   },
   {
    "duration": 226,
    "start_time": "2024-01-21T13:50:12.528Z"
   },
   {
    "duration": 776,
    "start_time": "2024-01-21T13:54:29.462Z"
   },
   {
    "duration": 1128,
    "start_time": "2024-01-21T13:54:52.008Z"
   },
   {
    "duration": 89,
    "start_time": "2024-01-21T13:54:53.138Z"
   },
   {
    "duration": 5,
    "start_time": "2024-01-21T13:54:53.229Z"
   },
   {
    "duration": 15,
    "start_time": "2024-01-21T13:54:53.235Z"
   },
   {
    "duration": 26,
    "start_time": "2024-01-21T13:54:53.252Z"
   },
   {
    "duration": 12,
    "start_time": "2024-01-21T13:54:53.280Z"
   },
   {
    "duration": 6,
    "start_time": "2024-01-21T13:54:53.294Z"
   },
   {
    "duration": 182,
    "start_time": "2024-01-21T13:54:53.301Z"
   },
   {
    "duration": 148,
    "start_time": "2024-01-21T13:54:53.484Z"
   },
   {
    "duration": 292,
    "start_time": "2024-01-21T13:54:53.634Z"
   },
   {
    "duration": 289,
    "start_time": "2024-01-21T13:54:53.929Z"
   },
   {
    "duration": 8,
    "start_time": "2024-01-21T13:54:54.220Z"
   },
   {
    "duration": 291,
    "start_time": "2024-01-21T13:54:54.230Z"
   },
   {
    "duration": 9,
    "start_time": "2024-01-21T13:54:54.524Z"
   },
   {
    "duration": 43,
    "start_time": "2024-01-21T13:54:54.534Z"
   },
   {
    "duration": 13,
    "start_time": "2024-01-21T13:54:54.578Z"
   },
   {
    "duration": 384,
    "start_time": "2024-01-21T13:54:54.592Z"
   },
   {
    "duration": 198,
    "start_time": "2024-01-21T13:54:54.977Z"
   },
   {
    "duration": 36,
    "start_time": "2024-01-21T13:54:55.176Z"
   },
   {
    "duration": 10,
    "start_time": "2024-01-21T13:54:55.214Z"
   },
   {
    "duration": 6,
    "start_time": "2024-01-21T13:54:55.225Z"
   },
   {
    "duration": 28,
    "start_time": "2024-01-21T13:54:55.232Z"
   },
   {
    "duration": 14,
    "start_time": "2024-01-21T13:54:55.262Z"
   },
   {
    "duration": 174,
    "start_time": "2024-01-21T13:54:55.278Z"
   },
   {
    "duration": 2392,
    "start_time": "2024-01-21T13:54:55.458Z"
   },
   {
    "duration": 10,
    "start_time": "2024-01-21T13:54:57.852Z"
   },
   {
    "duration": 219,
    "start_time": "2024-01-21T13:54:57.864Z"
   },
   {
    "duration": 717,
    "start_time": "2024-01-21T17:21:29.731Z"
   },
   {
    "duration": 231,
    "start_time": "2024-01-21T17:24:00.871Z"
   },
   {
    "duration": 214,
    "start_time": "2024-01-21T17:24:22.927Z"
   },
   {
    "duration": 20,
    "start_time": "2024-01-21T17:26:06.213Z"
   },
   {
    "duration": 328,
    "start_time": "2024-01-21T17:26:13.212Z"
   },
   {
    "duration": 17,
    "start_time": "2024-01-21T17:26:49.465Z"
   },
   {
    "duration": 22,
    "start_time": "2024-01-21T17:27:06.361Z"
   },
   {
    "duration": 1226,
    "start_time": "2024-01-21T17:27:28.660Z"
   },
   {
    "duration": 104,
    "start_time": "2024-01-21T17:27:29.888Z"
   },
   {
    "duration": 5,
    "start_time": "2024-01-21T17:27:29.994Z"
   },
   {
    "duration": 75,
    "start_time": "2024-01-21T17:27:30.001Z"
   },
   {
    "duration": 45,
    "start_time": "2024-01-21T17:27:30.078Z"
   },
   {
    "duration": 48,
    "start_time": "2024-01-21T17:27:30.125Z"
   },
   {
    "duration": 22,
    "start_time": "2024-01-21T17:27:30.175Z"
   },
   {
    "duration": 248,
    "start_time": "2024-01-21T17:27:30.199Z"
   },
   {
    "duration": 159,
    "start_time": "2024-01-21T17:27:30.449Z"
   },
   {
    "duration": 323,
    "start_time": "2024-01-21T17:27:30.611Z"
   },
   {
    "duration": 339,
    "start_time": "2024-01-21T17:27:30.936Z"
   },
   {
    "duration": 10,
    "start_time": "2024-01-21T17:27:31.277Z"
   },
   {
    "duration": 330,
    "start_time": "2024-01-21T17:27:31.288Z"
   },
   {
    "duration": 10,
    "start_time": "2024-01-21T17:27:31.619Z"
   },
   {
    "duration": 65,
    "start_time": "2024-01-21T17:27:31.630Z"
   },
   {
    "duration": 15,
    "start_time": "2024-01-21T17:27:31.697Z"
   },
   {
    "duration": 420,
    "start_time": "2024-01-21T17:27:31.713Z"
   },
   {
    "duration": 220,
    "start_time": "2024-01-21T17:27:32.135Z"
   },
   {
    "duration": 43,
    "start_time": "2024-01-21T17:27:32.359Z"
   },
   {
    "duration": 10,
    "start_time": "2024-01-21T17:27:32.404Z"
   },
   {
    "duration": 30,
    "start_time": "2024-01-21T17:27:32.416Z"
   },
   {
    "duration": 5,
    "start_time": "2024-01-21T17:27:32.448Z"
   },
   {
    "duration": 16,
    "start_time": "2024-01-21T17:27:32.458Z"
   },
   {
    "duration": 177,
    "start_time": "2024-01-21T17:27:32.476Z"
   },
   {
    "duration": 183,
    "start_time": "2024-01-21T17:27:32.655Z"
   },
   {
    "duration": 6,
    "start_time": "2024-01-21T17:27:32.839Z"
   },
   {
    "duration": 257,
    "start_time": "2024-01-21T17:27:32.847Z"
   },
   {
    "duration": 227,
    "start_time": "2024-01-21T17:31:36.795Z"
   },
   {
    "duration": 1132,
    "start_time": "2024-01-21T17:31:51.222Z"
   },
   {
    "duration": 91,
    "start_time": "2024-01-21T17:31:52.356Z"
   },
   {
    "duration": 4,
    "start_time": "2024-01-21T17:31:52.449Z"
   },
   {
    "duration": 29,
    "start_time": "2024-01-21T17:31:52.455Z"
   },
   {
    "duration": 10,
    "start_time": "2024-01-21T17:31:52.486Z"
   },
   {
    "duration": 13,
    "start_time": "2024-01-21T17:31:52.497Z"
   },
   {
    "duration": 6,
    "start_time": "2024-01-21T17:31:52.512Z"
   },
   {
    "duration": 188,
    "start_time": "2024-01-21T17:31:52.520Z"
   },
   {
    "duration": 144,
    "start_time": "2024-01-21T17:31:52.710Z"
   },
   {
    "duration": 309,
    "start_time": "2024-01-21T17:31:52.857Z"
   },
   {
    "duration": 314,
    "start_time": "2024-01-21T17:31:53.168Z"
   },
   {
    "duration": 9,
    "start_time": "2024-01-21T17:31:53.484Z"
   },
   {
    "duration": 327,
    "start_time": "2024-01-21T17:31:53.495Z"
   },
   {
    "duration": 9,
    "start_time": "2024-01-21T17:31:53.824Z"
   },
   {
    "duration": 53,
    "start_time": "2024-01-21T17:31:53.834Z"
   },
   {
    "duration": 13,
    "start_time": "2024-01-21T17:31:53.889Z"
   },
   {
    "duration": 401,
    "start_time": "2024-01-21T17:31:53.903Z"
   },
   {
    "duration": 203,
    "start_time": "2024-01-21T17:31:54.306Z"
   },
   {
    "duration": 49,
    "start_time": "2024-01-21T17:31:54.510Z"
   },
   {
    "duration": 15,
    "start_time": "2024-01-21T17:31:54.561Z"
   },
   {
    "duration": 8,
    "start_time": "2024-01-21T17:31:54.578Z"
   },
   {
    "duration": 10,
    "start_time": "2024-01-21T17:31:54.588Z"
   },
   {
    "duration": 13,
    "start_time": "2024-01-21T17:31:54.600Z"
   },
   {
    "duration": 193,
    "start_time": "2024-01-21T17:31:54.615Z"
   },
   {
    "duration": 2038,
    "start_time": "2024-01-21T17:31:54.810Z"
   },
   {
    "duration": 6,
    "start_time": "2024-01-21T17:31:56.849Z"
   },
   {
    "duration": 249,
    "start_time": "2024-01-21T17:31:56.859Z"
   },
   {
    "duration": 230,
    "start_time": "2024-01-21T17:32:27.420Z"
   },
   {
    "duration": 1238,
    "start_time": "2024-01-21T17:32:34.118Z"
   },
   {
    "duration": 108,
    "start_time": "2024-01-21T17:32:35.365Z"
   },
   {
    "duration": 5,
    "start_time": "2024-01-21T17:32:35.475Z"
   },
   {
    "duration": 14,
    "start_time": "2024-01-21T17:32:35.482Z"
   },
   {
    "duration": 10,
    "start_time": "2024-01-21T17:32:35.497Z"
   },
   {
    "duration": 16,
    "start_time": "2024-01-21T17:32:35.509Z"
   },
   {
    "duration": 38,
    "start_time": "2024-01-21T17:32:35.526Z"
   },
   {
    "duration": 177,
    "start_time": "2024-01-21T17:32:35.571Z"
   },
   {
    "duration": 157,
    "start_time": "2024-01-21T17:32:35.749Z"
   },
   {
    "duration": 316,
    "start_time": "2024-01-21T17:32:35.908Z"
   },
   {
    "duration": 315,
    "start_time": "2024-01-21T17:32:36.226Z"
   },
   {
    "duration": 20,
    "start_time": "2024-01-21T17:32:36.543Z"
   },
   {
    "duration": 308,
    "start_time": "2024-01-21T17:32:36.566Z"
   },
   {
    "duration": 8,
    "start_time": "2024-01-21T17:32:36.876Z"
   },
   {
    "duration": 46,
    "start_time": "2024-01-21T17:32:36.886Z"
   },
   {
    "duration": 14,
    "start_time": "2024-01-21T17:32:36.935Z"
   },
   {
    "duration": 377,
    "start_time": "2024-01-21T17:32:36.959Z"
   },
   {
    "duration": 192,
    "start_time": "2024-01-21T17:32:37.338Z"
   },
   {
    "duration": 45,
    "start_time": "2024-01-21T17:32:37.531Z"
   },
   {
    "duration": 11,
    "start_time": "2024-01-21T17:32:37.577Z"
   },
   {
    "duration": 8,
    "start_time": "2024-01-21T17:32:37.589Z"
   },
   {
    "duration": 6,
    "start_time": "2024-01-21T17:32:37.598Z"
   },
   {
    "duration": 11,
    "start_time": "2024-01-21T17:32:37.605Z"
   },
   {
    "duration": 186,
    "start_time": "2024-01-21T17:32:37.617Z"
   },
   {
    "duration": 1911,
    "start_time": "2024-01-21T17:32:37.805Z"
   },
   {
    "duration": 6,
    "start_time": "2024-01-21T17:32:39.717Z"
   },
   {
    "duration": 229,
    "start_time": "2024-01-21T17:32:39.725Z"
   },
   {
    "duration": 1144,
    "start_time": "2024-01-21T17:33:06.000Z"
   },
   {
    "duration": 94,
    "start_time": "2024-01-21T17:33:07.146Z"
   },
   {
    "duration": 6,
    "start_time": "2024-01-21T17:33:07.242Z"
   },
   {
    "duration": 11,
    "start_time": "2024-01-21T17:33:07.250Z"
   },
   {
    "duration": 25,
    "start_time": "2024-01-21T17:33:07.263Z"
   },
   {
    "duration": 21,
    "start_time": "2024-01-21T17:33:07.290Z"
   },
   {
    "duration": 6,
    "start_time": "2024-01-21T17:33:07.313Z"
   },
   {
    "duration": 169,
    "start_time": "2024-01-21T17:33:07.321Z"
   },
   {
    "duration": 139,
    "start_time": "2024-01-21T17:33:07.492Z"
   },
   {
    "duration": 299,
    "start_time": "2024-01-21T17:33:07.634Z"
   },
   {
    "duration": 279,
    "start_time": "2024-01-21T17:33:07.934Z"
   },
   {
    "duration": 10,
    "start_time": "2024-01-21T17:33:08.214Z"
   },
   {
    "duration": 299,
    "start_time": "2024-01-21T17:33:08.226Z"
   },
   {
    "duration": 8,
    "start_time": "2024-01-21T17:33:08.527Z"
   },
   {
    "duration": 41,
    "start_time": "2024-01-21T17:33:08.537Z"
   },
   {
    "duration": 12,
    "start_time": "2024-01-21T17:33:08.580Z"
   },
   {
    "duration": 377,
    "start_time": "2024-01-21T17:33:08.593Z"
   },
   {
    "duration": 196,
    "start_time": "2024-01-21T17:33:08.971Z"
   },
   {
    "duration": 41,
    "start_time": "2024-01-21T17:33:09.169Z"
   },
   {
    "duration": 10,
    "start_time": "2024-01-21T17:33:09.212Z"
   },
   {
    "duration": 33,
    "start_time": "2024-01-21T17:33:09.224Z"
   },
   {
    "duration": 48,
    "start_time": "2024-01-21T17:33:09.258Z"
   },
   {
    "duration": 61,
    "start_time": "2024-01-21T17:33:09.308Z"
   },
   {
    "duration": 159,
    "start_time": "2024-01-21T17:33:09.371Z"
   },
   {
    "duration": 1871,
    "start_time": "2024-01-21T17:33:09.532Z"
   },
   {
    "duration": 6,
    "start_time": "2024-01-21T17:33:11.405Z"
   },
   {
    "duration": 217,
    "start_time": "2024-01-21T17:33:11.412Z"
   },
   {
    "duration": 297,
    "start_time": "2024-01-21T17:33:29.800Z"
   },
   {
    "duration": 1194,
    "start_time": "2024-01-21T17:35:46.937Z"
   },
   {
    "duration": 91,
    "start_time": "2024-01-21T17:35:48.133Z"
   },
   {
    "duration": 5,
    "start_time": "2024-01-21T17:35:48.226Z"
   },
   {
    "duration": 13,
    "start_time": "2024-01-21T17:35:48.233Z"
   },
   {
    "duration": 12,
    "start_time": "2024-01-21T17:35:48.248Z"
   },
   {
    "duration": 20,
    "start_time": "2024-01-21T17:35:48.262Z"
   },
   {
    "duration": 6,
    "start_time": "2024-01-21T17:35:48.284Z"
   },
   {
    "duration": 184,
    "start_time": "2024-01-21T17:35:48.291Z"
   },
   {
    "duration": 141,
    "start_time": "2024-01-21T17:35:48.477Z"
   },
   {
    "duration": 298,
    "start_time": "2024-01-21T17:35:48.621Z"
   },
   {
    "duration": 285,
    "start_time": "2024-01-21T17:35:48.921Z"
   },
   {
    "duration": 9,
    "start_time": "2024-01-21T17:35:49.208Z"
   },
   {
    "duration": 289,
    "start_time": "2024-01-21T17:35:49.219Z"
   },
   {
    "duration": 9,
    "start_time": "2024-01-21T17:35:49.510Z"
   },
   {
    "duration": 44,
    "start_time": "2024-01-21T17:35:49.521Z"
   },
   {
    "duration": 13,
    "start_time": "2024-01-21T17:35:49.566Z"
   },
   {
    "duration": 383,
    "start_time": "2024-01-21T17:35:49.580Z"
   },
   {
    "duration": 189,
    "start_time": "2024-01-21T17:35:49.965Z"
   },
   {
    "duration": 37,
    "start_time": "2024-01-21T17:35:50.157Z"
   },
   {
    "duration": 10,
    "start_time": "2024-01-21T17:35:50.196Z"
   },
   {
    "duration": 15,
    "start_time": "2024-01-21T17:35:50.208Z"
   },
   {
    "duration": 5,
    "start_time": "2024-01-21T17:35:50.225Z"
   },
   {
    "duration": 33,
    "start_time": "2024-01-21T17:35:50.232Z"
   },
   {
    "duration": 169,
    "start_time": "2024-01-21T17:35:50.267Z"
   },
   {
    "duration": 1898,
    "start_time": "2024-01-21T17:35:50.437Z"
   },
   {
    "duration": 6,
    "start_time": "2024-01-21T17:35:52.337Z"
   },
   {
    "duration": 228,
    "start_time": "2024-01-21T17:35:52.344Z"
   },
   {
    "duration": 318,
    "start_time": "2024-01-21T17:54:46.393Z"
   },
   {
    "duration": 1193,
    "start_time": "2024-01-21T17:55:20.921Z"
   },
   {
    "duration": 94,
    "start_time": "2024-01-21T17:55:22.116Z"
   },
   {
    "duration": 6,
    "start_time": "2024-01-21T17:55:22.212Z"
   },
   {
    "duration": 20,
    "start_time": "2024-01-21T17:55:22.220Z"
   },
   {
    "duration": 24,
    "start_time": "2024-01-21T17:55:22.243Z"
   },
   {
    "duration": 13,
    "start_time": "2024-01-21T17:55:22.270Z"
   },
   {
    "duration": 7,
    "start_time": "2024-01-21T17:55:22.285Z"
   },
   {
    "duration": 207,
    "start_time": "2024-01-21T17:55:22.294Z"
   },
   {
    "duration": 145,
    "start_time": "2024-01-21T17:55:22.504Z"
   },
   {
    "duration": 298,
    "start_time": "2024-01-21T17:55:22.660Z"
   },
   {
    "duration": 316,
    "start_time": "2024-01-21T17:55:22.960Z"
   },
   {
    "duration": 9,
    "start_time": "2024-01-21T17:55:23.278Z"
   },
   {
    "duration": 307,
    "start_time": "2024-01-21T17:55:23.289Z"
   },
   {
    "duration": 9,
    "start_time": "2024-01-21T17:55:23.598Z"
   },
   {
    "duration": 27,
    "start_time": "2024-01-21T17:55:23.608Z"
   },
   {
    "duration": 31,
    "start_time": "2024-01-21T17:55:23.637Z"
   },
   {
    "duration": 394,
    "start_time": "2024-01-21T17:55:23.670Z"
   },
   {
    "duration": 195,
    "start_time": "2024-01-21T17:55:24.065Z"
   },
   {
    "duration": 37,
    "start_time": "2024-01-21T17:55:24.262Z"
   },
   {
    "duration": 10,
    "start_time": "2024-01-21T17:55:24.300Z"
   },
   {
    "duration": 7,
    "start_time": "2024-01-21T17:55:24.312Z"
   },
   {
    "duration": 18,
    "start_time": "2024-01-21T17:55:24.321Z"
   },
   {
    "duration": 28,
    "start_time": "2024-01-21T17:55:24.341Z"
   },
   {
    "duration": 209,
    "start_time": "2024-01-21T17:55:24.371Z"
   },
   {
    "duration": 340,
    "start_time": "2024-01-21T17:55:24.583Z"
   },
   {
    "duration": 6,
    "start_time": "2024-01-21T17:55:24.925Z"
   },
   {
    "duration": 219,
    "start_time": "2024-01-21T17:55:24.933Z"
   },
   {
    "duration": 143,
    "start_time": "2024-01-21T17:56:21.583Z"
   },
   {
    "duration": 313,
    "start_time": "2024-01-21T17:56:33.849Z"
   },
   {
    "duration": 218,
    "start_time": "2024-01-21T17:56:53.021Z"
   },
   {
    "duration": 1171,
    "start_time": "2024-01-21T17:57:07.168Z"
   },
   {
    "duration": 91,
    "start_time": "2024-01-21T17:57:08.341Z"
   },
   {
    "duration": 6,
    "start_time": "2024-01-21T17:57:08.434Z"
   },
   {
    "duration": 11,
    "start_time": "2024-01-21T17:57:08.442Z"
   },
   {
    "duration": 10,
    "start_time": "2024-01-21T17:57:08.455Z"
   },
   {
    "duration": 12,
    "start_time": "2024-01-21T17:57:08.467Z"
   },
   {
    "duration": 16,
    "start_time": "2024-01-21T17:57:08.480Z"
   },
   {
    "duration": 175,
    "start_time": "2024-01-21T17:57:08.497Z"
   },
   {
    "duration": 138,
    "start_time": "2024-01-21T17:57:08.674Z"
   },
   {
    "duration": 310,
    "start_time": "2024-01-21T17:57:08.814Z"
   },
   {
    "duration": 296,
    "start_time": "2024-01-21T17:57:09.126Z"
   },
   {
    "duration": 8,
    "start_time": "2024-01-21T17:57:09.424Z"
   },
   {
    "duration": 292,
    "start_time": "2024-01-21T17:57:09.434Z"
   },
   {
    "duration": 9,
    "start_time": "2024-01-21T17:57:09.728Z"
   },
   {
    "duration": 40,
    "start_time": "2024-01-21T17:57:09.739Z"
   },
   {
    "duration": 17,
    "start_time": "2024-01-21T17:57:09.780Z"
   },
   {
    "duration": 387,
    "start_time": "2024-01-21T17:57:09.799Z"
   },
   {
    "duration": 191,
    "start_time": "2024-01-21T17:57:10.188Z"
   },
   {
    "duration": 36,
    "start_time": "2024-01-21T17:57:10.380Z"
   },
   {
    "duration": 10,
    "start_time": "2024-01-21T17:57:10.418Z"
   },
   {
    "duration": 6,
    "start_time": "2024-01-21T17:57:10.430Z"
   },
   {
    "duration": 5,
    "start_time": "2024-01-21T17:57:10.459Z"
   },
   {
    "duration": 10,
    "start_time": "2024-01-21T17:57:10.466Z"
   },
   {
    "duration": 195,
    "start_time": "2024-01-21T17:57:10.478Z"
   },
   {
    "duration": 522,
    "start_time": "2024-01-21T17:57:10.675Z"
   },
   {
    "duration": 0,
    "start_time": "2024-01-21T17:57:11.199Z"
   },
   {
    "duration": 0,
    "start_time": "2024-01-21T17:57:11.201Z"
   },
   {
    "duration": 1219,
    "start_time": "2024-01-21T17:57:27.333Z"
   },
   {
    "duration": 91,
    "start_time": "2024-01-21T17:57:28.553Z"
   },
   {
    "duration": 7,
    "start_time": "2024-01-21T17:57:28.646Z"
   },
   {
    "duration": 15,
    "start_time": "2024-01-21T17:57:28.655Z"
   },
   {
    "duration": 22,
    "start_time": "2024-01-21T17:57:28.672Z"
   },
   {
    "duration": 12,
    "start_time": "2024-01-21T17:57:28.696Z"
   },
   {
    "duration": 5,
    "start_time": "2024-01-21T17:57:28.710Z"
   },
   {
    "duration": 200,
    "start_time": "2024-01-21T17:57:28.716Z"
   },
   {
    "duration": 145,
    "start_time": "2024-01-21T17:57:28.917Z"
   },
   {
    "duration": 325,
    "start_time": "2024-01-21T17:57:29.063Z"
   },
   {
    "duration": 290,
    "start_time": "2024-01-21T17:57:29.389Z"
   },
   {
    "duration": 8,
    "start_time": "2024-01-21T17:57:29.681Z"
   },
   {
    "duration": 296,
    "start_time": "2024-01-21T17:57:29.691Z"
   },
   {
    "duration": 9,
    "start_time": "2024-01-21T17:57:29.990Z"
   },
   {
    "duration": 59,
    "start_time": "2024-01-21T17:57:30.001Z"
   },
   {
    "duration": 29,
    "start_time": "2024-01-21T17:57:30.062Z"
   },
   {
    "duration": 433,
    "start_time": "2024-01-21T17:57:30.093Z"
   },
   {
    "duration": 194,
    "start_time": "2024-01-21T17:57:30.528Z"
   },
   {
    "duration": 49,
    "start_time": "2024-01-21T17:57:30.724Z"
   },
   {
    "duration": 57,
    "start_time": "2024-01-21T17:57:30.775Z"
   },
   {
    "duration": 107,
    "start_time": "2024-01-21T17:57:30.834Z"
   },
   {
    "duration": 35,
    "start_time": "2024-01-21T17:57:30.944Z"
   },
   {
    "duration": 72,
    "start_time": "2024-01-21T17:57:30.981Z"
   },
   {
    "duration": 237,
    "start_time": "2024-01-21T17:57:31.055Z"
   },
   {
    "duration": 635,
    "start_time": "2024-01-21T17:57:31.293Z"
   },
   {
    "duration": 7,
    "start_time": "2024-01-21T17:57:31.929Z"
   },
   {
    "duration": 224,
    "start_time": "2024-01-21T17:57:31.938Z"
   },
   {
    "duration": 319,
    "start_time": "2024-01-21T17:58:21.729Z"
   },
   {
    "duration": 1215,
    "start_time": "2024-01-21T17:58:29.322Z"
   },
   {
    "duration": 90,
    "start_time": "2024-01-21T17:58:30.539Z"
   },
   {
    "duration": 5,
    "start_time": "2024-01-21T17:58:30.631Z"
   },
   {
    "duration": 35,
    "start_time": "2024-01-21T17:58:30.638Z"
   },
   {
    "duration": 35,
    "start_time": "2024-01-21T17:58:30.676Z"
   },
   {
    "duration": 44,
    "start_time": "2024-01-21T17:58:30.713Z"
   },
   {
    "duration": 46,
    "start_time": "2024-01-21T17:58:30.759Z"
   },
   {
    "duration": 225,
    "start_time": "2024-01-21T17:58:30.807Z"
   },
   {
    "duration": 157,
    "start_time": "2024-01-21T17:58:31.034Z"
   },
   {
    "duration": 306,
    "start_time": "2024-01-21T17:58:31.194Z"
   },
   {
    "duration": 295,
    "start_time": "2024-01-21T17:58:31.502Z"
   },
   {
    "duration": 10,
    "start_time": "2024-01-21T17:58:31.799Z"
   },
   {
    "duration": 296,
    "start_time": "2024-01-21T17:58:31.811Z"
   },
   {
    "duration": 13,
    "start_time": "2024-01-21T17:58:32.109Z"
   },
   {
    "duration": 45,
    "start_time": "2024-01-21T17:58:32.124Z"
   },
   {
    "duration": 15,
    "start_time": "2024-01-21T17:58:32.171Z"
   },
   {
    "duration": 427,
    "start_time": "2024-01-21T17:58:32.188Z"
   },
   {
    "duration": 196,
    "start_time": "2024-01-21T17:58:32.617Z"
   },
   {
    "duration": 48,
    "start_time": "2024-01-21T17:58:32.815Z"
   },
   {
    "duration": 10,
    "start_time": "2024-01-21T17:58:32.865Z"
   },
   {
    "duration": 78,
    "start_time": "2024-01-21T17:58:32.877Z"
   },
   {
    "duration": 57,
    "start_time": "2024-01-21T17:58:32.958Z"
   },
   {
    "duration": 75,
    "start_time": "2024-01-21T17:58:33.017Z"
   },
   {
    "duration": 351,
    "start_time": "2024-01-21T17:58:33.095Z"
   },
   {
    "duration": 695,
    "start_time": "2024-01-21T17:58:33.448Z"
   },
   {
    "duration": 6,
    "start_time": "2024-01-21T17:58:34.144Z"
   },
   {
    "duration": 218,
    "start_time": "2024-01-21T17:58:34.158Z"
   },
   {
    "duration": 1168,
    "start_time": "2024-01-21T17:59:56.976Z"
   },
   {
    "duration": 90,
    "start_time": "2024-01-21T17:59:58.146Z"
   },
   {
    "duration": 7,
    "start_time": "2024-01-21T17:59:58.238Z"
   },
   {
    "duration": 19,
    "start_time": "2024-01-21T17:59:58.247Z"
   },
   {
    "duration": 10,
    "start_time": "2024-01-21T17:59:58.268Z"
   },
   {
    "duration": 11,
    "start_time": "2024-01-21T17:59:58.280Z"
   },
   {
    "duration": 5,
    "start_time": "2024-01-21T17:59:58.293Z"
   },
   {
    "duration": 199,
    "start_time": "2024-01-21T17:59:58.300Z"
   },
   {
    "duration": 144,
    "start_time": "2024-01-21T17:59:58.501Z"
   },
   {
    "duration": 301,
    "start_time": "2024-01-21T17:59:58.646Z"
   },
   {
    "duration": 314,
    "start_time": "2024-01-21T17:59:58.948Z"
   },
   {
    "duration": 10,
    "start_time": "2024-01-21T17:59:59.263Z"
   },
   {
    "duration": 295,
    "start_time": "2024-01-21T17:59:59.275Z"
   },
   {
    "duration": 11,
    "start_time": "2024-01-21T17:59:59.574Z"
   },
   {
    "duration": 47,
    "start_time": "2024-01-21T17:59:59.587Z"
   },
   {
    "duration": 29,
    "start_time": "2024-01-21T17:59:59.636Z"
   },
   {
    "duration": 375,
    "start_time": "2024-01-21T17:59:59.666Z"
   },
   {
    "duration": 193,
    "start_time": "2024-01-21T18:00:00.043Z"
   },
   {
    "duration": 45,
    "start_time": "2024-01-21T18:00:00.237Z"
   },
   {
    "duration": 23,
    "start_time": "2024-01-21T18:00:00.283Z"
   },
   {
    "duration": 41,
    "start_time": "2024-01-21T18:00:00.307Z"
   },
   {
    "duration": 36,
    "start_time": "2024-01-21T18:00:00.350Z"
   },
   {
    "duration": 80,
    "start_time": "2024-01-21T18:00:00.388Z"
   },
   {
    "duration": 226,
    "start_time": "2024-01-21T18:00:00.470Z"
   },
   {
    "duration": 608,
    "start_time": "2024-01-21T18:00:00.698Z"
   },
   {
    "duration": 7,
    "start_time": "2024-01-21T18:00:01.308Z"
   },
   {
    "duration": 297,
    "start_time": "2024-01-21T18:00:01.317Z"
   },
   {
    "duration": 1366,
    "start_time": "2024-01-21T18:05:49.327Z"
   },
   {
    "duration": 90,
    "start_time": "2024-01-21T18:05:50.695Z"
   },
   {
    "duration": 5,
    "start_time": "2024-01-21T18:05:50.787Z"
   },
   {
    "duration": 16,
    "start_time": "2024-01-21T18:05:50.794Z"
   },
   {
    "duration": 25,
    "start_time": "2024-01-21T18:05:50.812Z"
   },
   {
    "duration": 27,
    "start_time": "2024-01-21T18:05:50.839Z"
   },
   {
    "duration": 13,
    "start_time": "2024-01-21T18:05:50.868Z"
   },
   {
    "duration": 192,
    "start_time": "2024-01-21T18:05:50.884Z"
   },
   {
    "duration": 155,
    "start_time": "2024-01-21T18:05:51.077Z"
   },
   {
    "duration": 300,
    "start_time": "2024-01-21T18:05:51.235Z"
   },
   {
    "duration": 284,
    "start_time": "2024-01-21T18:05:51.536Z"
   },
   {
    "duration": 9,
    "start_time": "2024-01-21T18:05:51.821Z"
   },
   {
    "duration": 319,
    "start_time": "2024-01-21T18:05:51.832Z"
   },
   {
    "duration": 15,
    "start_time": "2024-01-21T18:05:52.152Z"
   },
   {
    "duration": 28,
    "start_time": "2024-01-21T18:05:52.169Z"
   },
   {
    "duration": 21,
    "start_time": "2024-01-21T18:05:52.198Z"
   },
   {
    "duration": 409,
    "start_time": "2024-01-21T18:05:52.220Z"
   },
   {
    "duration": 185,
    "start_time": "2024-01-21T18:05:52.631Z"
   },
   {
    "duration": 44,
    "start_time": "2024-01-21T18:05:52.817Z"
   },
   {
    "duration": 10,
    "start_time": "2024-01-21T18:05:52.863Z"
   },
   {
    "duration": 6,
    "start_time": "2024-01-21T18:05:52.875Z"
   },
   {
    "duration": 6,
    "start_time": "2024-01-21T18:05:52.882Z"
   },
   {
    "duration": 10,
    "start_time": "2024-01-21T18:05:52.889Z"
   },
   {
    "duration": 199,
    "start_time": "2024-01-21T18:05:52.901Z"
   },
   {
    "duration": 610,
    "start_time": "2024-01-21T18:05:53.102Z"
   },
   {
    "duration": 6,
    "start_time": "2024-01-21T18:05:53.714Z"
   },
   {
    "duration": 248,
    "start_time": "2024-01-21T18:05:53.722Z"
   },
   {
    "duration": 1212,
    "start_time": "2024-01-21T18:08:32.336Z"
   },
   {
    "duration": 91,
    "start_time": "2024-01-21T18:08:33.550Z"
   },
   {
    "duration": 5,
    "start_time": "2024-01-21T18:08:33.642Z"
   },
   {
    "duration": 11,
    "start_time": "2024-01-21T18:08:33.649Z"
   },
   {
    "duration": 10,
    "start_time": "2024-01-21T18:08:33.662Z"
   },
   {
    "duration": 14,
    "start_time": "2024-01-21T18:08:33.674Z"
   },
   {
    "duration": 10,
    "start_time": "2024-01-21T18:08:33.690Z"
   },
   {
    "duration": 195,
    "start_time": "2024-01-21T18:08:33.702Z"
   },
   {
    "duration": 145,
    "start_time": "2024-01-21T18:08:33.900Z"
   },
   {
    "duration": 296,
    "start_time": "2024-01-21T18:08:34.047Z"
   },
   {
    "duration": 294,
    "start_time": "2024-01-21T18:08:34.345Z"
   },
   {
    "duration": 20,
    "start_time": "2024-01-21T18:08:34.640Z"
   },
   {
    "duration": 284,
    "start_time": "2024-01-21T18:08:34.661Z"
   },
   {
    "duration": 17,
    "start_time": "2024-01-21T18:08:34.946Z"
   },
   {
    "duration": 26,
    "start_time": "2024-01-21T18:08:34.965Z"
   },
   {
    "duration": 12,
    "start_time": "2024-01-21T18:08:34.993Z"
   },
   {
    "duration": 379,
    "start_time": "2024-01-21T18:08:35.007Z"
   },
   {
    "duration": 193,
    "start_time": "2024-01-21T18:08:35.388Z"
   },
   {
    "duration": 36,
    "start_time": "2024-01-21T18:08:35.582Z"
   },
   {
    "duration": 10,
    "start_time": "2024-01-21T18:08:35.620Z"
   },
   {
    "duration": 28,
    "start_time": "2024-01-21T18:08:35.631Z"
   },
   {
    "duration": 5,
    "start_time": "2024-01-21T18:08:35.661Z"
   },
   {
    "duration": 16,
    "start_time": "2024-01-21T18:08:35.668Z"
   },
   {
    "duration": 173,
    "start_time": "2024-01-21T18:08:35.686Z"
   },
   {
    "duration": 579,
    "start_time": "2024-01-21T18:08:35.861Z"
   },
   {
    "duration": 6,
    "start_time": "2024-01-21T18:08:36.441Z"
   },
   {
    "duration": 246,
    "start_time": "2024-01-21T18:08:36.449Z"
   },
   {
    "duration": 342,
    "start_time": "2024-01-21T18:09:04.529Z"
   },
   {
    "duration": 1212,
    "start_time": "2024-01-21T18:09:10.736Z"
   },
   {
    "duration": 89,
    "start_time": "2024-01-21T18:09:11.950Z"
   },
   {
    "duration": 6,
    "start_time": "2024-01-21T18:09:12.041Z"
   },
   {
    "duration": 11,
    "start_time": "2024-01-21T18:09:12.050Z"
   },
   {
    "duration": 9,
    "start_time": "2024-01-21T18:09:12.063Z"
   },
   {
    "duration": 15,
    "start_time": "2024-01-21T18:09:12.074Z"
   },
   {
    "duration": 5,
    "start_time": "2024-01-21T18:09:12.090Z"
   },
   {
    "duration": 209,
    "start_time": "2024-01-21T18:09:12.097Z"
   },
   {
    "duration": 151,
    "start_time": "2024-01-21T18:09:12.307Z"
   },
   {
    "duration": 288,
    "start_time": "2024-01-21T18:09:12.461Z"
   },
   {
    "duration": 279,
    "start_time": "2024-01-21T18:09:12.758Z"
   },
   {
    "duration": 8,
    "start_time": "2024-01-21T18:09:13.039Z"
   },
   {
    "duration": 277,
    "start_time": "2024-01-21T18:09:13.058Z"
   },
   {
    "duration": 8,
    "start_time": "2024-01-21T18:09:13.337Z"
   },
   {
    "duration": 29,
    "start_time": "2024-01-21T18:09:13.359Z"
   },
   {
    "duration": 11,
    "start_time": "2024-01-21T18:09:13.390Z"
   },
   {
    "duration": 386,
    "start_time": "2024-01-21T18:09:13.403Z"
   },
   {
    "duration": 182,
    "start_time": "2024-01-21T18:09:13.791Z"
   },
   {
    "duration": 36,
    "start_time": "2024-01-21T18:09:13.974Z"
   },
   {
    "duration": 9,
    "start_time": "2024-01-21T18:09:14.012Z"
   },
   {
    "duration": 13,
    "start_time": "2024-01-21T18:09:14.023Z"
   },
   {
    "duration": 24,
    "start_time": "2024-01-21T18:09:14.037Z"
   },
   {
    "duration": 10,
    "start_time": "2024-01-21T18:09:14.062Z"
   },
   {
    "duration": 176,
    "start_time": "2024-01-21T18:09:14.074Z"
   },
   {
    "duration": 531,
    "start_time": "2024-01-21T18:09:14.259Z"
   },
   {
    "duration": 6,
    "start_time": "2024-01-21T18:09:14.791Z"
   },
   {
    "duration": 218,
    "start_time": "2024-01-21T18:09:14.799Z"
   },
   {
    "duration": 1200,
    "start_time": "2024-01-21T18:09:55.528Z"
   },
   {
    "duration": 90,
    "start_time": "2024-01-21T18:09:56.730Z"
   },
   {
    "duration": 5,
    "start_time": "2024-01-21T18:09:56.822Z"
   },
   {
    "duration": 12,
    "start_time": "2024-01-21T18:09:56.828Z"
   },
   {
    "duration": 18,
    "start_time": "2024-01-21T18:09:56.842Z"
   },
   {
    "duration": 14,
    "start_time": "2024-01-21T18:09:56.862Z"
   },
   {
    "duration": 13,
    "start_time": "2024-01-21T18:09:56.878Z"
   },
   {
    "duration": 204,
    "start_time": "2024-01-21T18:09:56.895Z"
   },
   {
    "duration": 152,
    "start_time": "2024-01-21T18:09:57.101Z"
   },
   {
    "duration": 286,
    "start_time": "2024-01-21T18:09:57.255Z"
   },
   {
    "duration": 284,
    "start_time": "2024-01-21T18:09:57.544Z"
   },
   {
    "duration": 10,
    "start_time": "2024-01-21T18:09:57.830Z"
   },
   {
    "duration": 288,
    "start_time": "2024-01-21T18:09:57.841Z"
   },
   {
    "duration": 9,
    "start_time": "2024-01-21T18:09:58.132Z"
   },
   {
    "duration": 36,
    "start_time": "2024-01-21T18:09:58.142Z"
   },
   {
    "duration": 13,
    "start_time": "2024-01-21T18:09:58.180Z"
   },
   {
    "duration": 389,
    "start_time": "2024-01-21T18:09:58.195Z"
   },
   {
    "duration": 186,
    "start_time": "2024-01-21T18:09:58.585Z"
   },
   {
    "duration": 37,
    "start_time": "2024-01-21T18:09:58.773Z"
   },
   {
    "duration": 11,
    "start_time": "2024-01-21T18:09:58.812Z"
   },
   {
    "duration": 34,
    "start_time": "2024-01-21T18:09:58.825Z"
   },
   {
    "duration": 6,
    "start_time": "2024-01-21T18:09:58.861Z"
   },
   {
    "duration": 12,
    "start_time": "2024-01-21T18:09:58.868Z"
   },
   {
    "duration": 181,
    "start_time": "2024-01-21T18:09:58.882Z"
   },
   {
    "duration": 382,
    "start_time": "2024-01-21T18:09:59.064Z"
   },
   {
    "duration": 0,
    "start_time": "2024-01-21T18:09:59.458Z"
   },
   {
    "duration": 0,
    "start_time": "2024-01-21T18:09:59.459Z"
   },
   {
    "duration": 1179,
    "start_time": "2024-01-21T18:11:08.960Z"
   },
   {
    "duration": 89,
    "start_time": "2024-01-21T18:11:10.141Z"
   },
   {
    "duration": 5,
    "start_time": "2024-01-21T18:11:10.231Z"
   },
   {
    "duration": 15,
    "start_time": "2024-01-21T18:11:10.238Z"
   },
   {
    "duration": 11,
    "start_time": "2024-01-21T18:11:10.255Z"
   },
   {
    "duration": 14,
    "start_time": "2024-01-21T18:11:10.267Z"
   },
   {
    "duration": 6,
    "start_time": "2024-01-21T18:11:10.283Z"
   },
   {
    "duration": 193,
    "start_time": "2024-01-21T18:11:10.291Z"
   },
   {
    "duration": 141,
    "start_time": "2024-01-21T18:11:10.487Z"
   },
   {
    "duration": 312,
    "start_time": "2024-01-21T18:11:10.630Z"
   },
   {
    "duration": 290,
    "start_time": "2024-01-21T18:11:10.944Z"
   },
   {
    "duration": 9,
    "start_time": "2024-01-21T18:11:11.235Z"
   },
   {
    "duration": 313,
    "start_time": "2024-01-21T18:11:11.246Z"
   },
   {
    "duration": 9,
    "start_time": "2024-01-21T18:11:11.561Z"
   },
   {
    "duration": 30,
    "start_time": "2024-01-21T18:11:11.571Z"
   },
   {
    "duration": 12,
    "start_time": "2024-01-21T18:11:11.603Z"
   },
   {
    "duration": 396,
    "start_time": "2024-01-21T18:11:11.616Z"
   },
   {
    "duration": 195,
    "start_time": "2024-01-21T18:11:12.014Z"
   },
   {
    "duration": 49,
    "start_time": "2024-01-21T18:11:12.211Z"
   },
   {
    "duration": 13,
    "start_time": "2024-01-21T18:11:12.261Z"
   },
   {
    "duration": 10,
    "start_time": "2024-01-21T18:11:12.276Z"
   },
   {
    "duration": 15,
    "start_time": "2024-01-21T18:11:12.287Z"
   },
   {
    "duration": 16,
    "start_time": "2024-01-21T18:11:12.304Z"
   },
   {
    "duration": 170,
    "start_time": "2024-01-21T18:11:12.322Z"
   },
   {
    "duration": 591,
    "start_time": "2024-01-21T18:11:12.494Z"
   },
   {
    "duration": 7,
    "start_time": "2024-01-21T18:11:13.088Z"
   },
   {
    "duration": 238,
    "start_time": "2024-01-21T18:11:13.097Z"
   },
   {
    "duration": 1221,
    "start_time": "2024-01-21T18:11:36.145Z"
   },
   {
    "duration": 94,
    "start_time": "2024-01-21T18:11:37.368Z"
   },
   {
    "duration": 5,
    "start_time": "2024-01-21T18:11:37.463Z"
   },
   {
    "duration": 12,
    "start_time": "2024-01-21T18:11:37.471Z"
   },
   {
    "duration": 15,
    "start_time": "2024-01-21T18:11:37.484Z"
   },
   {
    "duration": 12,
    "start_time": "2024-01-21T18:11:37.501Z"
   },
   {
    "duration": 24,
    "start_time": "2024-01-21T18:11:37.515Z"
   },
   {
    "duration": 198,
    "start_time": "2024-01-21T18:11:37.541Z"
   },
   {
    "duration": 149,
    "start_time": "2024-01-21T18:11:37.741Z"
   },
   {
    "duration": 293,
    "start_time": "2024-01-21T18:11:37.892Z"
   },
   {
    "duration": 293,
    "start_time": "2024-01-21T18:11:38.187Z"
   },
   {
    "duration": 9,
    "start_time": "2024-01-21T18:11:38.482Z"
   },
   {
    "duration": 295,
    "start_time": "2024-01-21T18:11:38.493Z"
   },
   {
    "duration": 9,
    "start_time": "2024-01-21T18:11:38.790Z"
   },
   {
    "duration": 28,
    "start_time": "2024-01-21T18:11:38.801Z"
   },
   {
    "duration": 39,
    "start_time": "2024-01-21T18:11:38.830Z"
   },
   {
    "duration": 379,
    "start_time": "2024-01-21T18:11:38.870Z"
   },
   {
    "duration": 190,
    "start_time": "2024-01-21T18:11:39.250Z"
   },
   {
    "duration": 44,
    "start_time": "2024-01-21T18:11:39.441Z"
   },
   {
    "duration": 10,
    "start_time": "2024-01-21T18:11:39.487Z"
   },
   {
    "duration": 5,
    "start_time": "2024-01-21T18:11:39.499Z"
   },
   {
    "duration": 7,
    "start_time": "2024-01-21T18:11:39.505Z"
   },
   {
    "duration": 20,
    "start_time": "2024-01-21T18:11:39.513Z"
   },
   {
    "duration": 180,
    "start_time": "2024-01-21T18:11:39.535Z"
   },
   {
    "duration": 617,
    "start_time": "2024-01-21T18:11:39.717Z"
   },
   {
    "duration": 5,
    "start_time": "2024-01-21T18:11:40.337Z"
   },
   {
    "duration": 229,
    "start_time": "2024-01-21T18:11:40.344Z"
   },
   {
    "duration": 1218,
    "start_time": "2024-01-21T18:12:33.028Z"
   },
   {
    "duration": 92,
    "start_time": "2024-01-21T18:12:34.247Z"
   },
   {
    "duration": 5,
    "start_time": "2024-01-21T18:12:34.340Z"
   },
   {
    "duration": 10,
    "start_time": "2024-01-21T18:12:34.348Z"
   },
   {
    "duration": 10,
    "start_time": "2024-01-21T18:12:34.360Z"
   },
   {
    "duration": 22,
    "start_time": "2024-01-21T18:12:34.371Z"
   },
   {
    "duration": 18,
    "start_time": "2024-01-21T18:12:34.395Z"
   },
   {
    "duration": 174,
    "start_time": "2024-01-21T18:12:34.414Z"
   },
   {
    "duration": 153,
    "start_time": "2024-01-21T18:12:34.589Z"
   },
   {
    "duration": 314,
    "start_time": "2024-01-21T18:12:34.746Z"
   },
   {
    "duration": 296,
    "start_time": "2024-01-21T18:12:35.062Z"
   },
   {
    "duration": 8,
    "start_time": "2024-01-21T18:12:35.360Z"
   },
   {
    "duration": 305,
    "start_time": "2024-01-21T18:12:35.370Z"
   },
   {
    "duration": 9,
    "start_time": "2024-01-21T18:12:35.676Z"
   },
   {
    "duration": 31,
    "start_time": "2024-01-21T18:12:35.687Z"
   },
   {
    "duration": 13,
    "start_time": "2024-01-21T18:12:35.719Z"
   },
   {
    "duration": 421,
    "start_time": "2024-01-21T18:12:35.734Z"
   },
   {
    "duration": 194,
    "start_time": "2024-01-21T18:12:36.158Z"
   },
   {
    "duration": 38,
    "start_time": "2024-01-21T18:12:36.353Z"
   },
   {
    "duration": 11,
    "start_time": "2024-01-21T18:12:36.393Z"
   },
   {
    "duration": 19,
    "start_time": "2024-01-21T18:12:36.406Z"
   },
   {
    "duration": 20,
    "start_time": "2024-01-21T18:12:36.426Z"
   },
   {
    "duration": 24,
    "start_time": "2024-01-21T18:12:36.448Z"
   },
   {
    "duration": 163,
    "start_time": "2024-01-21T18:12:36.474Z"
   },
   {
    "duration": 470,
    "start_time": "2024-01-21T18:12:36.639Z"
   },
   {
    "duration": 7,
    "start_time": "2024-01-21T18:12:37.111Z"
   },
   {
    "duration": 242,
    "start_time": "2024-01-21T18:12:37.120Z"
   },
   {
    "duration": 1208,
    "start_time": "2024-01-21T18:13:19.437Z"
   },
   {
    "duration": 93,
    "start_time": "2024-01-21T18:13:20.647Z"
   },
   {
    "duration": 5,
    "start_time": "2024-01-21T18:13:20.742Z"
   },
   {
    "duration": 11,
    "start_time": "2024-01-21T18:13:20.750Z"
   },
   {
    "duration": 10,
    "start_time": "2024-01-21T18:13:20.763Z"
   },
   {
    "duration": 16,
    "start_time": "2024-01-21T18:13:20.775Z"
   },
   {
    "duration": 6,
    "start_time": "2024-01-21T18:13:20.792Z"
   },
   {
    "duration": 193,
    "start_time": "2024-01-21T18:13:20.800Z"
   },
   {
    "duration": 146,
    "start_time": "2024-01-21T18:13:20.995Z"
   },
   {
    "duration": 305,
    "start_time": "2024-01-21T18:13:21.144Z"
   },
   {
    "duration": 308,
    "start_time": "2024-01-21T18:13:21.450Z"
   },
   {
    "duration": 10,
    "start_time": "2024-01-21T18:13:21.760Z"
   },
   {
    "duration": 301,
    "start_time": "2024-01-21T18:13:21.772Z"
   },
   {
    "duration": 14,
    "start_time": "2024-01-21T18:13:22.075Z"
   },
   {
    "duration": 28,
    "start_time": "2024-01-21T18:13:22.090Z"
   },
   {
    "duration": 12,
    "start_time": "2024-01-21T18:13:22.120Z"
   },
   {
    "duration": 398,
    "start_time": "2024-01-21T18:13:22.158Z"
   },
   {
    "duration": 203,
    "start_time": "2024-01-21T18:13:22.558Z"
   },
   {
    "duration": 38,
    "start_time": "2024-01-21T18:13:22.762Z"
   },
   {
    "duration": 10,
    "start_time": "2024-01-21T18:13:22.802Z"
   },
   {
    "duration": 21,
    "start_time": "2024-01-21T18:13:22.814Z"
   },
   {
    "duration": 33,
    "start_time": "2024-01-21T18:13:22.837Z"
   },
   {
    "duration": 16,
    "start_time": "2024-01-21T18:13:22.872Z"
   },
   {
    "duration": 185,
    "start_time": "2024-01-21T18:13:22.891Z"
   },
   {
    "duration": 542,
    "start_time": "2024-01-21T18:13:23.078Z"
   },
   {
    "duration": 6,
    "start_time": "2024-01-21T18:13:23.622Z"
   },
   {
    "duration": 221,
    "start_time": "2024-01-21T18:13:23.630Z"
   },
   {
    "duration": 314,
    "start_time": "2024-01-21T18:14:19.226Z"
   },
   {
    "duration": 1263,
    "start_time": "2024-01-21T18:14:25.441Z"
   },
   {
    "duration": 89,
    "start_time": "2024-01-21T18:14:26.705Z"
   },
   {
    "duration": 5,
    "start_time": "2024-01-21T18:14:26.796Z"
   },
   {
    "duration": 11,
    "start_time": "2024-01-21T18:14:26.804Z"
   },
   {
    "duration": 11,
    "start_time": "2024-01-21T18:14:26.817Z"
   },
   {
    "duration": 39,
    "start_time": "2024-01-21T18:14:26.830Z"
   },
   {
    "duration": 7,
    "start_time": "2024-01-21T18:14:26.871Z"
   },
   {
    "duration": 218,
    "start_time": "2024-01-21T18:14:26.880Z"
   },
   {
    "duration": 149,
    "start_time": "2024-01-21T18:14:27.100Z"
   },
   {
    "duration": 327,
    "start_time": "2024-01-21T18:14:27.252Z"
   },
   {
    "duration": 294,
    "start_time": "2024-01-21T18:14:27.581Z"
   },
   {
    "duration": 9,
    "start_time": "2024-01-21T18:14:27.876Z"
   },
   {
    "duration": 293,
    "start_time": "2024-01-21T18:14:27.887Z"
   },
   {
    "duration": 9,
    "start_time": "2024-01-21T18:14:28.182Z"
   },
   {
    "duration": 28,
    "start_time": "2024-01-21T18:14:28.192Z"
   },
   {
    "duration": 37,
    "start_time": "2024-01-21T18:14:28.221Z"
   },
   {
    "duration": 380,
    "start_time": "2024-01-21T18:14:28.260Z"
   },
   {
    "duration": 188,
    "start_time": "2024-01-21T18:14:28.643Z"
   },
   {
    "duration": 52,
    "start_time": "2024-01-21T18:14:28.833Z"
   },
   {
    "duration": 11,
    "start_time": "2024-01-21T18:14:28.886Z"
   },
   {
    "duration": 7,
    "start_time": "2024-01-21T18:14:28.899Z"
   },
   {
    "duration": 5,
    "start_time": "2024-01-21T18:14:28.908Z"
   },
   {
    "duration": 43,
    "start_time": "2024-01-21T18:14:28.915Z"
   },
   {
    "duration": 180,
    "start_time": "2024-01-21T18:14:28.960Z"
   },
   {
    "duration": 496,
    "start_time": "2024-01-21T18:14:29.142Z"
   },
   {
    "duration": 5,
    "start_time": "2024-01-21T18:14:29.640Z"
   },
   {
    "duration": 216,
    "start_time": "2024-01-21T18:14:29.659Z"
   },
   {
    "duration": 1273,
    "start_time": "2024-01-21T18:15:18.566Z"
   },
   {
    "duration": 90,
    "start_time": "2024-01-21T18:15:19.841Z"
   },
   {
    "duration": 5,
    "start_time": "2024-01-21T18:15:19.932Z"
   },
   {
    "duration": 10,
    "start_time": "2024-01-21T18:15:19.940Z"
   },
   {
    "duration": 9,
    "start_time": "2024-01-21T18:15:19.952Z"
   },
   {
    "duration": 11,
    "start_time": "2024-01-21T18:15:19.963Z"
   },
   {
    "duration": 5,
    "start_time": "2024-01-21T18:15:19.976Z"
   },
   {
    "duration": 214,
    "start_time": "2024-01-21T18:15:19.983Z"
   },
   {
    "duration": 150,
    "start_time": "2024-01-21T18:15:20.199Z"
   },
   {
    "duration": 296,
    "start_time": "2024-01-21T18:15:20.358Z"
   },
   {
    "duration": 303,
    "start_time": "2024-01-21T18:15:20.657Z"
   },
   {
    "duration": 9,
    "start_time": "2024-01-21T18:15:20.962Z"
   },
   {
    "duration": 310,
    "start_time": "2024-01-21T18:15:20.972Z"
   },
   {
    "duration": 13,
    "start_time": "2024-01-21T18:15:21.284Z"
   },
   {
    "duration": 29,
    "start_time": "2024-01-21T18:15:21.299Z"
   },
   {
    "duration": 34,
    "start_time": "2024-01-21T18:15:21.330Z"
   },
   {
    "duration": 379,
    "start_time": "2024-01-21T18:15:21.366Z"
   },
   {
    "duration": 188,
    "start_time": "2024-01-21T18:15:21.746Z"
   },
   {
    "duration": 46,
    "start_time": "2024-01-21T18:15:21.935Z"
   },
   {
    "duration": 11,
    "start_time": "2024-01-21T18:15:21.982Z"
   },
   {
    "duration": 18,
    "start_time": "2024-01-21T18:15:21.995Z"
   },
   {
    "duration": 16,
    "start_time": "2024-01-21T18:15:22.015Z"
   },
   {
    "duration": 13,
    "start_time": "2024-01-21T18:15:22.033Z"
   },
   {
    "duration": 173,
    "start_time": "2024-01-21T18:15:22.048Z"
   },
   {
    "duration": 497,
    "start_time": "2024-01-21T18:15:22.223Z"
   },
   {
    "duration": 6,
    "start_time": "2024-01-21T18:15:22.721Z"
   },
   {
    "duration": 211,
    "start_time": "2024-01-21T18:15:22.729Z"
   },
   {
    "duration": 1140,
    "start_time": "2024-01-21T18:21:02.802Z"
   },
   {
    "duration": 89,
    "start_time": "2024-01-21T18:21:03.944Z"
   },
   {
    "duration": 5,
    "start_time": "2024-01-21T18:21:04.034Z"
   },
   {
    "duration": 11,
    "start_time": "2024-01-21T18:21:04.040Z"
   },
   {
    "duration": 14,
    "start_time": "2024-01-21T18:21:04.053Z"
   },
   {
    "duration": 12,
    "start_time": "2024-01-21T18:21:04.069Z"
   },
   {
    "duration": 9,
    "start_time": "2024-01-21T18:21:04.082Z"
   },
   {
    "duration": 178,
    "start_time": "2024-01-21T18:21:04.092Z"
   },
   {
    "duration": 142,
    "start_time": "2024-01-21T18:21:04.272Z"
   },
   {
    "duration": 290,
    "start_time": "2024-01-21T18:21:04.418Z"
   },
   {
    "duration": 281,
    "start_time": "2024-01-21T18:21:04.710Z"
   },
   {
    "duration": 9,
    "start_time": "2024-01-21T18:21:04.993Z"
   },
   {
    "duration": 292,
    "start_time": "2024-01-21T18:21:05.004Z"
   },
   {
    "duration": 8,
    "start_time": "2024-01-21T18:21:05.298Z"
   },
   {
    "duration": 39,
    "start_time": "2024-01-21T18:21:05.308Z"
   },
   {
    "duration": 20,
    "start_time": "2024-01-21T18:21:05.349Z"
   },
   {
    "duration": 407,
    "start_time": "2024-01-21T18:21:05.370Z"
   },
   {
    "duration": 188,
    "start_time": "2024-01-21T18:21:05.778Z"
   },
   {
    "duration": 36,
    "start_time": "2024-01-21T18:21:05.968Z"
   },
   {
    "duration": 10,
    "start_time": "2024-01-21T18:21:06.006Z"
   },
   {
    "duration": 12,
    "start_time": "2024-01-21T18:21:06.018Z"
   },
   {
    "duration": 5,
    "start_time": "2024-01-21T18:21:06.032Z"
   },
   {
    "duration": 11,
    "start_time": "2024-01-21T18:21:06.059Z"
   },
   {
    "duration": 179,
    "start_time": "2024-01-21T18:21:06.072Z"
   },
   {
    "duration": 509,
    "start_time": "2024-01-21T18:21:06.252Z"
   },
   {
    "duration": 3,
    "start_time": "2024-01-21T18:21:06.763Z"
   },
   {
    "duration": 6,
    "start_time": "2024-01-21T18:21:06.768Z"
   },
   {
    "duration": 243,
    "start_time": "2024-01-21T18:21:06.778Z"
   },
   {
    "duration": 1190,
    "start_time": "2024-01-21T18:21:24.236Z"
   },
   {
    "duration": 92,
    "start_time": "2024-01-21T18:21:25.428Z"
   },
   {
    "duration": 5,
    "start_time": "2024-01-21T18:21:25.522Z"
   },
   {
    "duration": 16,
    "start_time": "2024-01-21T18:21:25.530Z"
   },
   {
    "duration": 12,
    "start_time": "2024-01-21T18:21:25.547Z"
   },
   {
    "duration": 13,
    "start_time": "2024-01-21T18:21:25.561Z"
   },
   {
    "duration": 5,
    "start_time": "2024-01-21T18:21:25.575Z"
   },
   {
    "duration": 193,
    "start_time": "2024-01-21T18:21:25.581Z"
   },
   {
    "duration": 141,
    "start_time": "2024-01-21T18:21:25.775Z"
   },
   {
    "duration": 294,
    "start_time": "2024-01-21T18:21:25.920Z"
   },
   {
    "duration": 282,
    "start_time": "2024-01-21T18:21:26.216Z"
   },
   {
    "duration": 9,
    "start_time": "2024-01-21T18:21:26.500Z"
   },
   {
    "duration": 290,
    "start_time": "2024-01-21T18:21:26.511Z"
   },
   {
    "duration": 9,
    "start_time": "2024-01-21T18:21:26.803Z"
   },
   {
    "duration": 45,
    "start_time": "2024-01-21T18:21:26.814Z"
   },
   {
    "duration": 13,
    "start_time": "2024-01-21T18:21:26.862Z"
   },
   {
    "duration": 405,
    "start_time": "2024-01-21T18:21:26.877Z"
   },
   {
    "duration": 191,
    "start_time": "2024-01-21T18:21:27.284Z"
   },
   {
    "duration": 39,
    "start_time": "2024-01-21T18:21:27.477Z"
   },
   {
    "duration": 11,
    "start_time": "2024-01-21T18:21:27.517Z"
   },
   {
    "duration": 30,
    "start_time": "2024-01-21T18:21:27.530Z"
   },
   {
    "duration": 6,
    "start_time": "2024-01-21T18:21:27.561Z"
   },
   {
    "duration": 26,
    "start_time": "2024-01-21T18:21:27.569Z"
   },
   {
    "duration": 177,
    "start_time": "2024-01-21T18:21:27.597Z"
   },
   {
    "duration": 488,
    "start_time": "2024-01-21T18:21:27.776Z"
   },
   {
    "duration": 4,
    "start_time": "2024-01-21T18:21:28.266Z"
   },
   {
    "duration": 11,
    "start_time": "2024-01-21T18:21:28.272Z"
   },
   {
    "duration": 220,
    "start_time": "2024-01-21T18:21:28.286Z"
   },
   {
    "duration": 1150,
    "start_time": "2024-01-21T18:22:55.101Z"
   },
   {
    "duration": 89,
    "start_time": "2024-01-21T18:22:56.253Z"
   },
   {
    "duration": 4,
    "start_time": "2024-01-21T18:22:56.344Z"
   },
   {
    "duration": 32,
    "start_time": "2024-01-21T18:22:56.350Z"
   },
   {
    "duration": 10,
    "start_time": "2024-01-21T18:22:56.384Z"
   },
   {
    "duration": 13,
    "start_time": "2024-01-21T18:22:56.395Z"
   },
   {
    "duration": 6,
    "start_time": "2024-01-21T18:22:56.409Z"
   },
   {
    "duration": 179,
    "start_time": "2024-01-21T18:22:56.416Z"
   },
   {
    "duration": 139,
    "start_time": "2024-01-21T18:22:56.597Z"
   },
   {
    "duration": 294,
    "start_time": "2024-01-21T18:22:56.738Z"
   },
   {
    "duration": 296,
    "start_time": "2024-01-21T18:22:57.033Z"
   },
   {
    "duration": 9,
    "start_time": "2024-01-21T18:22:57.331Z"
   },
   {
    "duration": 275,
    "start_time": "2024-01-21T18:22:57.341Z"
   },
   {
    "duration": 10,
    "start_time": "2024-01-21T18:22:57.619Z"
   },
   {
    "duration": 48,
    "start_time": "2024-01-21T18:22:57.631Z"
   },
   {
    "duration": 13,
    "start_time": "2024-01-21T18:22:57.681Z"
   },
   {
    "duration": 383,
    "start_time": "2024-01-21T18:22:57.696Z"
   },
   {
    "duration": 186,
    "start_time": "2024-01-21T18:22:58.080Z"
   },
   {
    "duration": 45,
    "start_time": "2024-01-21T18:22:58.267Z"
   },
   {
    "duration": 11,
    "start_time": "2024-01-21T18:22:58.313Z"
   },
   {
    "duration": 16,
    "start_time": "2024-01-21T18:22:58.326Z"
   },
   {
    "duration": 6,
    "start_time": "2024-01-21T18:22:58.358Z"
   },
   {
    "duration": 18,
    "start_time": "2024-01-21T18:22:58.366Z"
   },
   {
    "duration": 183,
    "start_time": "2024-01-21T18:22:58.386Z"
   },
   {
    "duration": 447,
    "start_time": "2024-01-21T18:22:58.571Z"
   },
   {
    "duration": 4,
    "start_time": "2024-01-21T18:22:59.020Z"
   },
   {
    "duration": 11,
    "start_time": "2024-01-21T18:22:59.025Z"
   },
   {
    "duration": 226,
    "start_time": "2024-01-21T18:22:59.038Z"
   },
   {
    "duration": 1276,
    "start_time": "2024-01-21T18:27:01.755Z"
   },
   {
    "duration": 91,
    "start_time": "2024-01-21T18:27:03.032Z"
   },
   {
    "duration": 5,
    "start_time": "2024-01-21T18:27:03.125Z"
   },
   {
    "duration": 46,
    "start_time": "2024-01-21T18:27:03.132Z"
   },
   {
    "duration": 22,
    "start_time": "2024-01-21T18:27:03.180Z"
   },
   {
    "duration": 43,
    "start_time": "2024-01-21T18:27:03.203Z"
   },
   {
    "duration": 13,
    "start_time": "2024-01-21T18:27:03.248Z"
   },
   {
    "duration": 173,
    "start_time": "2024-01-21T18:27:03.262Z"
   },
   {
    "duration": 155,
    "start_time": "2024-01-21T18:27:03.437Z"
   },
   {
    "duration": 302,
    "start_time": "2024-01-21T18:27:03.594Z"
   },
   {
    "duration": 292,
    "start_time": "2024-01-21T18:27:03.899Z"
   },
   {
    "duration": 9,
    "start_time": "2024-01-21T18:27:04.193Z"
   },
   {
    "duration": 297,
    "start_time": "2024-01-21T18:27:04.204Z"
   },
   {
    "duration": 10,
    "start_time": "2024-01-21T18:27:04.504Z"
   },
   {
    "duration": 45,
    "start_time": "2024-01-21T18:27:04.515Z"
   },
   {
    "duration": 18,
    "start_time": "2024-01-21T18:27:04.562Z"
   },
   {
    "duration": 378,
    "start_time": "2024-01-21T18:27:04.582Z"
   },
   {
    "duration": 191,
    "start_time": "2024-01-21T18:27:04.962Z"
   },
   {
    "duration": 36,
    "start_time": "2024-01-21T18:27:05.155Z"
   },
   {
    "duration": 10,
    "start_time": "2024-01-21T18:27:05.193Z"
   },
   {
    "duration": 10,
    "start_time": "2024-01-21T18:27:05.205Z"
   },
   {
    "duration": 4,
    "start_time": "2024-01-21T18:27:05.217Z"
   },
   {
    "duration": 39,
    "start_time": "2024-01-21T18:27:05.223Z"
   },
   {
    "duration": 172,
    "start_time": "2024-01-21T18:27:05.264Z"
   },
   {
    "duration": 400,
    "start_time": "2024-01-21T18:27:05.438Z"
   },
   {
    "duration": 0,
    "start_time": "2024-01-21T18:27:05.840Z"
   },
   {
    "duration": 0,
    "start_time": "2024-01-21T18:27:05.841Z"
   },
   {
    "duration": 0,
    "start_time": "2024-01-21T18:27:05.842Z"
   },
   {
    "duration": 1134,
    "start_time": "2024-01-21T18:28:07.903Z"
   },
   {
    "duration": 88,
    "start_time": "2024-01-21T18:28:09.039Z"
   },
   {
    "duration": 5,
    "start_time": "2024-01-21T18:28:09.129Z"
   },
   {
    "duration": 16,
    "start_time": "2024-01-21T18:28:09.136Z"
   },
   {
    "duration": 9,
    "start_time": "2024-01-21T18:28:09.154Z"
   },
   {
    "duration": 12,
    "start_time": "2024-01-21T18:28:09.165Z"
   },
   {
    "duration": 6,
    "start_time": "2024-01-21T18:28:09.178Z"
   },
   {
    "duration": 204,
    "start_time": "2024-01-21T18:28:09.185Z"
   },
   {
    "duration": 133,
    "start_time": "2024-01-21T18:28:09.390Z"
   },
   {
    "duration": 297,
    "start_time": "2024-01-21T18:28:09.526Z"
   },
   {
    "duration": 284,
    "start_time": "2024-01-21T18:28:09.825Z"
   },
   {
    "duration": 10,
    "start_time": "2024-01-21T18:28:10.111Z"
   },
   {
    "duration": 286,
    "start_time": "2024-01-21T18:28:10.123Z"
   },
   {
    "duration": 10,
    "start_time": "2024-01-21T18:28:10.410Z"
   },
   {
    "duration": 47,
    "start_time": "2024-01-21T18:28:10.422Z"
   },
   {
    "duration": 12,
    "start_time": "2024-01-21T18:28:10.471Z"
   },
   {
    "duration": 366,
    "start_time": "2024-01-21T18:28:10.485Z"
   },
   {
    "duration": 184,
    "start_time": "2024-01-21T18:28:10.853Z"
   },
   {
    "duration": 43,
    "start_time": "2024-01-21T18:28:11.038Z"
   },
   {
    "duration": 9,
    "start_time": "2024-01-21T18:28:11.082Z"
   },
   {
    "duration": 8,
    "start_time": "2024-01-21T18:28:11.093Z"
   },
   {
    "duration": 8,
    "start_time": "2024-01-21T18:28:11.103Z"
   },
   {
    "duration": 11,
    "start_time": "2024-01-21T18:28:11.113Z"
   },
   {
    "duration": 190,
    "start_time": "2024-01-21T18:28:11.126Z"
   },
   {
    "duration": 410,
    "start_time": "2024-01-21T18:28:11.318Z"
   },
   {
    "duration": 4,
    "start_time": "2024-01-21T18:28:11.730Z"
   },
   {
    "duration": 23,
    "start_time": "2024-01-21T18:28:11.735Z"
   },
   {
    "duration": 213,
    "start_time": "2024-01-21T18:28:11.762Z"
   },
   {
    "duration": 1129,
    "start_time": "2024-01-21T18:29:46.308Z"
   },
   {
    "duration": 94,
    "start_time": "2024-01-21T18:29:47.439Z"
   },
   {
    "duration": 5,
    "start_time": "2024-01-21T18:29:47.535Z"
   },
   {
    "duration": 17,
    "start_time": "2024-01-21T18:29:47.543Z"
   },
   {
    "duration": 23,
    "start_time": "2024-01-21T18:29:47.562Z"
   },
   {
    "duration": 27,
    "start_time": "2024-01-21T18:29:47.586Z"
   },
   {
    "duration": 6,
    "start_time": "2024-01-21T18:29:47.614Z"
   },
   {
    "duration": 181,
    "start_time": "2024-01-21T18:29:47.621Z"
   },
   {
    "duration": 139,
    "start_time": "2024-01-21T18:29:47.804Z"
   },
   {
    "duration": 299,
    "start_time": "2024-01-21T18:29:47.946Z"
   },
   {
    "duration": 295,
    "start_time": "2024-01-21T18:29:48.247Z"
   },
   {
    "duration": 18,
    "start_time": "2024-01-21T18:29:48.543Z"
   },
   {
    "duration": 289,
    "start_time": "2024-01-21T18:29:48.563Z"
   },
   {
    "duration": 10,
    "start_time": "2024-01-21T18:29:48.857Z"
   },
   {
    "duration": 26,
    "start_time": "2024-01-21T18:29:48.868Z"
   },
   {
    "duration": 13,
    "start_time": "2024-01-21T18:29:48.896Z"
   },
   {
    "duration": 401,
    "start_time": "2024-01-21T18:29:48.910Z"
   },
   {
    "duration": 182,
    "start_time": "2024-01-21T18:29:49.312Z"
   },
   {
    "duration": 36,
    "start_time": "2024-01-21T18:29:49.496Z"
   },
   {
    "duration": 10,
    "start_time": "2024-01-21T18:29:49.533Z"
   },
   {
    "duration": 15,
    "start_time": "2024-01-21T18:29:49.559Z"
   },
   {
    "duration": 27,
    "start_time": "2024-01-21T18:29:49.576Z"
   },
   {
    "duration": 33,
    "start_time": "2024-01-21T18:29:49.605Z"
   },
   {
    "duration": 201,
    "start_time": "2024-01-21T18:29:49.640Z"
   },
   {
    "duration": 381,
    "start_time": "2024-01-21T18:29:49.842Z"
   },
   {
    "duration": 1,
    "start_time": "2024-01-21T18:29:50.224Z"
   },
   {
    "duration": 0,
    "start_time": "2024-01-21T18:29:50.226Z"
   },
   {
    "duration": 0,
    "start_time": "2024-01-21T18:29:50.227Z"
   },
   {
    "duration": 1194,
    "start_time": "2024-01-21T18:30:38.535Z"
   },
   {
    "duration": 89,
    "start_time": "2024-01-21T18:30:39.731Z"
   },
   {
    "duration": 5,
    "start_time": "2024-01-21T18:30:39.821Z"
   },
   {
    "duration": 10,
    "start_time": "2024-01-21T18:30:39.827Z"
   },
   {
    "duration": 9,
    "start_time": "2024-01-21T18:30:39.839Z"
   },
   {
    "duration": 18,
    "start_time": "2024-01-21T18:30:39.850Z"
   },
   {
    "duration": 6,
    "start_time": "2024-01-21T18:30:39.870Z"
   },
   {
    "duration": 185,
    "start_time": "2024-01-21T18:30:39.878Z"
   },
   {
    "duration": 150,
    "start_time": "2024-01-21T18:30:40.065Z"
   },
   {
    "duration": 300,
    "start_time": "2024-01-21T18:30:40.217Z"
   },
   {
    "duration": 295,
    "start_time": "2024-01-21T18:30:40.519Z"
   },
   {
    "duration": 8,
    "start_time": "2024-01-21T18:30:40.816Z"
   },
   {
    "duration": 295,
    "start_time": "2024-01-21T18:30:40.826Z"
   },
   {
    "duration": 8,
    "start_time": "2024-01-21T18:30:41.124Z"
   },
   {
    "duration": 47,
    "start_time": "2024-01-21T18:30:41.134Z"
   },
   {
    "duration": 13,
    "start_time": "2024-01-21T18:30:41.183Z"
   },
   {
    "duration": 392,
    "start_time": "2024-01-21T18:30:41.197Z"
   },
   {
    "duration": 194,
    "start_time": "2024-01-21T18:30:41.591Z"
   },
   {
    "duration": 35,
    "start_time": "2024-01-21T18:30:41.786Z"
   },
   {
    "duration": 11,
    "start_time": "2024-01-21T18:30:41.823Z"
   },
   {
    "duration": 26,
    "start_time": "2024-01-21T18:30:41.835Z"
   },
   {
    "duration": 5,
    "start_time": "2024-01-21T18:30:41.862Z"
   },
   {
    "duration": 21,
    "start_time": "2024-01-21T18:30:41.869Z"
   },
   {
    "duration": 169,
    "start_time": "2024-01-21T18:30:41.892Z"
   },
   {
    "duration": 487,
    "start_time": "2024-01-21T18:30:42.062Z"
   },
   {
    "duration": 4,
    "start_time": "2024-01-21T18:30:42.558Z"
   },
   {
    "duration": 14,
    "start_time": "2024-01-21T18:30:42.563Z"
   },
   {
    "duration": 213,
    "start_time": "2024-01-21T18:30:42.579Z"
   },
   {
    "duration": 132,
    "start_time": "2024-01-21T18:35:49.415Z"
   },
   {
    "duration": 129,
    "start_time": "2024-01-21T18:37:16.719Z"
   },
   {
    "duration": 136,
    "start_time": "2024-01-21T18:45:13.991Z"
   },
   {
    "duration": 4,
    "start_time": "2024-01-21T18:45:34.256Z"
   },
   {
    "duration": 4,
    "start_time": "2024-01-21T18:45:40.131Z"
   },
   {
    "duration": 1162,
    "start_time": "2024-01-21T18:50:34.204Z"
   },
   {
    "duration": 93,
    "start_time": "2024-01-21T18:50:35.368Z"
   },
   {
    "duration": 6,
    "start_time": "2024-01-21T18:50:35.463Z"
   },
   {
    "duration": 11,
    "start_time": "2024-01-21T18:50:35.471Z"
   },
   {
    "duration": 10,
    "start_time": "2024-01-21T18:50:35.484Z"
   },
   {
    "duration": 15,
    "start_time": "2024-01-21T18:50:35.496Z"
   },
   {
    "duration": 46,
    "start_time": "2024-01-21T18:50:35.513Z"
   },
   {
    "duration": 190,
    "start_time": "2024-01-21T18:50:35.561Z"
   },
   {
    "duration": 156,
    "start_time": "2024-01-21T18:50:35.752Z"
   },
   {
    "duration": 286,
    "start_time": "2024-01-21T18:50:35.912Z"
   },
   {
    "duration": 299,
    "start_time": "2024-01-21T18:50:36.199Z"
   },
   {
    "duration": 9,
    "start_time": "2024-01-21T18:50:36.500Z"
   },
   {
    "duration": 296,
    "start_time": "2024-01-21T18:50:36.510Z"
   },
   {
    "duration": 9,
    "start_time": "2024-01-21T18:50:36.808Z"
   },
   {
    "duration": 46,
    "start_time": "2024-01-21T18:50:36.819Z"
   },
   {
    "duration": 18,
    "start_time": "2024-01-21T18:50:36.867Z"
   },
   {
    "duration": 419,
    "start_time": "2024-01-21T18:50:36.887Z"
   },
   {
    "duration": 197,
    "start_time": "2024-01-21T18:50:37.308Z"
   },
   {
    "duration": 39,
    "start_time": "2024-01-21T18:50:37.507Z"
   },
   {
    "duration": 19,
    "start_time": "2024-01-21T18:50:37.548Z"
   },
   {
    "duration": 15,
    "start_time": "2024-01-21T18:50:37.569Z"
   },
   {
    "duration": 23,
    "start_time": "2024-01-21T18:50:37.586Z"
   },
   {
    "duration": 10,
    "start_time": "2024-01-21T18:50:37.611Z"
   },
   {
    "duration": 210,
    "start_time": "2024-01-21T18:50:37.623Z"
   },
   {
    "duration": 455,
    "start_time": "2024-01-21T18:50:37.835Z"
   },
   {
    "duration": 4,
    "start_time": "2024-01-21T18:50:38.292Z"
   },
   {
    "duration": 6,
    "start_time": "2024-01-21T18:50:38.298Z"
   },
   {
    "duration": 197,
    "start_time": "2024-01-21T18:50:38.308Z"
   },
   {
    "duration": 4,
    "start_time": "2024-01-21T18:50:38.507Z"
   },
   {
    "duration": 4,
    "start_time": "2024-01-21T18:50:38.513Z"
   },
   {
    "duration": 179,
    "start_time": "2024-01-21T18:53:37.690Z"
   },
   {
    "duration": 120,
    "start_time": "2024-01-21T18:54:27.002Z"
   },
   {
    "duration": 157,
    "start_time": "2024-01-21T18:55:58.773Z"
   },
   {
    "duration": 161,
    "start_time": "2024-01-21T18:56:20.325Z"
   },
   {
    "duration": 171,
    "start_time": "2024-01-21T18:56:39.218Z"
   },
   {
    "duration": 270,
    "start_time": "2024-01-21T18:58:08.952Z"
   },
   {
    "duration": 4,
    "start_time": "2024-01-21T19:01:06.852Z"
   },
   {
    "duration": 167,
    "start_time": "2024-01-21T19:05:20.261Z"
   },
   {
    "duration": 72,
    "start_time": "2024-01-21T19:07:52.333Z"
   },
   {
    "duration": 4,
    "start_time": "2024-01-21T19:08:02.769Z"
   },
   {
    "duration": 99,
    "start_time": "2024-01-21T19:08:17.301Z"
   },
   {
    "duration": 8,
    "start_time": "2024-01-21T19:08:23.230Z"
   },
   {
    "duration": 6,
    "start_time": "2024-01-21T19:13:45.266Z"
   },
   {
    "duration": 4,
    "start_time": "2024-01-21T19:14:42.418Z"
   },
   {
    "duration": 154,
    "start_time": "2024-01-21T19:14:47.174Z"
   },
   {
    "duration": 1179,
    "start_time": "2024-01-21T19:16:17.663Z"
   },
   {
    "duration": 91,
    "start_time": "2024-01-21T19:16:18.844Z"
   },
   {
    "duration": 5,
    "start_time": "2024-01-21T19:16:18.937Z"
   },
   {
    "duration": 12,
    "start_time": "2024-01-21T19:16:18.944Z"
   },
   {
    "duration": 9,
    "start_time": "2024-01-21T19:16:18.958Z"
   },
   {
    "duration": 13,
    "start_time": "2024-01-21T19:16:18.969Z"
   },
   {
    "duration": 21,
    "start_time": "2024-01-21T19:16:18.983Z"
   },
   {
    "duration": 181,
    "start_time": "2024-01-21T19:16:19.005Z"
   },
   {
    "duration": 144,
    "start_time": "2024-01-21T19:16:19.188Z"
   },
   {
    "duration": 285,
    "start_time": "2024-01-21T19:16:19.335Z"
   },
   {
    "duration": 290,
    "start_time": "2024-01-21T19:16:19.623Z"
   },
   {
    "duration": 9,
    "start_time": "2024-01-21T19:16:19.914Z"
   },
   {
    "duration": 295,
    "start_time": "2024-01-21T19:16:19.925Z"
   },
   {
    "duration": 9,
    "start_time": "2024-01-21T19:16:20.222Z"
   },
   {
    "duration": 48,
    "start_time": "2024-01-21T19:16:20.233Z"
   },
   {
    "duration": 21,
    "start_time": "2024-01-21T19:16:20.282Z"
   },
   {
    "duration": 370,
    "start_time": "2024-01-21T19:16:20.305Z"
   },
   {
    "duration": 177,
    "start_time": "2024-01-21T19:16:20.685Z"
   },
   {
    "duration": 39,
    "start_time": "2024-01-21T19:16:20.864Z"
   },
   {
    "duration": 11,
    "start_time": "2024-01-21T19:16:20.904Z"
   },
   {
    "duration": 6,
    "start_time": "2024-01-21T19:16:20.917Z"
   },
   {
    "duration": 5,
    "start_time": "2024-01-21T19:16:20.924Z"
   },
   {
    "duration": 12,
    "start_time": "2024-01-21T19:16:20.960Z"
   },
   {
    "duration": 176,
    "start_time": "2024-01-21T19:16:20.973Z"
   },
   {
    "duration": 403,
    "start_time": "2024-01-21T19:16:21.151Z"
   },
   {
    "duration": 4,
    "start_time": "2024-01-21T19:16:21.558Z"
   },
   {
    "duration": 8,
    "start_time": "2024-01-21T19:16:21.564Z"
   },
   {
    "duration": 169,
    "start_time": "2024-01-21T19:16:21.574Z"
   },
   {
    "duration": 1154,
    "start_time": "2024-01-21T19:41:22.585Z"
   },
   {
    "duration": 88,
    "start_time": "2024-01-21T19:41:23.741Z"
   },
   {
    "duration": 5,
    "start_time": "2024-01-21T19:41:23.830Z"
   },
   {
    "duration": 14,
    "start_time": "2024-01-21T19:41:23.837Z"
   },
   {
    "duration": 30,
    "start_time": "2024-01-21T19:41:23.853Z"
   },
   {
    "duration": 12,
    "start_time": "2024-01-21T19:41:23.884Z"
   },
   {
    "duration": 5,
    "start_time": "2024-01-21T19:41:23.898Z"
   },
   {
    "duration": 172,
    "start_time": "2024-01-21T19:41:23.905Z"
   },
   {
    "duration": 141,
    "start_time": "2024-01-21T19:41:24.080Z"
   },
   {
    "duration": 290,
    "start_time": "2024-01-21T19:41:24.223Z"
   },
   {
    "duration": 297,
    "start_time": "2024-01-21T19:41:24.515Z"
   },
   {
    "duration": 8,
    "start_time": "2024-01-21T19:41:24.813Z"
   },
   {
    "duration": 283,
    "start_time": "2024-01-21T19:41:24.823Z"
   },
   {
    "duration": 18,
    "start_time": "2024-01-21T19:41:25.109Z"
   },
   {
    "duration": 49,
    "start_time": "2024-01-21T19:41:25.129Z"
   },
   {
    "duration": 16,
    "start_time": "2024-01-21T19:41:25.180Z"
   },
   {
    "duration": 366,
    "start_time": "2024-01-21T19:41:25.197Z"
   },
   {
    "duration": 187,
    "start_time": "2024-01-21T19:41:25.564Z"
   },
   {
    "duration": 37,
    "start_time": "2024-01-21T19:41:25.753Z"
   },
   {
    "duration": 9,
    "start_time": "2024-01-21T19:41:25.792Z"
   },
   {
    "duration": 5,
    "start_time": "2024-01-21T19:41:25.803Z"
   },
   {
    "duration": 9,
    "start_time": "2024-01-21T19:41:25.810Z"
   },
   {
    "duration": 13,
    "start_time": "2024-01-21T19:41:25.821Z"
   },
   {
    "duration": 173,
    "start_time": "2024-01-21T19:41:25.858Z"
   },
   {
    "duration": 509,
    "start_time": "2024-01-21T19:41:26.033Z"
   },
   {
    "duration": 4,
    "start_time": "2024-01-21T19:41:26.543Z"
   },
   {
    "duration": 13,
    "start_time": "2024-01-21T19:41:26.549Z"
   },
   {
    "duration": 164,
    "start_time": "2024-01-21T19:41:26.564Z"
   },
   {
    "duration": 1094,
    "start_time": "2024-01-21T20:01:39.079Z"
   },
   {
    "duration": 87,
    "start_time": "2024-01-21T20:01:40.175Z"
   },
   {
    "duration": 4,
    "start_time": "2024-01-21T20:01:40.264Z"
   },
   {
    "duration": 13,
    "start_time": "2024-01-21T20:01:40.271Z"
   },
   {
    "duration": 11,
    "start_time": "2024-01-21T20:01:40.285Z"
   },
   {
    "duration": 25,
    "start_time": "2024-01-21T20:01:40.298Z"
   },
   {
    "duration": 4,
    "start_time": "2024-01-21T20:01:40.325Z"
   },
   {
    "duration": 168,
    "start_time": "2024-01-21T20:01:40.331Z"
   },
   {
    "duration": 133,
    "start_time": "2024-01-21T20:01:40.501Z"
   },
   {
    "duration": 271,
    "start_time": "2024-01-21T20:01:40.637Z"
   },
   {
    "duration": 272,
    "start_time": "2024-01-21T20:01:40.909Z"
   },
   {
    "duration": 8,
    "start_time": "2024-01-21T20:01:41.183Z"
   },
   {
    "duration": 270,
    "start_time": "2024-01-21T20:01:41.192Z"
   },
   {
    "duration": 9,
    "start_time": "2024-01-21T20:01:41.464Z"
   },
   {
    "duration": 30,
    "start_time": "2024-01-21T20:01:41.474Z"
   },
   {
    "duration": 33,
    "start_time": "2024-01-21T20:01:41.505Z"
   },
   {
    "duration": 380,
    "start_time": "2024-01-21T20:01:41.540Z"
   },
   {
    "duration": 180,
    "start_time": "2024-01-21T20:01:41.922Z"
   },
   {
    "duration": 42,
    "start_time": "2024-01-21T20:01:42.104Z"
   },
   {
    "duration": 10,
    "start_time": "2024-01-21T20:01:42.147Z"
   },
   {
    "duration": 6,
    "start_time": "2024-01-21T20:01:42.159Z"
   },
   {
    "duration": 6,
    "start_time": "2024-01-21T20:01:42.167Z"
   },
   {
    "duration": 12,
    "start_time": "2024-01-21T20:01:42.175Z"
   },
   {
    "duration": 195,
    "start_time": "2024-01-21T20:01:42.188Z"
   },
   {
    "duration": 378,
    "start_time": "2024-01-21T20:01:42.385Z"
   },
   {
    "duration": 5,
    "start_time": "2024-01-21T20:01:42.764Z"
   },
   {
    "duration": 39,
    "start_time": "2024-01-21T20:01:42.770Z"
   },
   {
    "duration": 176,
    "start_time": "2024-01-21T20:01:42.813Z"
   },
   {
    "duration": 34,
    "start_time": "2024-01-21T20:07:33.632Z"
   },
   {
    "duration": 10,
    "start_time": "2024-01-21T20:10:49.413Z"
   },
   {
    "duration": 1162,
    "start_time": "2024-01-21T20:18:42.112Z"
   },
   {
    "duration": 86,
    "start_time": "2024-01-21T20:18:43.276Z"
   },
   {
    "duration": 4,
    "start_time": "2024-01-21T20:18:43.364Z"
   },
   {
    "duration": 13,
    "start_time": "2024-01-21T20:18:43.370Z"
   },
   {
    "duration": 9,
    "start_time": "2024-01-21T20:18:43.384Z"
   },
   {
    "duration": 11,
    "start_time": "2024-01-21T20:18:43.394Z"
   },
   {
    "duration": 17,
    "start_time": "2024-01-21T20:18:43.406Z"
   },
   {
    "duration": 172,
    "start_time": "2024-01-21T20:18:43.425Z"
   },
   {
    "duration": 140,
    "start_time": "2024-01-21T20:18:43.598Z"
   },
   {
    "duration": 284,
    "start_time": "2024-01-21T20:18:43.741Z"
   },
   {
    "duration": 277,
    "start_time": "2024-01-21T20:18:44.027Z"
   },
   {
    "duration": 18,
    "start_time": "2024-01-21T20:18:44.306Z"
   },
   {
    "duration": 269,
    "start_time": "2024-01-21T20:18:44.326Z"
   },
   {
    "duration": 10,
    "start_time": "2024-01-21T20:18:44.597Z"
   },
   {
    "duration": 30,
    "start_time": "2024-01-21T20:18:44.609Z"
   },
   {
    "duration": 11,
    "start_time": "2024-01-21T20:18:44.641Z"
   },
   {
    "duration": 377,
    "start_time": "2024-01-21T20:18:44.654Z"
   },
   {
    "duration": 179,
    "start_time": "2024-01-21T20:18:45.033Z"
   },
   {
    "duration": 36,
    "start_time": "2024-01-21T20:18:45.214Z"
   },
   {
    "duration": 9,
    "start_time": "2024-01-21T20:18:45.252Z"
   },
   {
    "duration": 5,
    "start_time": "2024-01-21T20:18:45.263Z"
   },
   {
    "duration": 5,
    "start_time": "2024-01-21T20:18:45.269Z"
   },
   {
    "duration": 11,
    "start_time": "2024-01-21T20:18:45.275Z"
   },
   {
    "duration": 157,
    "start_time": "2024-01-21T20:18:45.320Z"
   },
   {
    "duration": 437,
    "start_time": "2024-01-21T20:18:45.478Z"
   },
   {
    "duration": 4,
    "start_time": "2024-01-21T20:18:45.920Z"
   },
   {
    "duration": 27,
    "start_time": "2024-01-21T20:18:45.926Z"
   },
   {
    "duration": 154,
    "start_time": "2024-01-21T20:18:45.957Z"
   },
   {
    "duration": 45,
    "start_time": "2024-01-22T07:03:35.257Z"
   },
   {
    "duration": 1174,
    "start_time": "2024-01-22T07:03:45.210Z"
   },
   {
    "duration": 211,
    "start_time": "2024-01-22T07:03:46.386Z"
   },
   {
    "duration": 99,
    "start_time": "2024-01-22T07:03:46.599Z"
   },
   {
    "duration": 0,
    "start_time": "2024-01-22T07:03:46.700Z"
   },
   {
    "duration": 0,
    "start_time": "2024-01-22T07:03:46.702Z"
   },
   {
    "duration": 0,
    "start_time": "2024-01-22T07:03:46.703Z"
   },
   {
    "duration": 0,
    "start_time": "2024-01-22T07:03:46.704Z"
   },
   {
    "duration": 0,
    "start_time": "2024-01-22T07:03:46.705Z"
   },
   {
    "duration": 0,
    "start_time": "2024-01-22T07:03:46.706Z"
   },
   {
    "duration": 0,
    "start_time": "2024-01-22T07:03:46.706Z"
   },
   {
    "duration": 0,
    "start_time": "2024-01-22T07:03:46.707Z"
   },
   {
    "duration": 0,
    "start_time": "2024-01-22T07:03:46.708Z"
   },
   {
    "duration": 0,
    "start_time": "2024-01-22T07:03:46.710Z"
   },
   {
    "duration": 0,
    "start_time": "2024-01-22T07:03:46.711Z"
   },
   {
    "duration": 0,
    "start_time": "2024-01-22T07:03:46.712Z"
   },
   {
    "duration": 0,
    "start_time": "2024-01-22T07:03:46.713Z"
   },
   {
    "duration": 0,
    "start_time": "2024-01-22T07:03:46.714Z"
   },
   {
    "duration": 0,
    "start_time": "2024-01-22T07:03:46.715Z"
   },
   {
    "duration": 0,
    "start_time": "2024-01-22T07:03:46.716Z"
   },
   {
    "duration": 0,
    "start_time": "2024-01-22T07:03:46.717Z"
   },
   {
    "duration": 0,
    "start_time": "2024-01-22T07:03:46.718Z"
   },
   {
    "duration": 0,
    "start_time": "2024-01-22T07:03:46.719Z"
   },
   {
    "duration": 0,
    "start_time": "2024-01-22T07:03:46.720Z"
   },
   {
    "duration": 0,
    "start_time": "2024-01-22T07:03:46.744Z"
   },
   {
    "duration": 0,
    "start_time": "2024-01-22T07:03:46.746Z"
   },
   {
    "duration": 0,
    "start_time": "2024-01-22T07:03:46.747Z"
   },
   {
    "duration": 0,
    "start_time": "2024-01-22T07:03:46.748Z"
   },
   {
    "duration": 0,
    "start_time": "2024-01-22T07:03:46.749Z"
   },
   {
    "duration": 27,
    "start_time": "2024-01-22T07:04:32.347Z"
   },
   {
    "duration": 27,
    "start_time": "2024-01-22T07:05:04.431Z"
   },
   {
    "duration": 12,
    "start_time": "2024-01-22T07:16:03.902Z"
   },
   {
    "duration": 16,
    "start_time": "2024-01-22T07:16:16.188Z"
   },
   {
    "duration": 18,
    "start_time": "2024-01-22T07:16:38.158Z"
   },
   {
    "duration": 17,
    "start_time": "2024-01-22T07:17:03.688Z"
   },
   {
    "duration": 43,
    "start_time": "2024-01-22T07:30:51.434Z"
   },
   {
    "duration": 18,
    "start_time": "2024-01-22T07:31:00.478Z"
   },
   {
    "duration": 1349,
    "start_time": "2024-01-22T07:33:31.991Z"
   },
   {
    "duration": 109,
    "start_time": "2024-01-22T07:33:51.026Z"
   },
   {
    "duration": 121,
    "start_time": "2024-01-22T07:34:08.647Z"
   },
   {
    "duration": 129,
    "start_time": "2024-01-22T07:35:09.722Z"
   },
   {
    "duration": 135,
    "start_time": "2024-01-22T07:38:47.058Z"
   },
   {
    "duration": 154,
    "start_time": "2024-01-22T07:39:07.621Z"
   },
   {
    "duration": 170,
    "start_time": "2024-01-22T07:39:21.985Z"
   },
   {
    "duration": 132,
    "start_time": "2024-01-22T07:39:39.493Z"
   },
   {
    "duration": 132,
    "start_time": "2024-01-22T07:41:26.851Z"
   },
   {
    "duration": 143,
    "start_time": "2024-01-22T07:46:12.430Z"
   },
   {
    "duration": 118,
    "start_time": "2024-01-22T07:55:06.756Z"
   },
   {
    "duration": 109,
    "start_time": "2024-01-22T07:55:33.687Z"
   },
   {
    "duration": 241,
    "start_time": "2024-01-22T07:57:49.126Z"
   },
   {
    "duration": 1059,
    "start_time": "2024-01-22T07:59:45.031Z"
   },
   {
    "duration": 85,
    "start_time": "2024-01-22T07:59:46.092Z"
   },
   {
    "duration": 26,
    "start_time": "2024-01-22T07:59:46.178Z"
   },
   {
    "duration": 12,
    "start_time": "2024-01-22T07:59:46.207Z"
   },
   {
    "duration": 30,
    "start_time": "2024-01-22T07:59:46.221Z"
   },
   {
    "duration": 5,
    "start_time": "2024-01-22T07:59:46.252Z"
   },
   {
    "duration": 171,
    "start_time": "2024-01-22T07:59:46.258Z"
   },
   {
    "duration": 132,
    "start_time": "2024-01-22T07:59:46.431Z"
   },
   {
    "duration": 270,
    "start_time": "2024-01-22T07:59:46.565Z"
   },
   {
    "duration": 259,
    "start_time": "2024-01-22T07:59:46.837Z"
   },
   {
    "duration": 8,
    "start_time": "2024-01-22T07:59:47.098Z"
   },
   {
    "duration": 302,
    "start_time": "2024-01-22T07:59:47.107Z"
   },
   {
    "duration": 8,
    "start_time": "2024-01-22T07:59:47.411Z"
   },
   {
    "duration": 37,
    "start_time": "2024-01-22T07:59:47.420Z"
   },
   {
    "duration": 21,
    "start_time": "2024-01-22T07:59:47.459Z"
   },
   {
    "duration": 385,
    "start_time": "2024-01-22T07:59:47.481Z"
   },
   {
    "duration": 167,
    "start_time": "2024-01-22T07:59:47.868Z"
   },
   {
    "duration": 38,
    "start_time": "2024-01-22T07:59:48.037Z"
   },
   {
    "duration": 180,
    "start_time": "2024-01-22T07:59:48.076Z"
   },
   {
    "duration": 119,
    "start_time": "2024-01-22T07:59:48.257Z"
   },
   {
    "duration": 40,
    "start_time": "2024-01-22T07:59:48.378Z"
   },
   {
    "duration": 35,
    "start_time": "2024-01-22T07:59:48.420Z"
   },
   {
    "duration": 172,
    "start_time": "2024-01-22T07:59:48.457Z"
   },
   {
    "duration": 415,
    "start_time": "2024-01-22T07:59:48.630Z"
   },
   {
    "duration": 4,
    "start_time": "2024-01-22T07:59:49.046Z"
   },
   {
    "duration": 38,
    "start_time": "2024-01-22T07:59:49.052Z"
   },
   {
    "duration": 161,
    "start_time": "2024-01-22T07:59:49.092Z"
   },
   {
    "duration": 277,
    "start_time": "2024-01-22T08:02:20.186Z"
   },
   {
    "duration": 253,
    "start_time": "2024-01-22T08:03:00.630Z"
   },
   {
    "duration": 289,
    "start_time": "2024-01-22T08:04:43.552Z"
   },
   {
    "duration": 339,
    "start_time": "2024-01-22T08:04:55.361Z"
   },
   {
    "duration": 267,
    "start_time": "2024-01-22T08:05:05.555Z"
   },
   {
    "duration": 249,
    "start_time": "2024-01-22T08:05:39.421Z"
   },
   {
    "duration": 142,
    "start_time": "2024-01-22T08:08:17.125Z"
   },
   {
    "duration": 344,
    "start_time": "2024-01-22T08:11:55.817Z"
   },
   {
    "duration": 227,
    "start_time": "2024-01-22T08:12:52.846Z"
   },
   {
    "duration": 315,
    "start_time": "2024-01-22T08:13:51.553Z"
   },
   {
    "duration": 269,
    "start_time": "2024-01-22T08:14:31.296Z"
   },
   {
    "duration": 165,
    "start_time": "2024-01-22T08:28:29.790Z"
   },
   {
    "duration": 1127,
    "start_time": "2024-01-22T08:31:47.371Z"
   },
   {
    "duration": 91,
    "start_time": "2024-01-22T08:31:48.500Z"
   },
   {
    "duration": 25,
    "start_time": "2024-01-22T08:31:48.592Z"
   },
   {
    "duration": 11,
    "start_time": "2024-01-22T08:31:48.618Z"
   },
   {
    "duration": 21,
    "start_time": "2024-01-22T08:31:48.631Z"
   },
   {
    "duration": 19,
    "start_time": "2024-01-22T08:31:48.654Z"
   },
   {
    "duration": 184,
    "start_time": "2024-01-22T08:31:48.674Z"
   },
   {
    "duration": 140,
    "start_time": "2024-01-22T08:31:48.860Z"
   },
   {
    "duration": 296,
    "start_time": "2024-01-22T08:31:49.001Z"
   },
   {
    "duration": 268,
    "start_time": "2024-01-22T08:31:49.299Z"
   },
   {
    "duration": 7,
    "start_time": "2024-01-22T08:31:49.569Z"
   },
   {
    "duration": 276,
    "start_time": "2024-01-22T08:31:49.578Z"
   },
   {
    "duration": 8,
    "start_time": "2024-01-22T08:31:49.855Z"
   },
   {
    "duration": 419,
    "start_time": "2024-01-22T08:31:49.864Z"
   },
   {
    "duration": 25,
    "start_time": "2024-01-22T08:31:50.284Z"
   },
   {
    "duration": 104,
    "start_time": "2024-01-22T08:31:50.311Z"
   },
   {
    "duration": 259,
    "start_time": "2024-01-22T08:31:50.417Z"
   },
   {
    "duration": 172,
    "start_time": "2024-01-22T08:31:50.678Z"
   },
   {
    "duration": 31,
    "start_time": "2024-01-22T08:31:50.851Z"
   },
   {
    "duration": 31,
    "start_time": "2024-01-22T08:31:50.884Z"
   },
   {
    "duration": 21,
    "start_time": "2024-01-22T08:31:50.917Z"
   },
   {
    "duration": 25,
    "start_time": "2024-01-22T08:31:50.940Z"
   },
   {
    "duration": 39,
    "start_time": "2024-01-22T08:31:50.966Z"
   },
   {
    "duration": 163,
    "start_time": "2024-01-22T08:31:51.007Z"
   },
   {
    "duration": 428,
    "start_time": "2024-01-22T08:31:51.171Z"
   },
   {
    "duration": 4,
    "start_time": "2024-01-22T08:31:51.601Z"
   },
   {
    "duration": 10,
    "start_time": "2024-01-22T08:31:51.607Z"
   },
   {
    "duration": 150,
    "start_time": "2024-01-22T08:31:51.620Z"
   },
   {
    "duration": 133,
    "start_time": "2024-01-22T08:35:07.433Z"
   },
   {
    "duration": 187,
    "start_time": "2024-01-22T08:35:23.219Z"
   },
   {
    "duration": 151,
    "start_time": "2024-01-22T08:36:01.360Z"
   },
   {
    "duration": 12,
    "start_time": "2024-01-22T08:38:20.382Z"
   },
   {
    "duration": 94,
    "start_time": "2024-01-22T08:39:16.640Z"
   },
   {
    "duration": 13,
    "start_time": "2024-01-22T08:39:30.282Z"
   },
   {
    "duration": 156,
    "start_time": "2024-01-22T08:40:50.127Z"
   },
   {
    "duration": 13,
    "start_time": "2024-01-22T08:40:59.242Z"
   },
   {
    "duration": 14,
    "start_time": "2024-01-22T08:42:22.006Z"
   },
   {
    "duration": 11,
    "start_time": "2024-01-22T08:42:31.488Z"
   },
   {
    "duration": 7,
    "start_time": "2024-01-22T08:42:40.078Z"
   },
   {
    "duration": 12,
    "start_time": "2024-01-22T08:42:45.869Z"
   },
   {
    "duration": 5,
    "start_time": "2024-01-22T08:45:51.869Z"
   },
   {
    "duration": 5,
    "start_time": "2024-01-22T08:45:58.317Z"
   },
   {
    "duration": 19,
    "start_time": "2024-01-22T08:47:25.251Z"
   },
   {
    "duration": 12,
    "start_time": "2024-01-22T08:51:59.393Z"
   },
   {
    "duration": 25,
    "start_time": "2024-01-22T08:59:49.263Z"
   },
   {
    "duration": 25,
    "start_time": "2024-01-22T08:59:58.810Z"
   },
   {
    "duration": 105,
    "start_time": "2024-01-22T09:02:13.263Z"
   },
   {
    "duration": 28,
    "start_time": "2024-01-22T09:02:41.595Z"
   },
   {
    "duration": 31,
    "start_time": "2024-01-22T09:03:03.454Z"
   },
   {
    "duration": 33,
    "start_time": "2024-01-22T09:04:38.528Z"
   },
   {
    "duration": 266,
    "start_time": "2024-01-22T09:10:12.664Z"
   },
   {
    "duration": 171,
    "start_time": "2024-01-22T09:14:46.277Z"
   },
   {
    "duration": 14,
    "start_time": "2024-01-22T09:31:31.840Z"
   },
   {
    "duration": 1036,
    "start_time": "2024-01-22T09:56:06.152Z"
   },
   {
    "duration": 97,
    "start_time": "2024-01-22T09:56:07.190Z"
   },
   {
    "duration": 29,
    "start_time": "2024-01-22T09:56:07.289Z"
   },
   {
    "duration": 11,
    "start_time": "2024-01-22T09:56:07.320Z"
   },
   {
    "duration": 11,
    "start_time": "2024-01-22T09:56:07.344Z"
   },
   {
    "duration": 16,
    "start_time": "2024-01-22T09:56:07.356Z"
   },
   {
    "duration": 170,
    "start_time": "2024-01-22T09:56:07.374Z"
   },
   {
    "duration": 134,
    "start_time": "2024-01-22T09:56:07.546Z"
   },
   {
    "duration": 278,
    "start_time": "2024-01-22T09:56:07.682Z"
   },
   {
    "duration": 262,
    "start_time": "2024-01-22T09:56:07.963Z"
   },
   {
    "duration": 18,
    "start_time": "2024-01-22T09:56:08.228Z"
   },
   {
    "duration": 265,
    "start_time": "2024-01-22T09:56:08.247Z"
   },
   {
    "duration": 8,
    "start_time": "2024-01-22T09:56:08.513Z"
   },
   {
    "duration": 40,
    "start_time": "2024-01-22T09:56:08.523Z"
   },
   {
    "duration": 30,
    "start_time": "2024-01-22T09:56:08.564Z"
   },
   {
    "duration": 24,
    "start_time": "2024-01-22T09:56:08.596Z"
   },
   {
    "duration": 47,
    "start_time": "2024-01-22T09:56:08.622Z"
   },
   {
    "duration": 317,
    "start_time": "2024-01-22T09:56:08.671Z"
   },
   {
    "duration": 182,
    "start_time": "2024-01-22T09:56:08.990Z"
   },
   {
    "duration": 30,
    "start_time": "2024-01-22T09:56:09.173Z"
   },
   {
    "duration": 8,
    "start_time": "2024-01-22T09:56:09.205Z"
   },
   {
    "duration": 12,
    "start_time": "2024-01-22T09:56:09.214Z"
   },
   {
    "duration": 22,
    "start_time": "2024-01-22T09:56:09.227Z"
   },
   {
    "duration": 66,
    "start_time": "2024-01-22T09:56:09.251Z"
   },
   {
    "duration": 148,
    "start_time": "2024-01-22T09:56:09.319Z"
   },
   {
    "duration": 394,
    "start_time": "2024-01-22T09:56:09.468Z"
   },
   {
    "duration": 4,
    "start_time": "2024-01-22T09:56:09.863Z"
   },
   {
    "duration": 13,
    "start_time": "2024-01-22T09:56:09.870Z"
   },
   {
    "duration": 142,
    "start_time": "2024-01-22T09:56:09.884Z"
   },
   {
    "duration": 1143,
    "start_time": "2024-01-22T16:18:25.734Z"
   },
   {
    "duration": 85,
    "start_time": "2024-01-22T16:18:26.878Z"
   },
   {
    "duration": 28,
    "start_time": "2024-01-22T16:18:26.964Z"
   },
   {
    "duration": 13,
    "start_time": "2024-01-22T16:18:26.994Z"
   },
   {
    "duration": 45,
    "start_time": "2024-01-22T16:18:27.008Z"
   },
   {
    "duration": 6,
    "start_time": "2024-01-22T16:18:27.055Z"
   },
   {
    "duration": 226,
    "start_time": "2024-01-22T16:18:27.063Z"
   },
   {
    "duration": 173,
    "start_time": "2024-01-22T16:18:27.290Z"
   },
   {
    "duration": 294,
    "start_time": "2024-01-22T16:18:27.465Z"
   },
   {
    "duration": 282,
    "start_time": "2024-01-22T16:18:27.763Z"
   },
   {
    "duration": 10,
    "start_time": "2024-01-22T16:18:28.047Z"
   },
   {
    "duration": 309,
    "start_time": "2024-01-22T16:18:28.059Z"
   },
   {
    "duration": 14,
    "start_time": "2024-01-22T16:18:28.370Z"
   },
   {
    "duration": 24,
    "start_time": "2024-01-22T16:18:28.386Z"
   },
   {
    "duration": 45,
    "start_time": "2024-01-22T16:18:28.412Z"
   },
   {
    "duration": 15,
    "start_time": "2024-01-22T16:18:28.459Z"
   },
   {
    "duration": 26,
    "start_time": "2024-01-22T16:18:28.476Z"
   },
   {
    "duration": 372,
    "start_time": "2024-01-22T16:18:28.503Z"
   },
   {
    "duration": 184,
    "start_time": "2024-01-22T16:18:28.876Z"
   },
   {
    "duration": 32,
    "start_time": "2024-01-22T16:18:29.061Z"
   },
   {
    "duration": 9,
    "start_time": "2024-01-22T16:18:29.095Z"
   },
   {
    "duration": 5,
    "start_time": "2024-01-22T16:18:29.105Z"
   },
   {
    "duration": 9,
    "start_time": "2024-01-22T16:18:29.111Z"
   },
   {
    "duration": 37,
    "start_time": "2024-01-22T16:18:29.121Z"
   },
   {
    "duration": 159,
    "start_time": "2024-01-22T16:18:29.159Z"
   },
   {
    "duration": 431,
    "start_time": "2024-01-22T16:18:29.319Z"
   },
   {
    "duration": 4,
    "start_time": "2024-01-22T16:18:29.751Z"
   },
   {
    "duration": 8,
    "start_time": "2024-01-22T16:18:29.758Z"
   },
   {
    "duration": 155,
    "start_time": "2024-01-22T16:18:29.768Z"
   },
   {
    "duration": 1076,
    "start_time": "2024-01-22T16:28:41.725Z"
   },
   {
    "duration": 81,
    "start_time": "2024-01-22T16:28:42.803Z"
   },
   {
    "duration": 28,
    "start_time": "2024-01-22T16:28:42.886Z"
   },
   {
    "duration": 12,
    "start_time": "2024-01-22T16:28:42.916Z"
   },
   {
    "duration": 28,
    "start_time": "2024-01-22T16:28:42.930Z"
   },
   {
    "duration": 6,
    "start_time": "2024-01-22T16:28:42.960Z"
   },
   {
    "duration": 169,
    "start_time": "2024-01-22T16:28:42.968Z"
   },
   {
    "duration": 145,
    "start_time": "2024-01-22T16:28:43.139Z"
   },
   {
    "duration": 291,
    "start_time": "2024-01-22T16:28:43.286Z"
   },
   {
    "duration": 282,
    "start_time": "2024-01-22T16:28:43.580Z"
   },
   {
    "duration": 9,
    "start_time": "2024-01-22T16:28:43.864Z"
   },
   {
    "duration": 280,
    "start_time": "2024-01-22T16:28:43.875Z"
   },
   {
    "duration": 9,
    "start_time": "2024-01-22T16:28:44.157Z"
   },
   {
    "duration": 27,
    "start_time": "2024-01-22T16:28:44.168Z"
   },
   {
    "duration": 25,
    "start_time": "2024-01-22T16:28:44.197Z"
   },
   {
    "duration": 32,
    "start_time": "2024-01-22T16:28:44.224Z"
   },
   {
    "duration": 36,
    "start_time": "2024-01-22T16:28:44.258Z"
   },
   {
    "duration": 375,
    "start_time": "2024-01-22T16:28:44.296Z"
   },
   {
    "duration": 192,
    "start_time": "2024-01-22T16:28:44.673Z"
   },
   {
    "duration": 33,
    "start_time": "2024-01-22T16:28:44.867Z"
   },
   {
    "duration": 18,
    "start_time": "2024-01-22T16:28:44.902Z"
   },
   {
    "duration": 28,
    "start_time": "2024-01-22T16:28:44.922Z"
   },
   {
    "duration": 13,
    "start_time": "2024-01-22T16:28:44.952Z"
   },
   {
    "duration": 10,
    "start_time": "2024-01-22T16:28:44.967Z"
   },
   {
    "duration": 178,
    "start_time": "2024-01-22T16:28:44.978Z"
   },
   {
    "duration": 449,
    "start_time": "2024-01-22T16:28:45.157Z"
   },
   {
    "duration": 4,
    "start_time": "2024-01-22T16:28:45.607Z"
   },
   {
    "duration": 26,
    "start_time": "2024-01-22T16:28:45.614Z"
   },
   {
    "duration": 147,
    "start_time": "2024-01-22T16:28:45.641Z"
   }
  ],
  "kernelspec": {
   "display_name": "Python 3 (ipykernel)",
   "language": "python",
   "name": "python3"
  },
  "language_info": {
   "codemirror_mode": {
    "name": "ipython",
    "version": 3
   },
   "file_extension": ".py",
   "mimetype": "text/x-python",
   "name": "python",
   "nbconvert_exporter": "python",
   "pygments_lexer": "ipython3",
   "version": "3.11.7"
  },
  "toc": {
   "base_numbering": 1,
   "nav_menu": {},
   "number_sections": true,
   "sideBar": true,
   "skip_h1_title": true,
   "title_cell": "Table of Contents",
   "title_sidebar": "Contents",
   "toc_cell": false,
   "toc_position": {
    "height": "553px",
    "left": "71px",
    "top": "111.141px",
    "width": "286px"
   },
   "toc_section_display": true,
   "toc_window_display": true
  }
 },
 "nbformat": 4,
 "nbformat_minor": 5
}
