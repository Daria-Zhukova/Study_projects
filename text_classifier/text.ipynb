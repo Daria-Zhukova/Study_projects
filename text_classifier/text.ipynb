{
 "cells": [
  {
   "cell_type": "markdown",
   "id": "ab35499f-f450-4bfa-9d67-2f075ecb28ab",
   "metadata": {},
   "source": [
    "# Классификация текстов"
   ]
  },
  {
   "cell_type": "markdown",
   "id": "8aa2e2a5-f21a-45db-93b0-84556178a4bd",
   "metadata": {},
   "source": [
    "Интернет-магазин «Викишоп» запускает новый сервис. Теперь пользователи могут редактировать и дополнять описания товаров, как в вики-сообществах. То есть клиенты предлагают свои правки и комментируют изменения других. Магазину нужен инструмент, который будет искать токсичные комментарии и отправлять их на модерацию. \n",
    "\n",
    "Наша задача обучить модель классифицировать комментарии на позитивные и негативные."
   ]
  },
  {
   "cell_type": "code",
   "execution_count": 1,
   "id": "7324f87b-def5-47d5-98a9-5075384b6235",
   "metadata": {},
   "outputs": [],
   "source": [
    "#импортируем библиотеки\n",
    "import pandas as pd\n",
    "import spacy\n",
    "import re\n",
    "\n",
    "from tqdm.notebook import tqdm\n",
    "\n",
    "from sklearn.model_selection import train_test_split\n",
    "from sklearn.feature_extraction.text import TfidfVectorizer \n",
    "from sklearn.linear_model import LogisticRegression\n",
    "from sklearn.neighbors import KNeighborsClassifier \n",
    "from sklearn.svm import SVC\n",
    "from sklearn.tree import DecisionTreeClassifier\n",
    "from sklearn.metrics import f1_score\n",
    "\n",
    "import warnings\n",
    "warnings.filterwarnings('ignore')\n",
    "\n",
    "RANDOM_STATE=898"
   ]
  },
  {
   "cell_type": "markdown",
   "id": "0247b100-5d42-4fc2-b1d2-319f7e535f87",
   "metadata": {},
   "source": [
    "## Подготовка данных"
   ]
  },
  {
   "cell_type": "code",
   "execution_count": 2,
   "id": "7d68ede6-b3bf-4590-8bc2-7550b9134f65",
   "metadata": {},
   "outputs": [
    {
     "data": {
      "text/html": [
       "<div>\n",
       "<style scoped>\n",
       "    .dataframe tbody tr th:only-of-type {\n",
       "        vertical-align: middle;\n",
       "    }\n",
       "\n",
       "    .dataframe tbody tr th {\n",
       "        vertical-align: top;\n",
       "    }\n",
       "\n",
       "    .dataframe thead th {\n",
       "        text-align: right;\n",
       "    }\n",
       "</style>\n",
       "<table border=\"1\" class=\"dataframe\">\n",
       "  <thead>\n",
       "    <tr style=\"text-align: right;\">\n",
       "      <th></th>\n",
       "      <th>Unnamed: 0</th>\n",
       "      <th>text</th>\n",
       "      <th>toxic</th>\n",
       "    </tr>\n",
       "  </thead>\n",
       "  <tbody>\n",
       "    <tr>\n",
       "      <th>0</th>\n",
       "      <td>0</td>\n",
       "      <td>Explanation\\nWhy the edits made under my usern...</td>\n",
       "      <td>0</td>\n",
       "    </tr>\n",
       "    <tr>\n",
       "      <th>1</th>\n",
       "      <td>1</td>\n",
       "      <td>D'aww! He matches this background colour I'm s...</td>\n",
       "      <td>0</td>\n",
       "    </tr>\n",
       "    <tr>\n",
       "      <th>2</th>\n",
       "      <td>2</td>\n",
       "      <td>Hey man, I'm really not trying to edit war. It...</td>\n",
       "      <td>0</td>\n",
       "    </tr>\n",
       "    <tr>\n",
       "      <th>3</th>\n",
       "      <td>3</td>\n",
       "      <td>\"\\nMore\\nI can't make any real suggestions on ...</td>\n",
       "      <td>0</td>\n",
       "    </tr>\n",
       "    <tr>\n",
       "      <th>4</th>\n",
       "      <td>4</td>\n",
       "      <td>You, sir, are my hero. Any chance you remember...</td>\n",
       "      <td>0</td>\n",
       "    </tr>\n",
       "  </tbody>\n",
       "</table>\n",
       "</div>"
      ],
      "text/plain": [
       "   Unnamed: 0                                               text  toxic\n",
       "0           0  Explanation\\nWhy the edits made under my usern...      0\n",
       "1           1  D'aww! He matches this background colour I'm s...      0\n",
       "2           2  Hey man, I'm really not trying to edit war. It...      0\n",
       "3           3  \"\\nMore\\nI can't make any real suggestions on ...      0\n",
       "4           4  You, sir, are my hero. Any chance you remember...      0"
      ]
     },
     "execution_count": 2,
     "metadata": {},
     "output_type": "execute_result"
    }
   ],
   "source": [
    "data = pd.read_csv('/datasets/toxic_comments.csv') #загрузка данных\n",
    "data.head()"
   ]
  },
  {
   "cell_type": "code",
   "execution_count": 3,
   "id": "c1dec16f-dd2b-4e97-b299-efc08b62935d",
   "metadata": {},
   "outputs": [
    {
     "data": {
      "text/plain": [
       "(159292, 3)"
      ]
     },
     "execution_count": 3,
     "metadata": {},
     "output_type": "execute_result"
    }
   ],
   "source": [
    "data.shape"
   ]
  },
  {
   "cell_type": "code",
   "execution_count": 4,
   "id": "936781e9-1550-40bc-a5f5-678c7decb830",
   "metadata": {
    "scrolled": true
   },
   "outputs": [
    {
     "data": {
      "text/plain": [
       "Unnamed: 0    0\n",
       "text          0\n",
       "toxic         0\n",
       "dtype: int64"
      ]
     },
     "execution_count": 4,
     "metadata": {},
     "output_type": "execute_result"
    }
   ],
   "source": [
    "data.isna().sum()"
   ]
  },
  {
   "cell_type": "code",
   "execution_count": 5,
   "id": "dfeb3e28",
   "metadata": {},
   "outputs": [
    {
     "data": {
      "text/plain": [
       "0    143106\n",
       "1     16186\n",
       "Name: toxic, dtype: int64"
      ]
     },
     "execution_count": 5,
     "metadata": {},
     "output_type": "execute_result"
    }
   ],
   "source": [
    "data['toxic'].value_counts()"
   ]
  },
  {
   "cell_type": "markdown",
   "id": "025637b4-ccea-4178-aa84-dffb1a110a36",
   "metadata": {},
   "source": [
    "У нас 159292 классифицированных комментариев, пропусков нет. Виден дисбаланс классов. Нетоксичных комментариев в 9 раз больше, чем токсичных."
   ]
  },
  {
   "cell_type": "code",
   "execution_count": 6,
   "id": "56f4bfeb-a47a-45a8-9508-2abd39457be4",
   "metadata": {},
   "outputs": [],
   "source": [
    "nlp = spacy.load(\"en_core_web_sm\") #создание класса лемматизации"
   ]
  },
  {
   "cell_type": "code",
   "execution_count": 7,
   "id": "088198c0-06db-4bb4-a604-a69dff7d3f21",
   "metadata": {},
   "outputs": [],
   "source": [
    "def clear_text(text): #функция очистки текста от лишних символов\n",
    "    text = text.lower()\n",
    "    text = re.sub(r'[^a-z ]', ' ', text) \n",
    "    return (\" \".join(text.split()))"
   ]
  },
  {
   "cell_type": "code",
   "execution_count": 8,
   "id": "6878e95f-7543-4574-8ce5-fdc6ca205809",
   "metadata": {},
   "outputs": [],
   "source": [
    "def lemmatize(text): #фукция лемматизации\n",
    "    text = clear_text(text)\n",
    "    doc = nlp(text)\n",
    "    return ' '.join([token.lemma_ for token in doc])"
   ]
  },
  {
   "cell_type": "code",
   "execution_count": 9,
   "id": "9a41cdee-36ad-4a18-8d3f-aa9123c22bfd",
   "metadata": {},
   "outputs": [
    {
     "data": {
      "application/vnd.jupyter.widget-view+json": {
       "model_id": "0ba1b91c53e747a7bfb1d908eaa7f098",
       "version_major": 2,
       "version_minor": 0
      },
      "text/plain": [
       "  0%|          | 0/159292 [00:00<?, ?it/s]"
      ]
     },
     "metadata": {},
     "output_type": "display_data"
    }
   ],
   "source": [
    "#проводим лемматизацию\n",
    "tqdm.pandas()\n",
    "data['lemm']= data['text'].progress_apply(lemmatize)"
   ]
  },
  {
   "cell_type": "code",
   "execution_count": 10,
   "id": "146abdc4-af39-4ebe-8ce9-597ead27e5b0",
   "metadata": {},
   "outputs": [
    {
     "data": {
      "text/plain": [
       "0    explanation why the edit make under my usernam...\n",
       "1    d aww he match this background colour I m seem...\n",
       "2    hey man I m really not try to edit war it s ju...\n",
       "3    more I can t make any real suggestion on impro...\n",
       "4    you sir be my hero any chance you remember wha...\n",
       "5    congratulation from I as well use the tool wel...\n",
       "6         cocksucker before you piss around on my work\n",
       "7    your vandalism to the matt shirvington article...\n",
       "8    sorry if the word nonsense be offensive to you...\n",
       "9    alignment on this subject and which be contrar...\n",
       "Name: lemm, dtype: object"
      ]
     },
     "execution_count": 10,
     "metadata": {},
     "output_type": "execute_result"
    }
   ],
   "source": [
    "data['lemm'].head(10)"
   ]
  },
  {
   "cell_type": "markdown",
   "id": "d7a28608-a189-4fb5-9e5a-ba67b0844ceb",
   "metadata": {},
   "source": [
    "Мы подготовили данные к обучению. Очистили и лемматизировали тексты."
   ]
  },
  {
   "cell_type": "markdown",
   "id": "b50ea1fe-58b9-4f28-a199-fde979afbc04",
   "metadata": {},
   "source": [
    "## Обучение моделей"
   ]
  },
  {
   "cell_type": "code",
   "execution_count": 11,
   "id": "f71db1e5-f62d-4a33-8884-e15c821cc4a2",
   "metadata": {},
   "outputs": [],
   "source": [
    "#разбиение на выборки\n",
    "X_train, X_valid_test, y_train, y_valid_test = train_test_split(\n",
    "    data['lemm'],\n",
    "    data['toxic'],\n",
    "    test_size = 0.4, \n",
    "    random_state = RANDOM_STATE,\n",
    "    stratify = data['toxic'])\n",
    "\n",
    "X_valid, X_test, y_valid, y_test = train_test_split(\n",
    "    X_valid_test,\n",
    "    y_valid_test,\n",
    "    test_size = 0.5, \n",
    "    random_state = RANDOM_STATE,\n",
    "    stratify = y_valid_test)"
   ]
  },
  {
   "cell_type": "code",
   "execution_count": 12,
   "id": "96ba7fbb-f93f-46ec-ae31-15894a83a5d4",
   "metadata": {},
   "outputs": [],
   "source": [
    "count_tf_idf = TfidfVectorizer() #расчет величины TF-IDF\n",
    "tf_idf = count_tf_idf.fit_transform(X_train)\n",
    "tf_idf_valid = count_tf_idf.transform(X_valid)\n",
    "tf_idf_test = count_tf_idf.transform(X_test)"
   ]
  },
  {
   "cell_type": "markdown",
   "id": "a610687c-750c-4ac8-a2e4-8569609c837c",
   "metadata": {},
   "source": [
    "**LogisticRegression**"
   ]
  },
  {
   "cell_type": "code",
   "execution_count": 13,
   "id": "e6a16977-b706-4e32-9601-2a4974c8eef6",
   "metadata": {},
   "outputs": [
    {
     "name": "stdout",
     "output_type": "stream",
     "text": [
      "C= 11 score= 0.7812660833762223\n"
     ]
    }
   ],
   "source": [
    "c_best=5\n",
    "best_score=0\n",
    "for c in range(5, 15):\n",
    "    lr_model = LogisticRegression(C=c).fit(tf_idf, y_train)\n",
    "    preds = lr_model.predict(tf_idf_valid)\n",
    "    if f1_score(y_valid, preds) > best_score:\n",
    "        c_best = c\n",
    "        best_score = f1_score(y_valid, preds)\n",
    "        best_model_lr = lr_model\n",
    "print('C=', c_best, 'score=', best_score) "
   ]
  },
  {
   "cell_type": "markdown",
   "id": "e01af7aa-5403-42de-8e2d-ba71cd017f98",
   "metadata": {},
   "source": [
    "Модель логистической регрессии с параметром С=11 дает метрику F1 0.78. Подходит под условия задачи."
   ]
  },
  {
   "cell_type": "markdown",
   "id": "6fc5b503-efbb-4dae-b333-dfd50414c6eb",
   "metadata": {},
   "source": [
    "**KNeighborsClassifier**"
   ]
  },
  {
   "cell_type": "code",
   "execution_count": 14,
   "id": "29dbf2fa-5c9f-4d88-a597-62cd44b814ff",
   "metadata": {},
   "outputs": [
    {
     "name": "stdout",
     "output_type": "stream",
     "text": [
      "n_neighbors= 6 score= 0.2292455893494967\n",
      "n_neighbors= 7 score= 0.21593026750826572\n",
      "n_neighbors= 8 score= 0.32047773077880076\n",
      "n_neighbors= 9 score= 0.5499999999999999\n",
      "n_neighbors= 10 score= 0.5320794148380356\n"
     ]
    }
   ],
   "source": [
    "for k in range(6,11):\n",
    "    knn_model = KNeighborsClassifier(n_neighbors=k).fit(tf_idf, y_train)\n",
    "    preds = knn_model.predict(tf_idf_valid)\n",
    "    print('n_neighbors=', k, 'score=', f1_score(y_valid, preds))"
   ]
  },
  {
   "cell_type": "markdown",
   "id": "a2b8de63-f54d-48be-8556-4e91880816e6",
   "metadata": {},
   "source": [
    "Метод к ближайших соседий дает очень низкую метрику. Не подходит для решения задачи."
   ]
  },
  {
   "cell_type": "markdown",
   "id": "6f7e4ccd-e111-44e1-b489-5681aea410ea",
   "metadata": {},
   "source": [
    "**DecisionTreeClassifier**"
   ]
  },
  {
   "cell_type": "code",
   "execution_count": 15,
   "id": "41f2ed44-dddf-44f4-821e-a5613e909a00",
   "metadata": {
    "scrolled": true
   },
   "outputs": [
    {
     "name": "stdout",
     "output_type": "stream",
     "text": [
      "min_samples_split= 2 min_samples_leaf= 2 score= 0.6953664147223135\n",
      "min_samples_split= 2 min_samples_leaf= 3 score= 0.6870179948586117\n",
      "min_samples_split= 2 min_samples_leaf= 4 score= 0.6936026936026937\n",
      "min_samples_split= 3 min_samples_leaf= 2 score= 0.6953664147223135\n",
      "min_samples_split= 3 min_samples_leaf= 3 score= 0.6870179948586117\n",
      "min_samples_split= 3 min_samples_leaf= 4 score= 0.6936026936026937\n",
      "min_samples_split= 4 min_samples_leaf= 2 score= 0.6953664147223135\n",
      "min_samples_split= 4 min_samples_leaf= 3 score= 0.6870179948586117\n",
      "min_samples_split= 4 min_samples_leaf= 4 score= 0.6936026936026937\n"
     ]
    }
   ],
   "source": [
    "for min_samples_split in range(2, 5):\n",
    "    for min_samples_leaf in range(2, 5):\n",
    "            model = DecisionTreeClassifier(\n",
    "                random_state=RANDOM_STATE,\n",
    "                min_samples_split=min_samples_split,\n",
    "                min_samples_leaf=min_samples_leaf\n",
    "            )\n",
    "            model.fit(tf_idf, y_train)\n",
    "            preds = model.predict(tf_idf_valid)\n",
    "            print('min_samples_split=', min_samples_split, 'min_samples_leaf=', min_samples_leaf, 'score=', f1_score(y_valid, preds))"
   ]
  },
  {
   "cell_type": "markdown",
   "id": "8d458bbc-89e5-4e66-87e4-a38e6271ea8e",
   "metadata": {},
   "source": [
    "Метрика, которую показывает дерево решений, не удовлетворяет условиям задачи."
   ]
  },
  {
   "cell_type": "markdown",
   "id": "65f9ba90-b5ff-4c19-94db-1550775ace20",
   "metadata": {},
   "source": [
    "**Метод опорных векторов**"
   ]
  },
  {
   "cell_type": "code",
   "execution_count": 16,
   "id": "be7ba3dd-022d-432e-8d49-6323716a6463",
   "metadata": {},
   "outputs": [
    {
     "name": "stdout",
     "output_type": "stream",
     "text": [
      "score= 0.7485185185185186\n"
     ]
    }
   ],
   "source": [
    "model_svc = SVC()\n",
    "model_svc.fit(tf_idf, y_train)\n",
    "preds = model_svc.predict(tf_idf_valid)\n",
    "print('score=', f1_score(y_valid, preds))"
   ]
  },
  {
   "cell_type": "markdown",
   "id": "b536c706-02e6-4f6d-9d63-8157a968c525",
   "metadata": {},
   "source": [
    "Метод опорных векторов с начальными параметрами показывает метрику, близкую к нужной нам. Изменим значение ядра. Попробуем линейное ядро."
   ]
  },
  {
   "cell_type": "code",
   "execution_count": 17,
   "id": "c12a5c6a-6ff2-4552-b051-8033be6bc4e5",
   "metadata": {},
   "outputs": [
    {
     "name": "stdout",
     "output_type": "stream",
     "text": [
      "score= 0.7693123563726356\n"
     ]
    }
   ],
   "source": [
    "model_svcl = SVC(kernel='linear')\n",
    "model_svcl.fit(tf_idf, y_train)\n",
    "preds = model_svcl.predict(tf_idf_valid)\n",
    "print('score=', f1_score(y_valid, preds))"
   ]
  },
  {
   "cell_type": "markdown",
   "id": "972777d7-b0e6-4503-b342-da2f2b532437",
   "metadata": {},
   "source": [
    "Мы получили метрику F1=0.77. Это удовлетворяет условию задачи.\n",
    "\n",
    "Лучшая метрика у модели логистической регрессии с параметром С=11. Проверим на тестовой выборке."
   ]
  },
  {
   "cell_type": "code",
   "execution_count": 18,
   "id": "e85f0ea3-a673-44ab-b984-249e1f578a94",
   "metadata": {},
   "outputs": [
    {
     "name": "stdout",
     "output_type": "stream",
     "text": [
      "score= 0.7874588602113286\n"
     ]
    }
   ],
   "source": [
    "preds = best_model_lr.predict(tf_idf_test)\n",
    "print('score=', f1_score(y_test, preds))"
   ]
  },
  {
   "cell_type": "markdown",
   "id": "80394b90-fcc3-424d-b051-6cd3377fb9d6",
   "metadata": {},
   "source": [
    "Получили метрику, которая выше 0,75. Данная модель решает поставленную задачу."
   ]
  },
  {
   "cell_type": "markdown",
   "id": "d53b69ac-f314-43d4-a19f-fd1e6f06c174",
   "metadata": {},
   "source": [
    "## Вывод"
   ]
  },
  {
   "cell_type": "markdown",
   "id": "9fcebe3b-ce95-4bff-a7b4-4d3700839510",
   "metadata": {},
   "source": [
    "У нас был классифицированный текст.\n",
    "\n",
    "Мы предобработали его для обучения модели: очистили текст и лемматизировали его.\n",
    "\n",
    "Далее обучили несколько моделей. Нужную метрику F1 показала модель логистической регрессии с параметром С=11 (0.78)."
   ]
  }
 ],
 "metadata": {
  "ExecuteTimeLog": [
   {
    "duration": 4705,
    "start_time": "2024-05-30T17:18:36.511Z"
   },
   {
    "duration": 2093,
    "start_time": "2024-05-30T17:18:41.218Z"
   },
   {
    "duration": 3,
    "start_time": "2024-05-30T17:18:43.313Z"
   },
   {
    "duration": 55,
    "start_time": "2024-05-30T17:18:43.318Z"
   },
   {
    "duration": 444,
    "start_time": "2024-05-30T17:18:43.376Z"
   },
   {
    "duration": 3,
    "start_time": "2024-05-30T17:18:43.821Z"
   },
   {
    "duration": 3,
    "start_time": "2024-05-30T17:18:43.825Z"
   },
   {
    "duration": 3987,
    "start_time": "2024-06-01T07:57:28.383Z"
   },
   {
    "duration": 2355,
    "start_time": "2024-06-01T07:57:32.372Z"
   },
   {
    "duration": 4,
    "start_time": "2024-06-01T07:57:34.729Z"
   },
   {
    "duration": 38,
    "start_time": "2024-06-01T07:57:34.735Z"
   },
   {
    "duration": 19,
    "start_time": "2024-06-01T07:57:34.776Z"
   },
   {
    "duration": 564,
    "start_time": "2024-06-01T07:57:34.797Z"
   },
   {
    "duration": 4,
    "start_time": "2024-06-01T07:57:35.362Z"
   },
   {
    "duration": 21,
    "start_time": "2024-06-01T07:57:35.368Z"
   },
   {
    "duration": 57424,
    "start_time": "2024-06-01T07:57:35.391Z"
   },
   {
    "duration": 0,
    "start_time": "2024-06-01T07:58:32.818Z"
   },
   {
    "duration": 0,
    "start_time": "2024-06-01T07:58:32.819Z"
   },
   {
    "duration": 0,
    "start_time": "2024-06-01T07:58:32.821Z"
   },
   {
    "duration": 0,
    "start_time": "2024-06-01T07:58:32.822Z"
   },
   {
    "duration": 0,
    "start_time": "2024-06-01T07:58:32.823Z"
   },
   {
    "duration": 0,
    "start_time": "2024-06-01T07:58:32.824Z"
   },
   {
    "duration": 0,
    "start_time": "2024-06-01T07:58:32.825Z"
   },
   {
    "duration": 0,
    "start_time": "2024-06-01T07:58:32.826Z"
   },
   {
    "duration": 0,
    "start_time": "2024-06-01T07:58:32.827Z"
   },
   {
    "duration": 3915,
    "start_time": "2024-06-01T08:01:37.769Z"
   },
   {
    "duration": 963,
    "start_time": "2024-06-01T08:01:41.687Z"
   },
   {
    "duration": 4,
    "start_time": "2024-06-01T08:01:42.651Z"
   },
   {
    "duration": 31,
    "start_time": "2024-06-01T08:01:42.661Z"
   },
   {
    "duration": 10,
    "start_time": "2024-06-01T08:01:42.694Z"
   },
   {
    "duration": 544,
    "start_time": "2024-06-01T08:01:42.705Z"
   },
   {
    "duration": 4,
    "start_time": "2024-06-01T08:01:43.251Z"
   },
   {
    "duration": 54,
    "start_time": "2024-06-01T08:01:43.256Z"
   },
   {
    "duration": 157178,
    "start_time": "2024-06-01T08:01:43.312Z"
   },
   {
    "duration": 0,
    "start_time": "2024-06-01T08:04:20.492Z"
   },
   {
    "duration": 0,
    "start_time": "2024-06-01T08:04:20.493Z"
   },
   {
    "duration": 0,
    "start_time": "2024-06-01T08:04:20.494Z"
   },
   {
    "duration": 0,
    "start_time": "2024-06-01T08:04:20.495Z"
   },
   {
    "duration": 0,
    "start_time": "2024-06-01T08:04:20.496Z"
   },
   {
    "duration": 0,
    "start_time": "2024-06-01T08:04:20.497Z"
   },
   {
    "duration": 0,
    "start_time": "2024-06-01T08:04:20.498Z"
   },
   {
    "duration": 0,
    "start_time": "2024-06-01T08:04:20.499Z"
   },
   {
    "duration": 0,
    "start_time": "2024-06-01T08:04:20.501Z"
   },
   {
    "duration": 0,
    "start_time": "2024-06-01T08:04:20.502Z"
   },
   {
    "duration": 4,
    "start_time": "2024-06-01T08:04:21.753Z"
   },
   {
    "duration": 3866,
    "start_time": "2024-06-01T08:04:32.731Z"
   },
   {
    "duration": 958,
    "start_time": "2024-06-01T08:04:36.599Z"
   },
   {
    "duration": 4,
    "start_time": "2024-06-01T08:04:37.560Z"
   },
   {
    "duration": 39,
    "start_time": "2024-06-01T08:04:37.566Z"
   },
   {
    "duration": 10,
    "start_time": "2024-06-01T08:04:37.608Z"
   },
   {
    "duration": 576,
    "start_time": "2024-06-01T08:04:37.621Z"
   },
   {
    "duration": 3,
    "start_time": "2024-06-01T08:04:38.199Z"
   },
   {
    "duration": 14,
    "start_time": "2024-06-01T08:04:38.204Z"
   },
   {
    "duration": 2501086,
    "start_time": "2024-06-01T08:04:38.219Z"
   },
   {
    "duration": 6,
    "start_time": "2024-06-01T08:46:19.307Z"
   },
   {
    "duration": 111,
    "start_time": "2024-06-01T08:46:19.315Z"
   },
   {
    "duration": 7646,
    "start_time": "2024-06-01T08:46:19.428Z"
   },
   {
    "duration": 61,
    "start_time": "2024-06-01T08:46:27.076Z"
   },
   {
    "duration": 0,
    "start_time": "2024-06-01T08:46:27.139Z"
   },
   {
    "duration": 0,
    "start_time": "2024-06-01T08:46:27.141Z"
   },
   {
    "duration": 0,
    "start_time": "2024-06-01T08:46:27.142Z"
   },
   {
    "duration": 0,
    "start_time": "2024-06-01T08:46:27.144Z"
   },
   {
    "duration": 0,
    "start_time": "2024-06-01T08:46:27.146Z"
   },
   {
    "duration": 71,
    "start_time": "2024-06-01T08:50:25.383Z"
   },
   {
    "duration": 55,
    "start_time": "2024-06-01T08:50:30.331Z"
   },
   {
    "duration": 56,
    "start_time": "2024-06-01T08:50:36.695Z"
   },
   {
    "duration": 465535,
    "start_time": "2024-06-01T08:50:40.428Z"
   },
   {
    "duration": 329887,
    "start_time": "2024-06-01T09:00:47.218Z"
   },
   {
    "duration": 4042,
    "start_time": "2024-06-01T09:06:23.910Z"
   },
   {
    "duration": 982,
    "start_time": "2024-06-01T09:06:27.954Z"
   },
   {
    "duration": 5,
    "start_time": "2024-06-01T09:06:28.938Z"
   },
   {
    "duration": 46,
    "start_time": "2024-06-01T09:06:28.945Z"
   },
   {
    "duration": 8,
    "start_time": "2024-06-01T09:06:28.995Z"
   },
   {
    "duration": 565,
    "start_time": "2024-06-01T09:06:29.005Z"
   },
   {
    "duration": 4,
    "start_time": "2024-06-01T09:06:29.572Z"
   },
   {
    "duration": 16,
    "start_time": "2024-06-01T09:06:29.577Z"
   },
   {
    "duration": 2534080,
    "start_time": "2024-06-01T09:06:29.594Z"
   },
   {
    "duration": 5,
    "start_time": "2024-06-01T09:48:43.676Z"
   },
   {
    "duration": 118,
    "start_time": "2024-06-01T09:48:43.683Z"
   },
   {
    "duration": 7771,
    "start_time": "2024-06-01T09:48:43.803Z"
   },
   {
    "duration": 442808,
    "start_time": "2024-06-01T09:48:51.576Z"
   },
   {
    "duration": 982761,
    "start_time": "2024-06-01T09:56:14.387Z"
   },
   {
    "duration": 1416754,
    "start_time": "2024-06-01T10:12:37.150Z"
   },
   {
    "duration": 2795509,
    "start_time": "2024-06-01T10:36:13.907Z"
   },
   {
    "duration": 1400013,
    "start_time": "2024-06-01T11:22:49.418Z"
   },
   {
    "duration": 35,
    "start_time": "2024-06-01T11:46:09.433Z"
   },
   {
    "duration": 4146,
    "start_time": "2024-06-01T14:12:39.917Z"
   },
   {
    "duration": 985,
    "start_time": "2024-06-01T14:12:44.065Z"
   },
   {
    "duration": 3,
    "start_time": "2024-06-01T14:12:45.052Z"
   },
   {
    "duration": 65,
    "start_time": "2024-06-01T14:12:45.061Z"
   },
   {
    "duration": 51,
    "start_time": "2024-06-01T14:12:45.128Z"
   },
   {
    "duration": 556,
    "start_time": "2024-06-01T14:12:45.180Z"
   },
   {
    "duration": 3,
    "start_time": "2024-06-01T14:12:45.738Z"
   },
   {
    "duration": 5,
    "start_time": "2024-06-01T14:12:45.742Z"
   },
   {
    "duration": 2482369,
    "start_time": "2024-06-01T14:12:45.748Z"
   },
   {
    "duration": 9,
    "start_time": "2024-06-01T14:54:08.119Z"
   },
   {
    "duration": 114,
    "start_time": "2024-06-01T14:54:08.129Z"
   },
   {
    "duration": 7837,
    "start_time": "2024-06-01T14:54:08.244Z"
   },
   {
    "duration": 445382,
    "start_time": "2024-06-01T14:54:16.082Z"
   },
   {
    "duration": 946617,
    "start_time": "2024-06-01T15:01:41.467Z"
   },
   {
    "duration": 1331035,
    "start_time": "2024-06-01T15:17:28.086Z"
   },
   {
    "duration": 2722058,
    "start_time": "2024-06-01T15:39:39.123Z"
   },
   {
    "duration": 1364498,
    "start_time": "2024-06-01T16:25:01.183Z"
   },
   {
    "duration": 18,
    "start_time": "2024-06-01T16:47:45.683Z"
   }
  ],
  "kernelspec": {
   "display_name": "Python 3 (ipykernel)",
   "language": "python",
   "name": "python3"
  },
  "language_info": {
   "codemirror_mode": {
    "name": "ipython",
    "version": 3
   },
   "file_extension": ".py",
   "mimetype": "text/x-python",
   "name": "python",
   "nbconvert_exporter": "python",
   "pygments_lexer": "ipython3",
   "version": "3.11.7"
  },
  "toc": {
   "base_numbering": 1,
   "nav_menu": {},
   "number_sections": true,
   "sideBar": true,
   "skip_h1_title": true,
   "title_cell": "Table of Contents",
   "title_sidebar": "Contents",
   "toc_cell": false,
   "toc_position": {
    "height": "calc(100% - 180px)",
    "left": "10px",
    "top": "150px",
    "width": "165px"
   },
   "toc_section_display": true,
   "toc_window_display": true
  }
 },
 "nbformat": 4,
 "nbformat_minor": 5
}
